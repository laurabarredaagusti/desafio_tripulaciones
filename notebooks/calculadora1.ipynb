{
 "cells": [
  {
   "cell_type": "code",
   "execution_count": 1,
   "metadata": {},
   "outputs": [],
   "source": [
    "import pandas as pd"
   ]
  },
  {
   "cell_type": "code",
   "execution_count": null,
   "metadata": {},
   "outputs": [],
   "source": [
    "p = 3 # precio Kwh ----se consulta a la fuente directamente\n",
    "n = 3 # número horas/veces a la semana ----lo escribe el usuario\n",
    "aparato = # lo escribe el usuario\n"
   ]
  },
  {
   "cell_type": "code",
   "execution_count": null,
   "metadata": {},
   "outputs": [],
   "source": [
    "d = # precio que se paga al mes"
   ]
  },
  {
   "cell_type": "code",
   "execution_count": null,
   "metadata": {},
   "outputs": [],
   "source": [
    "if aparato == \"Aparatos de calefacción de espacios\": # es la potencia que emite\n",
    "  \n",
    "\n",
    "elif aparato == 'Calderas de combustible sólido': # no consume electricidad\n",
    "   \n",
    "   \n",
    "elif aparato == 'Secadoras de tambor domésticas':    # n es el número de ciclos (veces)\n",
    "    v = aparato['Weighted Annual Energy Consumption']\n",
    "    d = (v/365) * (1/24) * 0.75 * 4 * n * p\n",
    "    return d\n",
    "    \n",
    "    \n",
    "elif aparato == 'Unidades de ventilación residenciales':  # n es el número de horas\n",
    "    v = aparato['Annual Electricity Consumption']\n",
    "    d = (v/365) * (1/24) * 4 * n * p\n",
    "    return d\n",
    "\n",
    "elif aparato == 'Calentadores de agua':   # no conviene ajustar poniendo la n\n",
    "    v = aparato['Annual electricity consumption']\n",
    "    d =  (v/12) * p\n",
    "    return d\n",
    "\n",
    "elif aparato == 'Lavadoras-secadoras':  # n es el número de ciclos( un ciclo es poner una lavadora, poner 2 lavadoras son dos ciclos)\n",
    "    v_1 = aparato['Consumo en Ciclo Completo'] # ciclo completo = lavado y secado\n",
    "    v_2 = aparato['Consumo en Ciclo de Lavado'] # ciclo de lavado = solo lavado\n",
    "    d_1 = v_1 * (1/100) * 4 * n * p # precio lavado y secado\n",
    "    d_2 = v_2 * (1/100) * 4 * n * p # precio lavado\n",
    "    return d_1, d_2\n",
    "\n",
    "elif aparato == 'Lavadoras':   # n es el número de ciclos (veces)\n",
    "    v = aparato['Weighted energy consumption ']\n",
    "    d = v * (1/100) * 4 * n * p\n",
    "    return d\n",
    "\n",
    "elif aparato == 'Lavavajillas':   # n es el número de ciclos (veces)\n",
    "    v = aparato['Energy consumption']\n",
    "    d = v * (1/100) * 4 * n * p\n",
    "    return d\n",
    "\n",
    "elif aparato == 'campanas_extractoras':   # n corresponde al número de horas\n",
    "    v = aparato['Consumo anual de energía']\n",
    "    d =(v/365) * (1/24) * 4 * n * p\n",
    "    return d\n",
    "\n",
    "elif aparato == 'Frigoríficos, congeladores y aparatos para conservación de vinos':   # n corresponde al número de horas\n",
    "    v = aparato['Annual energy consumption']                                          # fridge 1 y 2\n",
    "    d =(v/12) * p\n",
    "    return d\n",
    "\n",
    "# elif aparato == 'professionalrefrigeratedstoragecabinets':   # n corresponde al número de horas\n",
    "#     v = aparato['Annual energy consumption']\n",
    "#     d =(v/365) * (1/24) * 4 * n * p\n",
    "#     return d\n",
    "\n",
    "elif aparato == 'Televisiones, monitores y otras pantallas':   # n corresponde al número de horas\n",
    "    v = aparato['Consumo_en_modo_encendido_en_el_rango_dinámico_normal_SDR']\n",
    "    d =(v/1000) * 4 * n * p\n",
    "    return d\n",
    "\n",
    "elif aparato == 'Acondicionadores de aire':   # n corresponde al número de horas\n",
    "    v = aparato['Carga de diseño']\n",
    "    d = v * 4 * n * p\n",
    "    return d\n",
    "\n",
    "\n",
    "elif aparato == 'Bombillas':   # n corresponde al número de horas\n",
    "    v = aparato['gasto modo on']\n",
    "    d = (v / 1000) * 4 * n * p\n",
    "    return d\n",
    "\n",
    "elif aparato == 'Hornos':   # n corresponde al número de ciclos\n",
    "    v = aparato['consumo energético por ciclo']\n",
    "    d = v * 4 * n * p\n",
    "    return d\n",
    "\n",
    "\n",
    "\n"
   ]
  },
  {
   "cell_type": "code",
   "execution_count": null,
   "metadata": {},
   "outputs": [],
   "source": [
    "con esto =[d = (v/365) * (1/24) * 4] * n * p\n",
    "los aparatos de: 'campanas_extractoras', 'Acondicionadores de aire' (* 365 * 24 )\n",
    "                 'Unidades de ventilación residenciales', 'bombillas' (* 0.365 * 24)\n",
    "                 'televisiones, monitores y otras pantallas', ( * 0.365 * 24 )\n",
    "                \n",
    " \n",
    "con esto =[d = v * (1/100) * 4 *] n * p   \n",
    "los aparatos de : 'Lavadoras-secadoras', 'Lavadoras', 'Lavavajillas',\n",
    "                    'Secadoras de tambor domésticas'(* (1/365) * (1/24) * 75)\n",
    "                    'hornos' ( * 100)\n",
    "\n",
    "\n",
    "con esto =  d =(v/12) * p\n",
    "los aparators de : 'Frigorificos', 'Calentadores de agua'\n"
   ]
  },
  {
   "cell_type": "code",
   "execution_count": null,
   "metadata": {},
   "outputs": [],
   "source": [
    "y_1 = precio_1 + d_1 * tiempo(años)  * s \n",
    "y_2 = precio_2 + d_2 * tiempo(años)  * s\n",
    "y_1 = y_2 nos da el tiempo en el que el dinero gastado es igual para los dos productos, a partir de aquí el producto que costó menos será más barato\n",
    "# este tiempo es en el que cuestan lo mismo ambos aparatos\n",
    "tiempo_coinciden = (precio_1 - precio2)* (1/(d_2 - d_1)) * (1/s)"
   ]
  },
  {
   "cell_type": "code",
   "execution_count": null,
   "metadata": {},
   "outputs": [],
   "source": [
    "# --------\n",
    "# --------"
   ]
  },
  {
   "cell_type": "code",
   "execution_count": null,
   "metadata": {},
   "outputs": [],
   "source": [
    "# los puntos iniciales de los que parten ambas rectas son:\n",
    "P_0_1 = (0, precio_1)\n",
    "P_0_2 = (0, precio_2)"
   ]
  },
  {
   "cell_type": "code",
   "execution_count": null,
   "metadata": {},
   "outputs": [],
   "source": [
    "# el punto en el que coinciden será:\n",
    "\n",
    "P_c = (tiempo_coinciden, precio_2 + d_2 * tiempo_coinciden * s ) ó P_c = (tiempo_coinciden, precio_1 + d_1 * tiempo_coinciden * s )\n",
    "da igual uno que otro"
   ]
  },
  {
   "cell_type": "code",
   "execution_count": null,
   "metadata": {},
   "outputs": [],
   "source": [
    "# el punto de cada aparato dos años después de coincidir será\n",
    "\n",
    "P_f_1 = (tiempo_coinciden + 2 ,precio_1 + d_1 * (tiempo_coinciden + 2) * s)\n",
    "P_f_2 = (tiempo_coinciden + 2, precio_2 + d_2 * (tiempo_coinciden + 2) * s)"
   ]
  },
  {
   "cell_type": "code",
   "execution_count": 3,
   "metadata": {},
   "outputs": [],
   "source": [
    "#"
   ]
  },
  {
   "cell_type": "code",
   "execution_count": null,
   "metadata": {},
   "outputs": [],
   "source": [
    "dinero= precio_1 + d_1 * 3 * tiempo(años)\n",
    "# dinero = precio_2 + d_2 * 3 * tiempo(años)# "
   ]
  },
  {
   "cell_type": "code",
   "execution_count": 13,
   "metadata": {},
   "outputs": [
    {
     "data": {
      "image/png": "[encoded data removed]",
      "text/plain": [
       "<Figure size 432x288 with 1 Axes>"
      ]
     },
     "metadata": {
      "needs_background": "light"
     },
     "output_type": "display_data"
    }
   ],
   "source": [
    "#Funcines Lineal.\n",
    "# def f(tiempo):\n",
    "#     return 300 + 1.7 * 3 * tiempo\n",
    "# def f1(tiempo):\n",
    "#     return 200 + 5 * 3 * tiempo\n",
    "\n",
    "#En esta variable se genra una lista a partir de los valores -10 y 10.\n",
    "#Todos estos valores seran los que tomara x.\n",
    "#tiempo = range(0, 15)\n",
    "\n",
    "#Con el metodo plot especificamos que función graficaremos.\n",
    "#El primer argumento es la variable con los valores de x.\n",
    "#El segundo argumento le pasamos todos estos valares a la función con ayuda de un bucle.\n",
    "# pyplot.plot(tiempo, [f(i) for i in tiempo])\n",
    "# pyplot.plot(tiempo, [f1(i) for i in tiempo])\n",
    "# #Establecemos el color de los ejes.\n",
    "# pyplot.axhline(0, color=\"black\")\n",
    "# pyplot.axvline(0, color=\"black\")\n",
    "\n",
    "#Especificamos los limites de los ejes.\n",
    "#pyplot.ylim(-110, 900)\n",
    "# Mostramos el grafico.\n",
    "#pyplot.show()"
   ]
  }
 ],
 "metadata": {
  "kernelspec": {
   "display_name": "Python 3.7.4 64-bit",
   "language": "python",
   "name": "python3"
  },
  "language_info": {
   "codemirror_mode": {
    "name": "ipython",
    "version": 3
   },
   "file_extension": ".py",
   "mimetype": "text/x-python",
   "name": "python",
   "nbconvert_exporter": "python",
   "pygments_lexer": "ipython3",
   "version": "3.7.4"
  },
  "orig_nbformat": 4,
  "vscode": {
   "interpreter": {
    "hash": "70b38634f151bc788305d78fa55f4f5eb67f51bd92b5405d2063f303c7241f5d"
   }
  }
 },
 "nbformat": 4,
 "nbformat_minor": 2
}
