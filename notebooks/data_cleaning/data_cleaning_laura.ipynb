{
 "cells": [
  {
   "cell_type": "code",
   "execution_count": 1,
   "metadata": {},
   "outputs": [],
   "source": [
    "import pandas as pd\n",
    "import numpy as np"
   ]
  },
  {
   "cell_type": "code",
   "execution_count": 2,
   "metadata": {},
   "outputs": [],
   "source": [
    "df = pd.read_csv('../../data/eprel/raw_data/localspaceheaters.csv')"
   ]
  },
  {
   "cell_type": "code",
   "execution_count": 4,
   "metadata": {},
   "outputs": [],
   "source": [
    "column_dict = {'Type':'Brand', 'Title':'Model', 'Content': 'Direct_heat_output', \n",
    "               'eclrow4': 'Indirect_heat_output', 'Content6': 'Energy_efficiency_index', 'Image': 'Label'}\n",
    "columns_drop = ['eclrow', 'eclrow3', 'eclrow5']"
   ]
  },
  {
   "cell_type": "code",
   "execution_count": 5,
   "metadata": {},
   "outputs": [],
   "source": [
    "def rename_and_drop(df, column_dict, columns_drop):\n",
    "    df.rename(columns=column_dict, inplace=True)\n",
    "    df.drop(columns=(columns_drop), axis=1, inplace=True)\n",
    "    return df"
   ]
  },
  {
   "cell_type": "code",
   "execution_count": 6,
   "metadata": {},
   "outputs": [
    {
     "data": {
      "text/html": [
       "<div>\n",
       "<style scoped>\n",
       "    .dataframe tbody tr th:only-of-type {\n",
       "        vertical-align: middle;\n",
       "    }\n",
       "\n",
       "    .dataframe tbody tr th {\n",
       "        vertical-align: top;\n",
       "    }\n",
       "\n",
       "    .dataframe thead th {\n",
       "        text-align: right;\n",
       "    }\n",
       "</style>\n",
       "<table border=\"1\" class=\"dataframe\">\n",
       "  <thead>\n",
       "    <tr style=\"text-align: right;\">\n",
       "      <th></th>\n",
       "      <th>Brand</th>\n",
       "      <th>Model</th>\n",
       "      <th>Direct_heat_output</th>\n",
       "      <th>Indirect_heat_output</th>\n",
       "      <th>Energy_efficiency_index</th>\n",
       "      <th>Label</th>\n",
       "    </tr>\n",
       "  </thead>\n",
       "  <tbody>\n",
       "    <tr>\n",
       "      <th>0</th>\n",
       "      <td>BESTAR INDUSTRIAL CO.,LTD.</td>\n",
       "      <td>PTC-1500TR</td>\n",
       "      <td>1,5</td>\n",
       "      <td>-</td>\n",
       "      <td>116</td>\n",
       "      <td>https://eprel.ec.europa.eu/assets/images/label...</td>\n",
       "    </tr>\n",
       "    <tr>\n",
       "      <th>1</th>\n",
       "      <td>BESTAR INDUSTRIAL CO.,LTD.</td>\n",
       "      <td>PTC-1500P1</td>\n",
       "      <td>1,2</td>\n",
       "      <td>-</td>\n",
       "      <td>110</td>\n",
       "      <td>https://eprel.ec.europa.eu/assets/images/label...</td>\n",
       "    </tr>\n",
       "    <tr>\n",
       "      <th>2</th>\n",
       "      <td>Dongguan Luying Plastic Hardware Products Co....</td>\n",
       "      <td>YND-2000D</td>\n",
       "      <td>1,9</td>\n",
       "      <td>-</td>\n",
       "      <td>114</td>\n",
       "      <td>https://eprel.ec.europa.eu/assets/images/label...</td>\n",
       "    </tr>\n",
       "    <tr>\n",
       "      <th>3</th>\n",
       "      <td>FULMO/IPG31</td>\n",
       "      <td>309020101</td>\n",
       "      <td>4,2</td>\n",
       "      <td>-</td>\n",
       "      <td>91</td>\n",
       "      <td>https://eprel.ec.europa.eu/assets/images/label...</td>\n",
       "    </tr>\n",
       "    <tr>\n",
       "      <th>4</th>\n",
       "      <td>FULMO/IPB30</td>\n",
       "      <td>309020102</td>\n",
       "      <td>4,2</td>\n",
       "      <td>-</td>\n",
       "      <td>91</td>\n",
       "      <td>https://eprel.ec.europa.eu/assets/images/label...</td>\n",
       "    </tr>\n",
       "  </tbody>\n",
       "</table>\n",
       "</div>"
      ],
      "text/plain": [
       "                                               Brand         Model  \\\n",
       "0                        BESTAR INDUSTRIAL CO.,LTD.    PTC-1500TR    \n",
       "1                        BESTAR INDUSTRIAL CO.,LTD.    PTC-1500P1    \n",
       "2   Dongguan Luying Plastic Hardware Products Co....    YND-2000D    \n",
       "3                                       FULMO/IPG31     309020101    \n",
       "4                                       FULMO/IPB30     309020102    \n",
       "\n",
       "  Direct_heat_output Indirect_heat_output  Energy_efficiency_index  \\\n",
       "0                1,5                    -                      116   \n",
       "1                1,2                    -                      110   \n",
       "2                1,9                    -                      114   \n",
       "3                4,2                    -                       91   \n",
       "4                4,2                    -                       91   \n",
       "\n",
       "                                               Label  \n",
       "0  https://eprel.ec.europa.eu/assets/images/label...  \n",
       "1  https://eprel.ec.europa.eu/assets/images/label...  \n",
       "2  https://eprel.ec.europa.eu/assets/images/label...  \n",
       "3  https://eprel.ec.europa.eu/assets/images/label...  \n",
       "4  https://eprel.ec.europa.eu/assets/images/label...  "
      ]
     },
     "execution_count": 6,
     "metadata": {},
     "output_type": "execute_result"
    }
   ],
   "source": [
    "df = rename_and_drop(df, column_dict, columns_drop)\n",
    "df.head()"
   ]
  },
  {
   "cell_type": "code",
   "execution_count": 7,
   "metadata": {},
   "outputs": [],
   "source": [
    "def model_brand_label(df):\n",
    "    df['Model'] = df['Model'].apply(lambda x: x.lower())\n",
    "    df['Brand'] = df['Brand'].apply(lambda x: x.lower())\n",
    "    df['Label'] = df['Label'].apply(lambda x: x.rpartition('/')[-1][:-4])\n",
    "    return df"
   ]
  },
  {
   "cell_type": "code",
   "execution_count": 8,
   "metadata": {},
   "outputs": [],
   "source": [
    "def remove_spaces(df):\n",
    "    df['Model'] = df['Model'].apply(lambda x: x[1:-1])\n",
    "    df['Brand'] = df['Brand'].apply(lambda x: x[1:-1])\n",
    "    return df"
   ]
  },
  {
   "cell_type": "code",
   "execution_count": 9,
   "metadata": {},
   "outputs": [],
   "source": [
    "df = model_brand_label(df)\n",
    "df = remove_spaces(df)"
   ]
  },
  {
   "cell_type": "code",
   "execution_count": 10,
   "metadata": {},
   "outputs": [
    {
     "data": {
      "text/html": [
       "<div>\n",
       "<style scoped>\n",
       "    .dataframe tbody tr th:only-of-type {\n",
       "        vertical-align: middle;\n",
       "    }\n",
       "\n",
       "    .dataframe tbody tr th {\n",
       "        vertical-align: top;\n",
       "    }\n",
       "\n",
       "    .dataframe thead th {\n",
       "        text-align: right;\n",
       "    }\n",
       "</style>\n",
       "<table border=\"1\" class=\"dataframe\">\n",
       "  <thead>\n",
       "    <tr style=\"text-align: right;\">\n",
       "      <th></th>\n",
       "      <th>Brand</th>\n",
       "      <th>Model</th>\n",
       "      <th>Direct_heat_output</th>\n",
       "      <th>Indirect_heat_output</th>\n",
       "      <th>Energy_efficiency_index</th>\n",
       "      <th>Label</th>\n",
       "    </tr>\n",
       "  </thead>\n",
       "  <tbody>\n",
       "    <tr>\n",
       "      <th>0</th>\n",
       "      <td>bestar industrial co.,ltd.</td>\n",
       "      <td>ptc-1500tr</td>\n",
       "      <td>1,5</td>\n",
       "      <td>-</td>\n",
       "      <td>116</td>\n",
       "      <td>AP-Left-MediumGreen</td>\n",
       "    </tr>\n",
       "    <tr>\n",
       "      <th>1</th>\n",
       "      <td>bestar industrial co.,ltd.</td>\n",
       "      <td>ptc-1500p1</td>\n",
       "      <td>1,2</td>\n",
       "      <td>-</td>\n",
       "      <td>110</td>\n",
       "      <td>AP-Left-MediumGreen</td>\n",
       "    </tr>\n",
       "    <tr>\n",
       "      <th>2</th>\n",
       "      <td>dongguan luying plastic hardware products co.,...</td>\n",
       "      <td>ynd-2000d</td>\n",
       "      <td>1,9</td>\n",
       "      <td>-</td>\n",
       "      <td>114</td>\n",
       "      <td>AP-Left-MediumGreen</td>\n",
       "    </tr>\n",
       "    <tr>\n",
       "      <th>3</th>\n",
       "      <td>fulmo/ipg31</td>\n",
       "      <td>309020101</td>\n",
       "      <td>4,2</td>\n",
       "      <td>-</td>\n",
       "      <td>91</td>\n",
       "      <td>A-Left-LightGreen</td>\n",
       "    </tr>\n",
       "    <tr>\n",
       "      <th>4</th>\n",
       "      <td>fulmo/ipb30</td>\n",
       "      <td>309020102</td>\n",
       "      <td>4,2</td>\n",
       "      <td>-</td>\n",
       "      <td>91</td>\n",
       "      <td>A-Left-LightGreen</td>\n",
       "    </tr>\n",
       "    <tr>\n",
       "      <th>...</th>\n",
       "      <td>...</td>\n",
       "      <td>...</td>\n",
       "      <td>...</td>\n",
       "      <td>...</td>\n",
       "      <td>...</td>\n",
       "      <td>...</td>\n",
       "    </tr>\n",
       "    <tr>\n",
       "      <th>11866</th>\n",
       "      <td>la nordica</td>\n",
       "      <td>rosetta sinistra bii liberty bordeaux</td>\n",
       "      <td>7,3</td>\n",
       "      <td>-</td>\n",
       "      <td>106</td>\n",
       "      <td>A-Left-LightGreen</td>\n",
       "    </tr>\n",
       "    <tr>\n",
       "      <th>11867</th>\n",
       "      <td>la nordica</td>\n",
       "      <td>termorosa xxl dsa nero antracite</td>\n",
       "      <td>3,3</td>\n",
       "      <td>15,1</td>\n",
       "      <td>110</td>\n",
       "      <td>AP-Left-MediumGreen</td>\n",
       "    </tr>\n",
       "    <tr>\n",
       "      <th>11868</th>\n",
       "      <td>dal zotto</td>\n",
       "      <td>flaminia bianco</td>\n",
       "      <td>8,3</td>\n",
       "      <td>-</td>\n",
       "      <td>115</td>\n",
       "      <td>AP-Left-MediumGreen</td>\n",
       "    </tr>\n",
       "    <tr>\n",
       "      <th>11869</th>\n",
       "      <td>house</td>\n",
       "      <td>takka 800 al etuk_</td>\n",
       "      <td>1,7</td>\n",
       "      <td>-</td>\n",
       "      <td>119</td>\n",
       "      <td>AP-Left-MediumGreen</td>\n",
       "    </tr>\n",
       "    <tr>\n",
       "      <th>11870</th>\n",
       "      <td>caminetti montegrappa</td>\n",
       "      <td>ls6 evo noir evo</td>\n",
       "      <td>6</td>\n",
       "      <td>-</td>\n",
       "      <td>121</td>\n",
       "      <td>AP-Left-MediumGreen</td>\n",
       "    </tr>\n",
       "  </tbody>\n",
       "</table>\n",
       "<p>11871 rows × 6 columns</p>\n",
       "</div>"
      ],
      "text/plain": [
       "                                                   Brand  \\\n",
       "0                             bestar industrial co.,ltd.   \n",
       "1                             bestar industrial co.,ltd.   \n",
       "2      dongguan luying plastic hardware products co.,...   \n",
       "3                                            fulmo/ipg31   \n",
       "4                                            fulmo/ipb30   \n",
       "...                                                  ...   \n",
       "11866                                         la nordica   \n",
       "11867                                         la nordica   \n",
       "11868                                          dal zotto   \n",
       "11869                                              house   \n",
       "11870                              caminetti montegrappa   \n",
       "\n",
       "                                       Model Direct_heat_output  \\\n",
       "0                                 ptc-1500tr                1,5   \n",
       "1                                 ptc-1500p1                1,2   \n",
       "2                                  ynd-2000d                1,9   \n",
       "3                                  309020101                4,2   \n",
       "4                                  309020102                4,2   \n",
       "...                                      ...                ...   \n",
       "11866  rosetta sinistra bii liberty bordeaux                7,3   \n",
       "11867       termorosa xxl dsa nero antracite                3,3   \n",
       "11868                        flaminia bianco                8,3   \n",
       "11869                     takka 800 al etuk_                1,7   \n",
       "11870                       ls6 evo noir evo                  6   \n",
       "\n",
       "      Indirect_heat_output  Energy_efficiency_index                Label  \n",
       "0                        -                      116  AP-Left-MediumGreen  \n",
       "1                        -                      110  AP-Left-MediumGreen  \n",
       "2                        -                      114  AP-Left-MediumGreen  \n",
       "3                        -                       91    A-Left-LightGreen  \n",
       "4                        -                       91    A-Left-LightGreen  \n",
       "...                    ...                      ...                  ...  \n",
       "11866                    -                      106    A-Left-LightGreen  \n",
       "11867                 15,1                      110  AP-Left-MediumGreen  \n",
       "11868                    -                      115  AP-Left-MediumGreen  \n",
       "11869                    -                      119  AP-Left-MediumGreen  \n",
       "11870                    -                      121  AP-Left-MediumGreen  \n",
       "\n",
       "[11871 rows x 6 columns]"
      ]
     },
     "execution_count": 10,
     "metadata": {},
     "output_type": "execute_result"
    }
   ],
   "source": [
    "df"
   ]
  },
  {
   "cell_type": "code",
   "execution_count": 11,
   "metadata": {},
   "outputs": [],
   "source": [
    "aux_marcas = [' co.,ltd.', ' co., ltd', '/ipg31', '/ipb30', '/ipb40', ' ltd.', ' s.r.l.', ' s.p.a.', ' srl', ' gmbh']"
   ]
  },
  {
   "cell_type": "code",
   "execution_count": 12,
   "metadata": {},
   "outputs": [],
   "source": [
    "def quitar_aux_marcas(aux_marcas, df):\n",
    "    for marca in aux_marcas:\n",
    "        df['Brand'] = df['Brand'].str.replace(marca,'')\n",
    "    return df"
   ]
  },
  {
   "cell_type": "code",
   "execution_count": 13,
   "metadata": {},
   "outputs": [
    {
     "name": "stderr",
     "output_type": "stream",
     "text": [
      "/Library/Frameworks/Python.framework/Versions/3.7/lib/python3.7/site-packages/ipykernel_launcher.py:3: FutureWarning: The default value of regex will change from True to False in a future version.\n",
      "  This is separate from the ipykernel package so we can avoid doing imports until\n"
     ]
    }
   ],
   "source": [
    "df = quitar_aux_marcas(aux_marcas, df)"
   ]
  },
  {
   "cell_type": "code",
   "execution_count": 1,
   "metadata": {},
   "outputs": [
    {
     "ename": "NameError",
     "evalue": "name 'pd' is not defined",
     "output_type": "error",
     "traceback": [
      "\u001b[0;31m---------------------------------------------------------------------------\u001b[0m",
      "\u001b[0;31mNameError\u001b[0m                                 Traceback (most recent call last)",
      "\u001b[0;32m/var/folders/03/72xlxnt17n33vnj7hmplg6540000gn/T/ipykernel_5911/519997894.py\u001b[0m in \u001b[0;36m<module>\u001b[0;34m\u001b[0m\n\u001b[0;32m----> 1\u001b[0;31m \u001b[0mdishwashers\u001b[0m\u001b[0;34m=\u001b[0m\u001b[0mpd\u001b[0m\u001b[0;34m.\u001b[0m\u001b[0mread_csv\u001b[0m\u001b[0;34m(\u001b[0m\u001b[0;34m'../../data/eprel/clean_data/normalized_columns/1_dishwashers.csv'\u001b[0m\u001b[0;34m,\u001b[0m \u001b[0mindex_col\u001b[0m\u001b[0;34m=\u001b[0m\u001b[0;36m0\u001b[0m\u001b[0;34m)\u001b[0m\u001b[0;34m\u001b[0m\u001b[0;34m\u001b[0m\u001b[0m\n\u001b[0m\u001b[1;32m      2\u001b[0m \u001b[0mdishwashers\u001b[0m\u001b[0;34m.\u001b[0m\u001b[0mhead\u001b[0m\u001b[0;34m(\u001b[0m\u001b[0;34m)\u001b[0m\u001b[0;34m\u001b[0m\u001b[0;34m\u001b[0m\u001b[0m\n",
      "\u001b[0;31mNameError\u001b[0m: name 'pd' is not defined"
     ]
    }
   ],
   "source": [
    "dishwashers=pd.read_csv('../../data/eprel/clean_data/normalized_columns/1_dishwashers.csv', index_col=0)\n",
    "dishwashers.head()"
   ]
  },
  {
   "cell_type": "code",
   "execution_count": null,
   "metadata": {},
   "outputs": [],
   "source": []
  }
 ],
 "metadata": {
  "kernelspec": {
   "display_name": "Python 3.7.4 64-bit",
   "language": "python",
   "name": "python3"
  },
  "language_info": {
   "codemirror_mode": {
    "name": "ipython",
    "version": 3
   },
   "file_extension": ".py",
   "mimetype": "text/x-python",
   "name": "python",
   "nbconvert_exporter": "python",
   "pygments_lexer": "ipython3",
   "version": "3.7.4"
  },
  "orig_nbformat": 4,
  "vscode": {
   "interpreter": {
    "hash": "aee8b7b246df8f9039afb4144a1f6fd8d2ca17a180786b69acc140d282b71a49"
   }
  }
 },
 "nbformat": 4,
 "nbformat_minor": 2
}
