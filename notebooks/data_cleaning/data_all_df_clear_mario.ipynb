{
 "cells": [
  {
   "cell_type": "code",
   "execution_count": 1,
   "metadata": {},
   "outputs": [],
   "source": [
    "import pandas as pd\n",
    "import numpy as np"
   ]
  },
  {
   "cell_type": "markdown",
   "metadata": {},
   "source": [
    "LECTURA"
   ]
  },
  {
   "cell_type": "code",
   "execution_count": 2,
   "metadata": {},
   "outputs": [],
   "source": [
    "dishwasher_1=pd.read_csv('../../data/eprel/clean_data/normalised_power/1_lavaplatos_c.csv', index_col=0)\n",
    "washer_2=pd.read_csv('../../data/eprel/clean_data/normalised_power/2_washers_c.csv', index_col=0)\n",
    "tv_mon_3=pd.read_csv('../../data/eprel/clean_data/normalised_power/3_tv_monitors_c.csv', index_col=0)\n",
    "fridges_4=pd.read_csv('../../data/eprel/clean_data/normalised_power/4_fridges_freezers_c.csv', index_col=0)\n",
    "ovens_5=pd.read_csv('../../data/eprel/clean_data/normalised_power/5_ovens_c.csv', index_col=0)\n",
    "campanas_6=pd.read_csv('../../data/eprel/clean_data/normalised_power/6_campanas_c.csv', index_col=0)\n",
    "calentadores_7=pd.read_csv('../../data/eprel/clean_data/normalised_power/7_water_heaters_c.csv', index_col=0)\n",
    "lights_8=pd.read_csv('../../data/eprel/clean_data/normalised_power/8_lights_c.csv', index_col=0)"
   ]
  },
  {
   "cell_type": "markdown",
   "metadata": {},
   "source": [
    "---\n",
    "---\n",
    "----\n",
    "Other"
   ]
  },
  {
   "cell_type": "code",
   "execution_count": 3,
   "metadata": {},
   "outputs": [
    {
     "data": {
      "text/plain": [
       "array([ 9, 14, 13, 12, 16,  6, 15, 10, 17, 11,  3,  7,  2,  8],\n",
       "      dtype=int64)"
      ]
     },
     "execution_count": 3,
     "metadata": {},
     "output_type": "execute_result"
    }
   ],
   "source": [
    "dishwasher_1['Other'].unique()"
   ]
  },
  {
   "cell_type": "markdown",
   "metadata": {},
   "source": [
    "----"
   ]
  },
  {
   "cell_type": "code",
   "execution_count": 4,
   "metadata": {},
   "outputs": [
    {
     "data": {
      "text/plain": [
       "array([' 11', ' 7', ' 8', ' 10', ' 9', ' 8,5', ' 10,5', ' 6', ' 12',\n",
       "       ' 5,5', ' 5', ' 18', ' 17', ' 14', ' 7,5', ' 6,5', ' 15', ' 90',\n",
       "       ' 4', ' 13', ' 3', ' 99,5', ' 9,0', ' 8,0', ' 7,0', ' 11,0',\n",
       "       ' 12,0', ' 10,0', ' 14,0', ' 6,0', ' 13,0'], dtype=object)"
      ]
     },
     "execution_count": 4,
     "metadata": {},
     "output_type": "execute_result"
    }
   ],
   "source": [
    "washer_2['Other'].unique()\n",
    "# washer_2.info()"
   ]
  },
  {
   "cell_type": "code",
   "execution_count": 5,
   "metadata": {},
   "outputs": [],
   "source": [
    "# quitar primer espacio\n",
    "washer_2['Other'] = washer_2['Other'].apply(lambda x: x[1:])\n",
    "# cambiar , por .\n",
    "washer_2['Other']=washer_2['Other'].replace({\",\":\".\"}, regex=True)"
   ]
  },
  {
   "cell_type": "code",
   "execution_count": 6,
   "metadata": {},
   "outputs": [
    {
     "data": {
      "text/plain": [
       "array(['11', '7', '8', '10', '9', '8.5', '10.5', '6', '12', '5.5', '5',\n",
       "       '18', '17', '14', '7.5', '6.5', '15', '90', '4', '13', '3', '99.5',\n",
       "       '9.0', '8.0', '7.0', '11.0', '12.0', '10.0', '14.0', '6.0', '13.0'],\n",
       "      dtype=object)"
      ]
     },
     "execution_count": 6,
     "metadata": {},
     "output_type": "execute_result"
    }
   ],
   "source": [
    "washer_2['Other'].unique()"
   ]
  },
  {
   "cell_type": "markdown",
   "metadata": {},
   "source": [
    "----"
   ]
  },
  {
   "cell_type": "code",
   "execution_count": 7,
   "metadata": {},
   "outputs": [
    {
     "data": {
      "text/plain": [
       "array(['SDR', 'HDR'], dtype=object)"
      ]
     },
     "execution_count": 7,
     "metadata": {},
     "output_type": "execute_result"
    }
   ],
   "source": [
    "tv_mon_3['Other'].unique()"
   ]
  },
  {
   "cell_type": "code",
   "execution_count": 8,
   "metadata": {},
   "outputs": [],
   "source": [
    "tv_mon_3[\"Other\"]= tv_mon_3[\"Other\"].str.lower() \n"
   ]
  },
  {
   "cell_type": "code",
   "execution_count": 9,
   "metadata": {},
   "outputs": [
    {
     "data": {
      "text/plain": [
       "array(['sdr', 'hdr'], dtype=object)"
      ]
     },
     "execution_count": 9,
     "metadata": {},
     "output_type": "execute_result"
    }
   ],
   "source": [
    "tv_mon_3['Other'].unique()"
   ]
  },
  {
   "cell_type": "markdown",
   "metadata": {},
   "source": [
    "-----"
   ]
  },
  {
   "cell_type": "code",
   "execution_count": 10,
   "metadata": {},
   "outputs": [],
   "source": [
    "# fridges_4['Other'].unique()"
   ]
  },
  {
   "cell_type": "code",
   "execution_count": 11,
   "metadata": {},
   "outputs": [],
   "source": [
    "# quitar primer espacio\n",
    "fridges_4['Other'] = fridges_4['Other'].apply(lambda x: x[1:])\n",
    "# quitar nulo\n",
    "fridges_4.drop(fridges_4[fridges_4['Other']=='-'].index, inplace=True)\n",
    "# espacio en medio\n",
    "fridges_4['Other']=fridges_4['Other'].replace({\" \":\"\"}, regex=True)"
   ]
  },
  {
   "cell_type": "code",
   "execution_count": 12,
   "metadata": {},
   "outputs": [],
   "source": [
    "# fridges_4['Other'].unique()"
   ]
  },
  {
   "cell_type": "markdown",
   "metadata": {},
   "source": [
    "-----"
   ]
  },
  {
   "cell_type": "code",
   "execution_count": 13,
   "metadata": {},
   "outputs": [
    {
     "data": {
      "text/plain": [
       "array([ 70,  76,  71,  50,  68,  80,  73,  41,  67,  85,  65,  66,  77,\n",
       "        47,  54,  72,  74,  40,  58,  44,  42,  69,  78,  59, 120,  95,\n",
       "        87, 115,  34,  52,  63,  60,  57, 114,  31,  82, 108,  48,  56,\n",
       "        86,  75,  62,  43,  61,  83,  96, 105, 126,  55,  35, 125, 155,\n",
       "        37,  53,  64,  84,  51,  45,  49,  79,  81,  97,  93,  38,  36,\n",
       "       112,  39,  88,  99,  32, 100, 110, 103, 121, 102, 118, 116,  30,\n",
       "        92,  90,  29,  46,  89, 101, 104,  98, 109, 111], dtype=int64)"
      ]
     },
     "execution_count": 13,
     "metadata": {},
     "output_type": "execute_result"
    }
   ],
   "source": [
    "ovens_5['Other'].unique()"
   ]
  },
  {
   "cell_type": "markdown",
   "metadata": {},
   "source": [
    "----"
   ]
  },
  {
   "cell_type": "code",
   "execution_count": 14,
   "metadata": {},
   "outputs": [
    {
     "data": {
      "text/plain": [
       "array([nan])"
      ]
     },
     "execution_count": 14,
     "metadata": {},
     "output_type": "execute_result"
    }
   ],
   "source": [
    "campanas_6['Other'].unique()"
   ]
  },
  {
   "cell_type": "markdown",
   "metadata": {},
   "source": [
    "----"
   ]
  },
  {
   "cell_type": "code",
   "execution_count": 15,
   "metadata": {},
   "outputs": [
    {
     "data": {
      "text/html": [
       "<div>\n",
       "<style scoped>\n",
       "    .dataframe tbody tr th:only-of-type {\n",
       "        vertical-align: middle;\n",
       "    }\n",
       "\n",
       "    .dataframe tbody tr th {\n",
       "        vertical-align: top;\n",
       "    }\n",
       "\n",
       "    .dataframe thead th {\n",
       "        text-align: right;\n",
       "    }\n",
       "</style>\n",
       "<table border=\"1\" class=\"dataframe\">\n",
       "  <thead>\n",
       "    <tr style=\"text-align: right;\">\n",
       "      <th></th>\n",
       "      <th>Type</th>\n",
       "      <th>Brand</th>\n",
       "      <th>Model</th>\n",
       "      <th>Type_consumption</th>\n",
       "      <th>Consumption</th>\n",
       "      <th>Label</th>\n",
       "      <th>Other</th>\n",
       "    </tr>\n",
       "  </thead>\n",
       "  <tbody>\n",
       "    <tr>\n",
       "      <th>0</th>\n",
       "      <td>Water heaters</td>\n",
       "      <td>Rossato</td>\n",
       "      <td>AIR COMBO EVO 300</td>\n",
       "      <td>Consumo anual de electricidad</td>\n",
       "      <td>1.65723</td>\n",
       "      <td>https://eprel.ec.europa.eu/assets/images/label...</td>\n",
       "      <td>XL</td>\n",
       "    </tr>\n",
       "  </tbody>\n",
       "</table>\n",
       "</div>"
      ],
      "text/plain": [
       "            Type      Brand                Model  \\\n",
       "0  Water heaters   Rossato    AIR COMBO EVO 300    \n",
       "\n",
       "                Type_consumption  Consumption  \\\n",
       "0  Consumo anual de electricidad      1.65723   \n",
       "\n",
       "                                               Label Other  \n",
       "0  https://eprel.ec.europa.eu/assets/images/label...    XL  "
      ]
     },
     "execution_count": 15,
     "metadata": {},
     "output_type": "execute_result"
    }
   ],
   "source": [
    "calentadores_7 = calentadores_7.reindex(columns=['Type','Brand','Model','Type_consumption','Consumption','Label','Other'])\n",
    "calentadores_7.head(1)"
   ]
  },
  {
   "cell_type": "code",
   "execution_count": 16,
   "metadata": {},
   "outputs": [
    {
     "data": {
      "text/plain": [
       "array([' XL', ' L', ' M', ' XXL'], dtype=object)"
      ]
     },
     "execution_count": 16,
     "metadata": {},
     "output_type": "execute_result"
    }
   ],
   "source": [
    "calentadores_7['Other'].unique()"
   ]
  },
  {
   "cell_type": "code",
   "execution_count": 17,
   "metadata": {},
   "outputs": [
    {
     "data": {
      "text/plain": [
       "array(['XL', 'L', 'M', 'XXL'], dtype=object)"
      ]
     },
     "execution_count": 17,
     "metadata": {},
     "output_type": "execute_result"
    }
   ],
   "source": [
    "calentadores_7['Other'] = calentadores_7['Other'].apply(lambda x: x[1:])\n",
    "calentadores_7['Other'].unique()"
   ]
  },
  {
   "cell_type": "markdown",
   "metadata": {},
   "source": [
    "----"
   ]
  },
  {
   "cell_type": "code",
   "execution_count": 18,
   "metadata": {},
   "outputs": [
    {
     "data": {
      "text/plain": [
       "array([' 1 200', ' 800', ' 3 170', ..., ' 2 476', ' 1 961', ' 2 122'],\n",
       "      dtype=object)"
      ]
     },
     "execution_count": 18,
     "metadata": {},
     "output_type": "execute_result"
    }
   ],
   "source": [
    "lights_8['Other'].unique()"
   ]
  },
  {
   "cell_type": "code",
   "execution_count": 19,
   "metadata": {},
   "outputs": [],
   "source": [
    "# quitar primer espacio\n",
    "lights_8['Other'] = lights_8['Other'].apply(lambda x: x[1:])\n",
    "# quitar nulo\n",
    "lights_8.drop(lights_8[lights_8['Other']=='-'].index, inplace=True)\n",
    "# espacio en medio\n",
    "lights_8['Other']=lights_8['Other'].replace({\" \":\"\"}, regex=True)"
   ]
  },
  {
   "cell_type": "code",
   "execution_count": 20,
   "metadata": {},
   "outputs": [
    {
     "data": {
      "text/plain": [
       "array(['1200', '800', '3170', ..., '2476', '1961', '2122'], dtype=object)"
      ]
     },
     "execution_count": 20,
     "metadata": {},
     "output_type": "execute_result"
    }
   ],
   "source": [
    "lights_8['Other'].unique()"
   ]
  },
  {
   "cell_type": "markdown",
   "metadata": {},
   "source": [
    "----\n",
    "----\n",
    "----\n",
    "Juntar df"
   ]
  },
  {
   "cell_type": "code",
   "execution_count": 21,
   "metadata": {},
   "outputs": [
    {
     "data": {
      "text/html": [
       "<div>\n",
       "<style scoped>\n",
       "    .dataframe tbody tr th:only-of-type {\n",
       "        vertical-align: middle;\n",
       "    }\n",
       "\n",
       "    .dataframe tbody tr th {\n",
       "        vertical-align: top;\n",
       "    }\n",
       "\n",
       "    .dataframe thead th {\n",
       "        text-align: right;\n",
       "    }\n",
       "</style>\n",
       "<table border=\"1\" class=\"dataframe\">\n",
       "  <thead>\n",
       "    <tr style=\"text-align: right;\">\n",
       "      <th></th>\n",
       "      <th>Type</th>\n",
       "      <th>Brand</th>\n",
       "      <th>Model</th>\n",
       "      <th>Type_consumption</th>\n",
       "      <th>Consumption</th>\n",
       "      <th>Label</th>\n",
       "      <th>Other</th>\n",
       "    </tr>\n",
       "  </thead>\n",
       "  <tbody>\n",
       "    <tr>\n",
       "      <th>0</th>\n",
       "      <td>Dishwasher</td>\n",
       "      <td>Iberna</td>\n",
       "      <td>IDIH 2L952-80</td>\n",
       "      <td>Energy consumption [per 100 cycles, based on t...</td>\n",
       "      <td>0.70</td>\n",
       "      <td>https://eprel.ec.europa.eu/assets/images/label...</td>\n",
       "      <td>9</td>\n",
       "    </tr>\n",
       "    <tr>\n",
       "      <th>1</th>\n",
       "      <td>Dishwasher</td>\n",
       "      <td>Baumatic</td>\n",
       "      <td>BDIH 2L952-80</td>\n",
       "      <td>Energy consumption [per 100 cycles, based on t...</td>\n",
       "      <td>0.70</td>\n",
       "      <td>https://eprel.ec.europa.eu/assets/images/label...</td>\n",
       "      <td>9</td>\n",
       "    </tr>\n",
       "    <tr>\n",
       "      <th>2</th>\n",
       "      <td>Dishwasher</td>\n",
       "      <td>Siemens</td>\n",
       "      <td>SN23HW00ME</td>\n",
       "      <td>Energy consumption [per 100 cycles, based on t...</td>\n",
       "      <td>0.85</td>\n",
       "      <td>https://eprel.ec.europa.eu/assets/images/label...</td>\n",
       "      <td>14</td>\n",
       "    </tr>\n",
       "    <tr>\n",
       "      <th>3</th>\n",
       "      <td>Dishwasher</td>\n",
       "      <td>Bosch</td>\n",
       "      <td>SMS4HMI02E</td>\n",
       "      <td>Energy consumption [per 100 cycles, based on t...</td>\n",
       "      <td>0.85</td>\n",
       "      <td>https://eprel.ec.europa.eu/assets/images/label...</td>\n",
       "      <td>14</td>\n",
       "    </tr>\n",
       "    <tr>\n",
       "      <th>4</th>\n",
       "      <td>Dishwasher</td>\n",
       "      <td>Siemens</td>\n",
       "      <td>SN23HI00KE</td>\n",
       "      <td>Energy consumption [per 100 cycles, based on t...</td>\n",
       "      <td>0.84</td>\n",
       "      <td>https://eprel.ec.europa.eu/assets/images/label...</td>\n",
       "      <td>13</td>\n",
       "    </tr>\n",
       "  </tbody>\n",
       "</table>\n",
       "</div>"
      ],
      "text/plain": [
       "         Type       Brand            Model  \\\n",
       "0  Dishwasher     Iberna    IDIH 2L952-80    \n",
       "1  Dishwasher   Baumatic    BDIH 2L952-80    \n",
       "2  Dishwasher    Siemens       SN23HW00ME    \n",
       "3  Dishwasher      Bosch       SMS4HMI02E    \n",
       "4  Dishwasher    Siemens       SN23HI00KE    \n",
       "\n",
       "                                    Type_consumption  Consumption  \\\n",
       "0  Energy consumption [per 100 cycles, based on t...         0.70   \n",
       "1  Energy consumption [per 100 cycles, based on t...         0.70   \n",
       "2  Energy consumption [per 100 cycles, based on t...         0.85   \n",
       "3  Energy consumption [per 100 cycles, based on t...         0.85   \n",
       "4  Energy consumption [per 100 cycles, based on t...         0.84   \n",
       "\n",
       "                                               Label Other  \n",
       "0  https://eprel.ec.europa.eu/assets/images/label...     9  \n",
       "1  https://eprel.ec.europa.eu/assets/images/label...     9  \n",
       "2  https://eprel.ec.europa.eu/assets/images/label...    14  \n",
       "3  https://eprel.ec.europa.eu/assets/images/label...    14  \n",
       "4  https://eprel.ec.europa.eu/assets/images/label...    13  "
      ]
     },
     "execution_count": 21,
     "metadata": {},
     "output_type": "execute_result"
    }
   ],
   "source": [
    "# juntar df\n",
    "df = pd.concat([dishwasher_1,washer_2,tv_mon_3,fridges_4,ovens_5,campanas_6,calentadores_7,lights_8])\n",
    "df.head()"
   ]
  },
  {
   "cell_type": "markdown",
   "metadata": {},
   "source": [
    "----\n"
   ]
  },
  {
   "cell_type": "code",
   "execution_count": 22,
   "metadata": {},
   "outputs": [],
   "source": [
    "# rename & drop\n",
    "df.rename(columns={'Type':'Product_family'}, inplace=True)\n",
    "df.drop(['Type_consumption'], axis=1, inplace=True)"
   ]
  },
  {
   "cell_type": "code",
   "execution_count": 23,
   "metadata": {},
   "outputs": [],
   "source": [
    "# df.head()"
   ]
  },
  {
   "cell_type": "markdown",
   "metadata": {},
   "source": [
    "----"
   ]
  },
  {
   "cell_type": "code",
   "execution_count": 24,
   "metadata": {},
   "outputs": [],
   "source": [
    "# minúsculas\n",
    "def lower_case(column):\n",
    "    return column.apply(lambda x: x.lower() if type(x) == str else x)"
   ]
  },
  {
   "cell_type": "code",
   "execution_count": 25,
   "metadata": {},
   "outputs": [],
   "source": [
    "df['Product_family'] = lower_case(df['Product_family'])\n",
    "df['Brand'] = lower_case(df['Brand'])\n",
    "df['Model'] = lower_case(df['Model'])\n",
    "df['Other'] = lower_case(df['Other'])"
   ]
  },
  {
   "cell_type": "code",
   "execution_count": 26,
   "metadata": {},
   "outputs": [],
   "source": [
    "# df.head()"
   ]
  },
  {
   "cell_type": "markdown",
   "metadata": {},
   "source": [
    "-----"
   ]
  },
  {
   "cell_type": "code",
   "execution_count": 27,
   "metadata": {},
   "outputs": [],
   "source": [
    "# whites\n",
    "def remove_spaces(column):\n",
    "    return column.apply(lambda x: x.strip() if type(x) == str else x)"
   ]
  },
  {
   "cell_type": "code",
   "execution_count": 28,
   "metadata": {},
   "outputs": [],
   "source": [
    "df['Product_family'] = remove_spaces(df['Product_family'])\n",
    "df['Brand'] = remove_spaces(df['Brand'])\n",
    "df['Model'] = remove_spaces(df['Model'])"
   ]
  },
  {
   "cell_type": "code",
   "execution_count": 29,
   "metadata": {},
   "outputs": [],
   "source": [
    "# df.head()"
   ]
  },
  {
   "cell_type": "markdown",
   "metadata": {},
   "source": [
    "----\n",
    "----\n",
    "----\n",
    "Labels"
   ]
  },
  {
   "cell_type": "code",
   "execution_count": 30,
   "metadata": {},
   "outputs": [],
   "source": [
    "def define_label():\n",
    "    df['Label'] = df['Label'].apply(lambda x: x.rpartition('/')[-1])\n",
    "    return df['Label'].apply(lambda x: x.split('-')[0])"
   ]
  },
  {
   "cell_type": "code",
   "execution_count": 31,
   "metadata": {},
   "outputs": [],
   "source": [
    "df['Label'] = define_label()"
   ]
  },
  {
   "cell_type": "code",
   "execution_count": 32,
   "metadata": {},
   "outputs": [],
   "source": [
    "def undefined_label(column):\n",
    "    return column.apply(lambda x: 'undefined' if x == ' ' else x)"
   ]
  },
  {
   "cell_type": "code",
   "execution_count": 33,
   "metadata": {},
   "outputs": [],
   "source": [
    "df['Label'] = undefined_label(df['Label'])\n",
    "df['Label'] = remove_spaces(df['Label'])"
   ]
  },
  {
   "cell_type": "code",
   "execution_count": 34,
   "metadata": {},
   "outputs": [],
   "source": [
    "# df.head()"
   ]
  },
  {
   "cell_type": "markdown",
   "metadata": {},
   "source": [
    "-----\n",
    "-----\n",
    "----\n",
    "Limpieza Marcas"
   ]
  },
  {
   "cell_type": "markdown",
   "metadata": {},
   "source": [
    "----\n",
    "---\n",
    "1a limpieza"
   ]
  },
  {
   "cell_type": "code",
   "execution_count": 35,
   "metadata": {},
   "outputs": [],
   "source": [
    "dict1 = {'burg basic' : 'burg', \n",
    "        'comfee`' : 'comfee',\n",
    "        \"de'longhi\" : \"delonghi\",\n",
    "        'hotpoint/ariston' : 'hotpoint',\n",
    "        'ikea of sweden' : 'ikea',\n",
    "        'lg electronics' : 'lg',\n",
    "        'lg eelectronics' : 'lg',\n",
    "        'lg electronics inc.' : 'lg',\n",
    "        'ok.' : 'ok',\n",
    "        'xd grandi elettrodomestici' : 'xd',\n",
    "        'bolero dresscode' : 'bolero', \n",
    "        'bolero wash&dry' : 'bolero',\n",
    "        'brand - midea' : 'midea',\n",
    "        'corberó' : 'corbero',\n",
    "        'denner-edition' : 'denner',\n",
    "        'electrolux professional' : 'electrolux',\n",
    "        'hisense_gor' : 'hisense',\n",
    "        'hotpoint/ariston' : 'hotpoint',\n",
    "        'little swan international(singapore) co., pte. ltd' : 'little swan international',\n",
    "        'miele & cie kg' : 'miele',\n",
    "        'montpellier domestic aplliances' : 'montpellier domestic appliances',\n",
    "        'ok.' : 'ok',\n",
    "        'osby vitvaror ab' : 'osby',\n",
    "        'otsein-hoover' : 'otsein',\n",
    "        'schulthess maschinen ag' : 'schulthess',\n",
    "        'a.i.o. evo hd led tv ultrawide 18,5\" (für manuelle antennen) mit integriertem satfinder' :\n",
    "        'a.i.o.',\n",
    "        'a.i.o. evo hd led tv ultrawide 18,5\" (mit integrierter antennensteuerung)' : \n",
    "        'a.i.o.',\n",
    "        'a.i.o. evo hd led tv ultrawide 22\" (für manuelle antennen) mit integriertem satfinder' : \n",
    "        'a.i.o.',\n",
    "        'a.i.o. evo hd led tv ultrawide 22\" (mit integrierter antennensteuerung)' : \n",
    "        'a.i.o.',\n",
    "        'a.i.o. evo hd led tv ultrawide 24\" (für manuelle antennen) mit integriertem satfinder' : \n",
    "        'a.i.o.',\n",
    "        'a.i.o.' : \n",
    "        'a.i.o. evo hd led tv ultrawide 24\" (mit integrierter antennensteuerung)',\n",
    "        'abus security center led monitor' : 'abus',\n",
    "        'adesa s.r.l.' : 'adesa', \n",
    "        'adesas.r.l.' : 'adesa',\n",
    "        'alphatronics gmbh ' : 'alphatronics',\n",
    "        'digihome(gb-ie)' : 'digihome',\n",
    "        'digiquest solutions srl' : 'digiquest solution srl',\n",
    "        'digiquest solutions surl' : 'digiquest solution srl',\n",
    "        'digital smart vision / npg' : 'digital smart vision',\n",
    "        'dyon - dyon' : 'dyon',\n",
    "        'eas electric smart technology' : 'eas electric',\n",
    "        'fox spirit' : 'fox',\n",
    "        'hanns`g' :  'hanns g',\n",
    "        'hanns·g' : 'hanns g',\n",
    "        'hkc.' : 'hkc',\n",
    "        'hp, inc.' : 'hp',\n",
    "        'inno hit pro' : 'inno hit',\n",
    "        'jtc / jay-tech gmbh' : 'jtc',\n",
    "        'lg eelectronics' : 'lg',\n",
    "        'lg electronics' : 'lg', \n",
    "        'lg' : 'lg electronics inc.',\n",
    "        'luxor (v.uk)' : 'luxor',\n",
    "        'megasat/tv' : 'megasat',\n",
    "        'newline interactive inc./ newline' : 'newline',\n",
    "        'ok.' : 'ok',\n",
    "        'ricoh company,ltd.' : 'ricoh',\n",
    "        'sampo corporation' : 'sampo',\n",
    "        'shark gaming systems' : 'shark gaming',\n",
    "        'sharkgaming' : 'shark gaming',\n",
    "        'techwood(gb)' : 'techwood',\n",
    "        'tesla smart' : 'tesla',\n",
    "        'tkh security france sas' : 'tkh',\n",
    "        'unv technology europe b.v.' : 'unv technology',\n",
    "        'arka agd sp. z o.o. / electroline' : 'arka',\n",
    "        'aviro minibar 24 l' : 'aviro',\n",
    "        'aviro minibar 30 l' : 'aviro',\n",
    "        'aviro minibar 40 l' : 'aviro',\n",
    "        'bermar (international)' : 'bermar',\n",
    "        'bilanciaexim' : 'bilancia exim',\n",
    "        'blokker b.v.' : 'blokker',\n",
    "        'bodega43' : 'bodega',\n",
    "        'bompani - bompani' : 'bompani', \n",
    "        'bomppani' : 'bompani',\n",
    "        'carwise - bileko car parts ab' : 'carwise',\n",
    "        'caso design' : 'casa design', \n",
    "        'caso-design' : 'casa design',\n",
    "        'corberó' : 'corbero',\n",
    "        '°cubes' : 'cubes',\n",
    "        \"de'longhi\" : \"delonghi\",\n",
    "        'domo kamado' : 'domo',\n",
    "        'dosenbach   ochsner ag' : 'dosenbach ochsner',\n",
    "        'dosenbach - ochsner ag' : 'dosenbach ochsner',\n",
    "        'ref001 - eas electric smart technology' : 'eas electric smart technology',\n",
    "        'electrolux professional' : 'electrolux',\n",
    "        'essentielb' : 'essentiel b',\n",
    "        'guangdong unique appl. co.' : 'guangdong unique',\n",
    "        'hartmann tresore france' : 'hartmann tresore',\n",
    "        'hck refrigeration tech.co.,ltd' : 'hck fridge',\n",
    "        'helle kylmäarkku 15l': 'helle kylmäarkku',\n",
    "        'helle kylmäarkku 52l': 'helle kylmäarkku',\n",
    "        'hermitag' : 'hermitage',\n",
    "        'hisense international (hong kong) europe investment' : 'hisense',\n",
    "        'hitachi europe' : 'hitachi',\n",
    "        'hotpoint/ariston' : 'hotpoint',\n",
    "        'hæger' : 'haeger',\n",
    "        'ikea of sweden ab' : 'ikea',\n",
    "        'ism makine elektrik san. ve tic. a.s.' : 'ism', \n",
    "        'ism minibar' : 'ism',\n",
    "        'kams sarl' : 'kams',\n",
    "        'kbs gastrotechnik' : 'kbs gastrotechnik', \n",
    "        'kbs gastrotechnink' : 'kbs gastroetechnik', \n",
    "        'kbs-gastrotechnik' : 'kbs gastroetechnik',\n",
    "        'kesser ®' : 'kesser',\n",
    "        'kontinent deluxe' : 'kontinent',\n",
    "        'lamo bd-80u' : 'lamo', \n",
    "        'lamo/pyramidea' : 'lamo',\n",
    "        'lg eelectronics' : 'lg', \n",
    "        'lg electronics' : 'lg',\n",
    "        'life outdoor living' : 'life',\n",
    "        'magira®' : 'magira',\n",
    "        'marshall fridge' : 'marshall',\n",
    "        'midea polska' : 'midea',\n",
    "        'minibar 34l' : 'minibar', \n",
    "        'minibar 34l-gl' : 'minibar', \n",
    "        'minibar alda bc30' : 'minibar', \n",
    "        'minibar alda bc40' : 'minibar',\n",
    "        'minibar enterprises ag' : 'minibar', \n",
    "        'montpellier domestic appliances' : 'montpellier domestic appliance',\n",
    "        'mountfield bcw - 25a' : 'mountfield bcw', \n",
    "        'mountfield bcw - 49' : 'mountfield bcw',\n",
    "        'nara hladilna thenika d.o.o.' : 'nara hladilna tehnika d.o.o.',\n",
    "        'ok.' : 'ok',\n",
    "        'omnitec systems' : 'omnitec',\n",
    "        'penta cz s.r.o.' : 'penta',\n",
    "        'penta cz, s.r.o.' : 'penta',\n",
    "        'qingdao smad electric appliances co' : 'qingdao smad electric appliances',\n",
    "        'severin elektrogräte' : 'severin elektrogeräte',\n",
    "        'signature kitchen suite' : 'signature',\n",
    "        'snaigė' : 'snaige',\n",
    "        'temptech as' : 'temptech',\n",
    "        'thetaco traders' : 'thetaco',\n",
    "        'vestfrost solutions': 'vestfrost',\n",
    "        'vintage industries/gastro-cool' : 'vintage industries / gastro-cool',\n",
    "        'wemo hc30' : 'wemo', \n",
    "        'wemo hc40' : 'wemo',\n",
    "        'xd grandi elettrodomestici' : 'xd',\n",
    "        'burg basic' : 'burg',\n",
    "        'cookers - bompani' : 'cookers', \n",
    "        'cookers - doman' : 'cookers', \n",
    "        'cookers - kontact' : 'cookers', \n",
    "        'cookers - proline' : 'cookers', \n",
    "        'cookers - triomph' : 'cookers', \n",
    "        'cookers kontact' : 'cookers', \n",
    "        'de longhi' : 'de longhi', \n",
    "        \"de'longhi\" : 'de longhi',\n",
    "        'dieter knoll collection' : 'dieter knoll',\n",
    "        'electra +' : 'electra',\n",
    "        'goodhome' : 'good home',\n",
    "        'ovens - jro-pro' : 'juro-pro',\n",
    "        'ovens - juro-pro' : 'juro-pro', \n",
    "        'kingfisher rnational cts limited' : 'kingfisher',\n",
    "        'kontinent deluxe' : 'kontinent',\n",
    "        'lagermania 1882' : 'la germania',\n",
    "        'lg electronics inc.' : 'lg',\n",
    "        'lg electronics' : 'lg',\n",
    "        'lg eelectronics' : 'lg',\n",
    "        'miele & cie. kg' : 'miele & cie kg',\n",
    "        'neue by candy' : 'neue',\n",
    "        'newpol' : 'new pol',\n",
    "        'ok.' : 'ok.',\n",
    "        'whirlpool emea spa' : 'whirlpool',\n",
    "        'aga rangemaster' : 'aga',\n",
    "        'airforce' : 'air force',\n",
    "        'apell spa' : 'apell',\n",
    "        'berbel ablufttechnik' : 'berbel',\n",
    "        'bompani - bompani' :'bompani',\n",
    "        'cata electrodomésticos' : 'cata', \n",
    "        'cata electrodomésticos s.l' : 'cata', \n",
    "        'cata electrodomésticos s.l.' : 'cata', \n",
    "        'ciarko design' :'ciarko',\n",
    "        'corberó' : 'corbero',\n",
    "        'delta 60 bl a evo' : 'delta', \n",
    "        'delta 60 px a evo' : 'delta',\n",
    "        'delta 60 wh a evo' : 'delta',\n",
    "        \"de'longhi\" : \"de'longhi\",\n",
    "        'dieter knoll collection' : 'dieter knoll',\n",
    "        'eurolux by faber' : 'eurolux',\n",
    "        'goodhome' : 'good home',\n",
    "        'husqvarna-electrolux' : 'husqvarna',\n",
    "        'kingfisher rnational cts limited' : 'kingfisher',\n",
    "        'miele & cie kg' : 'miele',\n",
    "        'neue by candy' : 'neue',\n",
    "        'novy panorama power 1841' : 'novy',\n",
    "        'ok.' : 'ok',\n",
    "        'røroshetta' : 'roroshetta',\n",
    "        'silfim' : 'sil fim',\n",
    "        'energia w kogeneracji ewk s.a.' : 'ewk',\n",
    "        'fröling heizkessel- und behälterbau ges.m.b.h.' : 'froling',\n",
    "        'metro therm' : 'metrotherm',\n",
    "        'mitsubishi electric' : 'mitsubishi',\n",
    "        'toshiba carrier corporation' : 'toshiba', \n",
    "        'trademark - remko' : 'remko',\n",
    "        'white eta 90' : 'white eta',\n",
    "        'white eta 180' : 'white eta',\n",
    "        'white eta 160 (13w)' : 'white eta'}"
   ]
  },
  {
   "cell_type": "code",
   "execution_count": 36,
   "metadata": {},
   "outputs": [],
   "source": [
    "def clean_brands(dict):\n",
    "    df['Brand'] = df['Brand'].apply(lambda x: dict[x] if x in dict.keys() else x)"
   ]
  },
  {
   "cell_type": "code",
   "execution_count": 37,
   "metadata": {},
   "outputs": [],
   "source": [
    "clean_brands(dict1)"
   ]
  },
  {
   "cell_type": "markdown",
   "metadata": {},
   "source": [
    "----"
   ]
  },
  {
   "cell_type": "code",
   "execution_count": 38,
   "metadata": {},
   "outputs": [],
   "source": [
    "def quitar_aux_marcas(aux_marcas, df):\n",
    "    for marca in aux_marcas:\n",
    "        df['Brand'] = df['Brand'].str.replace(marca,'')"
   ]
  },
  {
   "cell_type": "code",
   "execution_count": 39,
   "metadata": {},
   "outputs": [
    {
     "name": "stderr",
     "output_type": "stream",
     "text": [
      "c:\\Users\\Yo\\AppData\\Local\\Programs\\Python\\Python37\\lib\\site-packages\\ipykernel_launcher.py:3: FutureWarning: The default value of regex will change from True to False in a future version.\n",
      "  This is separate from the ipykernel package so we can avoid doing imports until\n",
      "c:\\Users\\Yo\\AppData\\Local\\Programs\\Python\\Python37\\lib\\site-packages\\ipykernel_launcher.py:3: FutureWarning: The default value of regex will change from True to False in a future version. In addition, single character regular expressions will *not* be treated as literal strings when regex=True.\n",
      "  This is separate from the ipykernel package so we can avoid doing imports until\n"
     ]
    }
   ],
   "source": [
    "aux_marcas = [r'\\ufeff\"', r'\\ufeff ', 'a/s','int.','prod.','b.v.',' co.,ltd.', ' / gastro-cool', ' - engel',\n",
    "               'ind.co.,ltd', ' co., ltd', '/ipg31', '/ipb30', '/ipb40', ' ltd.', ' co.', 'zhejiang ',\n",
    "               ' s.r.l.','s.r.o.', ' s.p.a.', ' srl', ' gmbh', '{', '}™', ' s.l.', 'xiamen ', 'xiamen ', ' sp. z o.o.',\n",
    "               ' co.,ltd', ' co. ltd', ' imp.&exp.co.,ltd', ' tech', ' co., limited', 'zhongshan ', ',ltd',\n",
    "               ' e-commerce.', ' s.a.', ' zrt.', ' 2z 40fl', ' 2z 38fl', ' 2z 180fl', ' poland sp. z o. o.', \n",
    "               ' 2z 126fl', ' - engineers of light', ' italia', ' ltd', ' / colors', ' - denmark', ' s.r.l', ' h.gmbh',\n",
    "               ' poland sp. z o. o.', ' 50w', ' 100w', ' 90', ' (europe)  azura', ' s.p.a', ',ltd', ' (europe)  azura']\n",
    "quitar_aux_marcas(aux_marcas, df)"
   ]
  },
  {
   "cell_type": "code",
   "execution_count": 40,
   "metadata": {},
   "outputs": [
    {
     "data": {
      "text/plain": [
       "3990"
      ]
     },
     "execution_count": 40,
     "metadata": {},
     "output_type": "execute_result"
    }
   ],
   "source": [
    "lista1 = sorted(df['Brand'].unique(), reverse=False)\n",
    "len(lista1)"
   ]
  },
  {
   "cell_type": "markdown",
   "metadata": {},
   "source": [
    "----\n",
    "----\n",
    "2a Limpieza"
   ]
  },
  {
   "cell_type": "code",
   "execution_count": 41,
   "metadata": {},
   "outputs": [],
   "source": [
    "# CAMBIAR\n",
    "dict2= {' seoul semiconductorltd \"' : 'seoul semiconductor', \n",
    "        ' citizen electronics \"' : 'citizen electronics',\n",
    "        ' diāna' : 'diana',\n",
    "       ' shenzhenshi youmatenology\"' : 'youmatenology',\n",
    "       ' zhongxiang lighting \"' : 'zhongxiang lighting',\n",
    "        'a.i.o. evo hd led tv ultrawide 24\" (mit grierter antennensteuerung)': 'a.i.o.',\n",
    "        'ab living light':'ab',\n",
    "         'abc sistem':'abc',\n",
    "         'aeg haustechnik':'aeg',\n",
    "         'aiagostar':'aigostar',\n",
    "         'aiqlnu':'aiqinu',\n",
    "         'all´grill': 'all grill',\n",
    "         'amica rnational':'amica',\n",
    "         'anwb retail':'anwb',\n",
    "         'anwbroad':'anwb',\n",
    "         'artecristal - artecristal baños': 'artecristal',\n",
    "       'artecristal baños':'artecristal',\n",
    "       'artelumina led-leuchtplatte':'artelumina',\n",
    "       'arçelik a.ş.king appliances plant':'arcelik',\n",
    "       'aura light':'aura',\n",
    "       r'bankamp-\\u200bleuchten & kg': 'bankamp',\n",
    "       'bazénové-osvětlení.cz':'bazenove',\n",
    "       'bdk lighting':'bdk',\n",
    "       'berbel ablufttechnik':'berbel',\n",
    "       'bergin werkzeugmärkte': 'bergin',\n",
    "       'bermar (rnational)': 'bermar',\n",
    "       'bilanciaexim':'bilancia exim',\n",
    "       'black box ®':'black box',\n",
    "       'blue-chip trade kft': 'blue-chip',\n",
    " 'blue-chip trade kft':'blue-chip',\n",
    " 'bold group':'bold',\n",
    "  'bolero aguazero':'bolero',\n",
    "  'bright design':'bright',\n",
    "  'burg-guard':'burg',\n",
    "  'båtsystem':'batsystem',\n",
    "  'böhme':'bohme',\n",
    "  'cai hong cai lighting.':'cai hong cai lighting',\n",
    "  'canlux lighting, limited':'canlux lighting',\n",
    "  'carat art 337117':'carat art ',\n",
    " 'carat art 337119':'carat art ',\n",
    " 'carrier fire & security ': 'carrier',\n",
    " 'cater-cool':'cater',\n",
    " 'cater-wash':'cater',\n",
    " 'charalamp':'chara lamp',\n",
    " 'concept_hoods':'concept hoods',\n",
    " 'cooke&lewis': 'cooke & lewis',\n",
    " 'corberó': 'corbero',\n",
    " 'corel italy':  'corel',\n",
    " 'creative-cables':'creative cables',\n",
    " 'currys essentials':'currys',\n",
    " 'czc g':'czc',\n",
    " 'da pan electric appliance ':'da pan electric appliance',\n",
    " 'de longhi':'delonghi',\n",
    " \"de'longhi\":'delonghi',\n",
    " 'de-light.de':'de-light',\n",
    " 'deko-light':'deco-light',\n",
    " 'delta dore':'delta',\n",
    " 'delta light n.v.':'delta',\n",
    " 'deluxe lighting':'delux',\n",
    " 'deta eletricalpany':'deta electricalpany',\n",
    " 'dt table lamp lisa':'dt',\n",
    " 'dva - blue electric':'blue electric',\n",
    " 'eas electrictnology': 'eas electric',\n",
    " 'eglo(hongli)': 'eglo',\n",
    " 'eko-led':'eko',\n",
    " 'eko-light':'eko',\n",
    " 'elektrabregenz': 'elektra bregenz',\n",
    " 'elektroland austria':'elektroland',\n",
    " 'energetic®': 'energetic',\n",
    " 'entity elettronica': 'entity',\n",
    " 'eterna lighting limited':'eterna lighting',\n",
    " 'falkon': 'falcon',\n",
    " 'fan europe lighting':'fan europe',\n",
    " 'fan europe lighting a socio unico':'fan europe',\n",
    " 'fh lighting':'fh',\n",
    " 'fh mirpol':'fh',\n",
    " 'finlux pro': 'finlux',\n",
    " 'flashaar®':'flashaar',\n",
    " 'flexit as': 'flexit',\n",
    " 'flos architectural': 'flos',\n",
    " 'flos outdoor': 'flos',\n",
    "  'foshan kaicheng lighting, ': 'foshan kaicheng lighting',\n",
    " 'foshan kaicheng lighting.': 'foshan kaicheng lighting',\n",
    " 'fuzhou reacheight imp & exp.': 'fuzhou reacheight imp & exp',\n",
    " 'gea led':'gea',\n",
    " 'gea luce':'gea',\n",
    " 'gesco trading  rporto campano': 'gesco trading',\n",
    " 'getic-light':'getic light',\n",
    " 'globiz rnational kft.':'globiz rnational kft',\n",
    " 'globo  handels':'globo',\n",
    " 'globo / moemax':'globo',\n",
    " 'globo handels':'globo',\n",
    " 'globo handels gewerbestrasse 3 9184 st. peter':'globo',\n",
    " 'globostar® group':'globostar group',\n",
    " 'gorenje_gor': 'gorenje',\n",
    " 'götze & jensen':'gotze & jensen',\n",
    "  'hightec':'hightech',\n",
    " 'hisense rnational (hong kong) europe investment':  'hisense',\n",
    " 'hitachi europe': 'hitachi',\n",
    " 'homa appliances':  'homa',\n",
    " 'homedmeo': 'homedemo',\n",
    " 'horstmann & kg':'horstmann',\n",
    " 'hq-power':'hq',\n",
    " 'ilka jost - jostechnik':'ilka',\n",
    "  'inotec sicherheitstechnik': 'inotec',\n",
    " 'iperled':  'iper',\n",
    " 'iperlux':  'iper',\n",
    " 'iperlux - iperled' : 'iper',\n",
    " 'jiso flood light':'jiso',\n",
    " 'jiso iluminación, sl.':'jiso',\n",
    "  'julia grup furnituretions slu': 'julia grup',\n",
    " 'junkers':'junker',\n",
    " 'kams sarl': 'kams',\n",
    " 'kbs gastroetechnik': 'kbs gastrotechnik',\n",
    " 'kbs gastrotechnink': 'kbs gastrotechnik',\n",
    " 'kbs-gastrotechnik': 'kbs gastrotechnik',\n",
    " 'kingfisher   ':'kingfisher',\n",
    " 'kingfisher rnational cts ':'kingfisher',\n",
    " 'kingfisher rnational cts limited':'kingfisher',\n",
    " 'ks lighting group aps':'ks',\n",
    "  'led hispania®':'led hispania',\n",
    "   'led line®': 'led line',\n",
    " \"led's light basic\":   \"led's light\",\n",
    " \"led's light pro\":   \"led's light\",\n",
    "  \"led's work pro\":\"led's work\",\n",
    " 'led2work.':'led2work',\n",
    " 'ledit-yaki':'ledityaki',\n",
    " 'ledlumi led spot 8w 2850 kelvin':'ledlumi',\n",
    " 'ledlumi spots':'ledlumi',\n",
    " 'ledlumi stripes':'ledlumi',\n",
    "  'ledtec':'ledtech',\n",
    " 'leisure-tec rnational limited': 'leisure',\n",
    "  'leuchten - dreamy lamps':'leuchten',\n",
    " 'lg electronics': 'lg',\n",
    " 'life electronics spa': 'life',\n",
    " 'lifetastic®':'lifetastic',\n",
    " 'lighting by havsö':'havso',\n",
    " 'lightup, singapore':'lightup',\n",
    "  'lit by cardi':'cardi',\n",
    "  'livarno home':'livarno',\n",
    " 'livarno lux':'livarno',\n",
    " 'livarnolux':'livarno',\n",
    " 'loewe.':'loewe',\n",
    " 'lofter-pro':'lofter',\n",
    " r'lofter-pro\\u200b':'lofter',\n",
    " 'luca bessoni':'luca',\n",
    " 'luca lighting':'luca',\n",
    " 'luca lighting ®':'luca',\n",
    " 'lucci ledlux lp':'lucci ledlux',\n",
    " 'luminea hometrol':'luminea',\n",
    " 'luminus devices':'luminus',\n",
    " 'lumitronix® led-technik':'lumitronix led-technik',\n",
    " 'lumnium eu': 'lumnium',\n",
    "  'lumsevi 2016 s.l': 'lumsevi',\n",
    " 'lux-vision': 'lux',\n",
    " 'luxia as': 'luxia',\n",
    " 'luxia unipersonale': 'luxia',\n",
    "  'luxifer | lxf.cz': 'luxifer',\n",
    "   'luxiona/troll': 'luxiona',\n",
    "   'luxstream - luxline':'luxstream',\n",
    " 'luxstream - multifit':'luxstream',\n",
    " 'matel group':'matel',\n",
    " 'maximus - maximus': 'maximus',\n",
    " 'megaman®':'megaman',\n",
    "'m.i.':'mi',\n",
    " 'miele & cie kg': 'miele',\n",
    " 'migros':'migross',\n",
    " 'miltech led lighting':'miltech',\n",
    " 'miltech proling':'miltech',\n",
    " 'mitsubishi heavy industries':  'mitsubishi',\n",
    " 'montpellier domestic appliance':'montpellier domestic appliances',\n",
    " 'moooi ':  'moooi',\n",
    " 'mora armatur':'mora',\n",
    " 'musenlin electronics (huizhou)':  'musenlin',\n",
    " 'neo.': 'neo',\n",
    " 'nk porcelanosa':'nk',\n",
    "  'nordlicht beleuchtungssysteme':'nordlicht beleuchtungssysteme',\n",
    "  'opticum red':'optimum',\n",
    " 'orion leuchten':'orion',\n",
    " 'ottlitenologies':'ottlite',\n",
    " 'ottlitenologies, inc.':'ottlite',\n",
    " 'ottopuntozero': 'otto',\n",
    "  'panalight®': 'panalight',\n",
    "   'poco einrichtungsmärkte': 'poco',\n",
    " 'power beauty (dong guan) industrial': 'power beauty',\n",
    " 'pp pölet ktion':'pp pöllet ktion',\n",
    " 'premier housewares':'premier',\n",
    " 'premiere':'premier',\n",
    " 'premium living':'premium',\n",
    " 'premium partners europe nv':'premium',\n",
    " 'princesse':'princess',\n",
    " 'proff a.s. - princess':  'proff',\n",
    " 'prolight':'prolights',\n",
    "  'pöllet ktion': 'pollet ktion',\n",
    " 'quantula sp. z o.o':'quantula',\n",
    " 'raven mti':'raven',\n",
    " 'reality leuchten':'reality',\n",
    " 'redled value': 'redled',\n",
    " 'reer spa': 'reer',\n",
    " 'santa &e':'santa & e',\n",
    " 'sc-tech': 'sc',\n",
    " 'schmelter led-technology®':'schmelter',\n",
    " 'schmitz | wila':'schmitz',\n",
    " 'schneider electric':'schneider',\n",
    " 'schreuder&waterman':'schreuder & waterman',\n",
    " 'sea&mew':'sea & mew',\n",
    " 'sera, heinsberg':'sera',\n",
    " 'severin elektrogeräte':'severin',\n",
    " 'severin elektrogräte':'severin',\n",
    "  'sigalux,    sengled': 'sigalux',\n",
    "'silva homeline':'silva',\n",
    " 'silva schneider':'silva',\n",
    " 'simpex basic':'simpex',\n",
    " 'simpex electronic ag':'simpex',\n",
    " 'simpex import export':'simpex',\n",
    " 'sloanled® - bendlux':'sloanled',\n",
    " 'sloanled® - brightline 2 long lp':'sloanled',\n",
    " 'sloanled® - brightline 2 short':'sloanled',\n",
    " 'sloanled® - brightline 2 short lp':'sloanled',\n",
    " 'sloanled® - brightline outdoor long':'sloanled',\n",
    " 'sloanled® - brightline outdoor short':'sloanled',\n",
    " 'sloanled® - flexibrite':'sloanled',\n",
    " 'sloanled® - indumoon':'sloanled',\n",
    " 'sloanled® - indusun':'sloanled',\n",
    " 'sloanled® - linea':'sloanled',\n",
    " 'sloanled® - pdl3 modus':'sloanled',\n",
    " 'sloanled® - pdl3 modus mini':'sloanled',\n",
    " 'sloanled® - pml4':'sloanled',\n",
    " 'sloanled® - posterbox™ 3':'sloanled',\n",
    " 'sloanled® - posterbox™ id':'sloanled',\n",
    " 'sloanled® - posterbox™ slim 2':'sloanled',\n",
    " 'sloanled® - prism12 nano':'sloanled',\n",
    " 'sloanled® - sloanled flextape':'sloanled',\n",
    " 'smd ledline®':'smd ledline',\n",
    " 'spector light sia': 'spector light',\n",
    " 'star-light':'starlight',\n",
    " 'status rnational uk': 'status',\n",
    " 'stealth light':  'stealth',\n",
    " 'superker elektro centrum kft.':'superker elektro',\n",
    " 'superker elektro centum kft.':'superker elektro',\n",
    " 't-ikea':'ikea',\n",
    " 'td_lighting':'td lighting',\n",
    "  'techlumen led lighting': 'techlumen',\n",
    "  'teclum':'techlumen',\n",
    " 'teclumen':'techlumen',\n",
    " 'tekstap mandanous': 'tekstap',\n",
    " 'tesla lighting': 'tesla',\n",
    "  'the dezac group (europe)  azura': 'the dezac group',\n",
    " 'thetaco traders':  'thetaco',\n",
    "  'thriumph tree ®': 'thriumph tree',\n",
    " 'triumph tree ®':  'triumph tree',\n",
    "  'tm electron':'tm',\n",
    " 'tm lecom':'tm',\n",
    " 'tm power':'tm',\n",
    " 'tot electric': 'tot',\n",
    " 'troll / bianchi':'bianchi',\n",
    "  'uğur': 'ugur',\n",
    "   'verde electric':'verde',\n",
    " 'verde led':'verde',\n",
    " 'verve design': 'verve',\n",
    " 'vidaxl.com': 'vidaxl',\n",
    " 'vivida bulbs':'vivida',\n",
    " 'vivida rnational':'vivida',\n",
    " 'vividanology':'vivida',\n",
    " 'vonreiter': 'von reiter',\n",
    " 'w.schneider+co ag':'w.schneider',\n",
    " 'we. by loewe':'loewe',\n",
    "  'westnet distribution single member': 'westnet',\n",
    "'whirlpool emea':'whirlpool',\n",
    " 'white eta':'white',\n",
    " 'wortmann/terra':'wortmann terra'\n",
    "}"
   ]
  },
  {
   "cell_type": "code",
   "execution_count": 42,
   "metadata": {},
   "outputs": [
    {
     "data": {
      "text/plain": [
       "3814"
      ]
     },
     "execution_count": 42,
     "metadata": {},
     "output_type": "execute_result"
    }
   ],
   "source": [
    "clean_brands(dict2)\n",
    "len(df['Brand'].unique())"
   ]
  },
  {
   "cell_type": "markdown",
   "metadata": {},
   "source": [
    "---"
   ]
  },
  {
   "cell_type": "code",
   "execution_count": 43,
   "metadata": {},
   "outputs": [],
   "source": [
    "# ELIMINAR\n",
    "lista_quitar = ['-',\n",
    "'02028 maxxmee elektro kühlbox','021a-5000-30-608','07949 fcb kühlschrank', '1 primer leader', '213391 - powerpoint',\n",
    " '2r','3324092', '3dyycx', '4vwin', '4x light', '6','6004w', '6090-2h', '6090y',\n",
    " '6091h','6091h-kf', '7h dayron', '7h sevenon', '8060gz', '8090gz', '8099gis z','8099is z',\n",
    " '8888w', '8ons', '9004w', '9031x', '9039x', '9039xw', '9039y', '9040-60bz', '9040-60wz', '9040-90 bz', '9040-90wz', '9040/90bz',\n",
    " '9040/90wz', '9041-60 xbg', '9041-80xbg', '9060bh', '9060wh', '9080bz','9080wz','9090 isz','9090-2h','9860lz','9878lz','9999-2h',\n",
    " 'a led ','a lighting', 'ambience 70 (13,4w)','amhps-3520','art light design','aufbauleuchte chrom',\n",
    " 'aufbauleuchteer', 'aufsteckleuchte','b+m move','b+s', 'b-leuchten', 'b-right','basic', 'basic line',\n",
    " 'beijingjunxingmingwangkejiyouxiangongsi','bic8 gk-2kb ix4','cbjktx','changzhou luo te li jia dian zig wu','color & ambience pro',\n",
    " 'color & white (4in1)','color & white pro', 'conextbar20 led-modul, 20 leds, warmweiß, 10,4x1cm, 24v','cwycfw',\n",
    " 'cxyemt','design light sp.z o.o.', 'designlight ab', 'designlightdinavian ab', 'designplan lighting', 'designtorget / åhléns',\n",
    " 'ding cheng lighting rnational,limited','directsigns / noble','ditta individuale di peri diego', 'dmlux verlichtingsarmaturen',\n",
    "'dong guan lin jing electricalnology', 'dong guan lin jing electricalnology.ltd',\n",
    " 'dongguan keys testingnology.', 'dongguan oushi electronicnology','dongguan saipin electronicnology.',\n",
    " 'dongguan sogoodeputer system','dongguan vicky lighting',\n",
    " 'dongguan xingbo lightingnology', 'dongguan xingbo photoelectricnology',\n",
    " 'dongguanbofa photoelectricnology','dongguanshi dongsen lighting','dongguanshi dongsen lighting.',\n",
    " 'dot-spot & kg','downlight lav e 2700k hvid',\n",
    " 'downlight lav e 2700k sort','downlight lav e 3000k hvid','družstevní závody dražice - strojírna ','durable hunke & jochheim & kg',\n",
    " 'edg enzo de gasperi','electronicler/warmer    (kue002sz，kue002dgr，kue002bl，kue002gn)',\n",
    " 'electronicler/warmer （kue003sz，kue003gr，kue003bl）','elettroapparecchiature friggeri','em 009055716 - lc-power',\n",
    " 'emil lux & kg','enshishisifangshangshangmaoyouxiangongsi', 'euro led sp.z.o.o', 'euro led sp.z.oo','f.h.u janusz pawłowski',\n",
    " 'f7-2x','fa. de-light.de', 'flaschenkühlschrank 270ln','flaschenkühlschrank 88l','flaschenkühlschrank 88l,28fl',\n",
    " 'flaschenkühlschrank, 270ln','forgast 40-780 katowice owsiana 58a','forma e funzione','frisch-licht & kg',\n",
    " 'frn 0600 m l', 'frn 0900 m l','frn 1200 m l', 'fs1-60bspy', 'ganzhoushiyouermaoyiyouxiangongsi', 'ge current, a daeepany',\n",
    "  'gesellschaft für energie- und umweltschutzberatung mbh','globaltronics & kg', 'gm led lighting',\n",
    "'gnh1410tng','gnosjö  konstsmide ab','go trade mateusz chełmikowski', 'gsi-60cixph', 'guang dong mei zhi dian qi ke ji you xian gong si',\n",
    "'guangdong caixingnology.','guangdong guangyang electric.','guangdong guangyun lighting.',\n",
    " 'guangdong kinxzo lighting','guangdong lact lighting.', 'guangdong lingjiang lightingnology', 'guangdong unique', 'guangdong unique appl.',\n",
    " 'guangdong xinhuahuihuang supply chain','guangpu electronics.', 'guangzhiyun lighting.','guangzhou chengren electronicnology.',\n",
    " 'guangzhou hecheng new materialltd', 'guangzhou hongdanology','guangzhou houde lighting appliance.ltd.',\n",
    " 'guangzhou kaituo networknology.','guangzhou meishuxiamerce.','guangzhou shuoguo industry and trade.',\n",
    " 'guangzhou yinaite electronicnology.','guangzhoudaiyumaoyiyouxiangongsi','guangzhoushizhifeidengshizhaomingkeji',\n",
    " 'hangzhou gangsheng sanitary ware','hangzhou guiniao trading.','hangzhou yanlunology.', 'hi-volt 230v', 'hjhx-shiye', 'hotelminibar.it',\n",
    " 'hs-60wn', 'huaxin (dongguan)nology', 'huangshan fanghua network.',\n",
    "'huizhou maimengnology.','huizhoushi wuyou trade','huizhoushizexingkejiyouxiangongsi',\n",
    "'i', 'i-glow', 'i-lep', 'i-lèd', 'i-o data', 'i.f.fase', 'i2-70+btz', 'i2-70+wtz','i3-40a+btz', 'i3-40a+wtz','ip44',\n",
    "'ir-luks d.o.o.', 'ivars i lanna ab', 'jbl reptil led daylight 13w',\n",
    "'jiang men shi deyue jin chu kou you xian gong si','jiangmen bestday electric',\n",
    " 'jiangmen hezhongxin lightingltd.','jiangmen maihui lighting.', 'jiangmen nanzhiguang lightingnology.', 'jiangmen pengjiang aizhijia photoelectricnology',\n",
    " 'jiangmen rope light lightingnology',r'jiangmen\\xa0lianyi\\xa0hardware\\xa0&\\xa0lighting\\xa0co.,\\xa0ltd.',\n",
    " r'jiangmen\\xa0lianyi\\xa0trading\\xa0co.,\\xa0ltd.',r'jiangmen\\xa0nglamp\\xa0lighting\\xa0technology\\xa0co.,\\xa0ltd.',\n",
    "'jiangxi tricolor trade','jiatao illuminationnology','jiatao lightingnology.','jiaxing chengtai mirror',\n",
    " 'jinhua letron lightingnology', 'k','k-bright', 'k-light', 'kalb material für möbel','kc-50l','kc-75',\n",
    "  'kh-60kh-s', 'kh-gsh-60b', 'kh-msh-60b', 'khg', 'khu-601', 'khu-602', 'khu-602-h', 'khu-603','khu-60eb',\n",
    " 'kunshanshi yao xin huo yun dai li you xian gong si',r'kunshan\\xa0sundajun\\xa0e-commerce\\xa0co.,\\xa0ltd.',\n",
    " 'kwb - kraft und wärme aus biomasse','kwb kraft und wärme aus biomasse','küppersbusch',\n",
    " 'küppersbusch hausgeräte', 'lam(ms)pen', 'lamled140 - vesoi', 'lci - lightingponents rnational',\n",
    " 'le, lighting ever, lepro','led flutlichtstrahler 100 w','led flutlichtstrahler 40 w', 'led glühbirne 14 w',\n",
    " 'led strahler 30 w','led strip','led strip light', 'led tv ultrawide 18,5\" / dvb-s2, dvb-t2, dvb-c / dvd-player',\n",
    " 'led tv ultrawide 22\"   / dvb-s2, dvb-t2, dvb-c / dvd-player', 'led tv ultrawide 24\"   / dvb-s2, dvb-t2, dvb-c / dvd-player',\n",
    " 'led tvtwide 19\" / dvb-s2, dvb-t2, dvb-c /  bluetooth','led tvtwide 22\" / dvb-s2, dvb-t2, dvb-c /  bluetooth',\n",
    " 'led tvtwide 24\" / dvb-s2, dvb-t2, dvb-c /  bluetooth', 'led tvtwide 32\"','led vorbauleuchte alu',\n",
    "  'led- deckenleuchtey', 'led-belysning sweden ab','led-deckenleuchte blake', 'led-deckenleuchte bott', 'led-emotion',\n",
    " 'led-flex_rzb172cc.3000k_cri90','led-flex_rzb172cc.4000k_cri90', 'led-konzept.de',\n",
    " 'led-leisten.com','led-lumin ','led-modul, 240x17.4mm, 21 leds, 24 v, 5700k',\n",
    " 'led-panel sina','led-platine', 'led-pol','led-strahler 50 w','led-studien','led-trading',\n",
    "  'ledison shenzhen optoelectronicsltd', 'leds c4', 'lepro/le/lightingever',\n",
    "   'lianyungang lianyi',r'lianyungang\\xa0lianyi\\xa0e-commerce\\xa0co.,\\xa0ltd.',\n",
    "   'light by sweden','light environmenttrol', 'light house','light prestige', 'light trade', 'light trend', 'light-point',\n",
    "   'lingshou yunjian mineral cts processing plant','linhai changsheng lighting.','linhai hongjie lighting',\n",
    "'linyi rongxuan lighting','linyi rongxuan lighting.','linyi rongxuan lighting..', 'longood\\xa0electronics\\xa0(h.k.)\\xa0co.,limited',\n",
    " 'lug light factory sp. z o. o.','m.h.licht','max weishaupt','max-led', 'miduo lightingnology.', 'miljöbelysning sweden ab',\n",
    "'ms led','ms-belysning','n/a', 'nanjing chuangwei household electronic appliances limited', 'nara hladilna tehnika d.o.o.',\n",
    "'ningbo anuanya electronicmerce', 'ningbo bayhong industry.ltd','ningbo echo l trade.',\n",
    " 'ningbo homelite', 'ningbo joining electronicnology',\n",
    " 'ningbo lighting', 'ningbo miles river lighting', 'ningbo refine lightingnology', 'ningbo sunshinelux lighting',\n",
    " 'ningbo taikoo outdoor prod', 'ningbo warm lightingpany limited','ningbo yusing lighting.', 'ningbomiaohuidianzishangwuyouxiangongsi',\n",
    "  'niviss leszek łosin sp. j.','no logo','no name','obelink vrijetijdsmarkt bv', 'okka flex 600w (400v)',\n",
    " 'ophelia 1402-07-30-e-w-d',' s. r. o.', 'performance in lighting', 'pingyun lighting factory', 'plu001',\n",
    "'prime rnational lighting,limited.','prime-lighting', 'protec.class', 'prova_tondo1led_01_00170',\n",
    " 'qianlongyuannology','qingdao electric appliances','qingdao electric appliancesltd','qingdaohuituyuhongshangmaoyouxiangongsi',\n",
    " 'qvc handel s.à r.l. & kg','r','r.d.i. deutschland autoteile + zubehör','rejs spółka z o.o.',\n",
    " 'roma regal sl / romluxe', 'rong fei lighting.','s.a.''s.luce', 's13-60 bbpy','s2-60 abtz', 's2-90abtz', 's20-60 abty', 's20-60 awty', 's20-60 awtz',\n",
    "  's20-60abtz', 's20-90 abty', 's20-90 awty', 's22-60 bbpy', 's23-60 abpx', 's25-60 abth', 's25-60 awth', 's25-90 abth', 's25-90 awth',\n",
    " 's26-50 bbty', 's26-60 bbty','s26-60 bwty','s26-90 bbty',\n",
    " 's26-90 bwty', 's27-60abty', 's27-60awty', 's27-90a+bty', 's27-90a+wty', 's3-60 abtz', 's3-90 abtz',\n",
    " 's5','s5 elettronica', 's5-80 bbex','s7-60 abth','s7-60 awth', 's7-90abth', 's7-90awth', 's9-60 abtz', 's9-80 abtz',\n",
    "'scandinavian home lysea','scandinavian lightingcept','sg','sgd - source', 'sgx', 'sh-a60-bl','sh60-bl',\n",
    " 'sh60-ix','sh60-ixg','sh60-wh','shanghai ogino biotechnology','shanxi juyuanyi trading.',\n",
    "'shaoxing puer electrical', 'shaoxinggyu hengda lighting',\n",
    "'shen zhen shi fei yue te ke ji you xian gong si','shen zhen shi jia le xin ke ji you xian gong si',\n",
    "'shendingchengnology', 'shenzhen aihuigonology.', 'shenzhen aiwangluonology.', 'shenzhen altolennology.',\n",
    " 'shenzhen aorui', 'shenzhen baina hengshengnology.', 'shenzhen baohao tongxingnology.', 'shenzhen bohuinology.',\n",
    " 'shenzhen century lightnology', 'shenzhen chuanghuaxingnology', 'shenzhen city shuniunology.', 'shenzhen cms optoelectronicsnology',\n",
    " 'shenzhen creeluxnology', 'shenzhen delixikenology', 'shenzhen dongdahua youpin electronicmerce.', 'shenzhen dongdahuayoupin',\n",
    " 'shenzhen dongfang qiyi optoelectronicnology', 'shenzhen donglin high-tech', 'shenzhen dongyunsen rnational trade.',\n",
    " 'shenzhen eveluster lighting', 'shenzhen feicannology', 'shenzhen feihe electronics', 'shenzhen haocaiyangnology.',\n",
    " 'shenzhen haosanpin photoelectric', 'shenzhen heng chong zhi chuang trading.', 'shenzhen hengzhifengnology',\n",
    " 'shenzhen houyi energy saving.', 'shenzhen howsannology.', 'shenzhen huatian huanyunology.', 'shenzhen huazhitainology',\n",
    " 'shenzhen impreznology', 'shenzhen kaweinology.', 'shenzhen kenowa electronics', 'shenzhen langka electronic.',\n",
    " 'shenzhen led lighting equipmentltd', 'shenzhen libin electronicnology', 'shenzhen longtime metals',\n",
    " 'shenzhen mixiaoxiao trading.', 'shenzhen nanyawei electronic', 'shenzhen nearbyexpressnology',\n",
    " 'shenzhen one-z autonology.', 'shenzhen oumeike lightingnology', 'shenzhen shenxincannology',\n",
    " 'shenzhen shenzhinology.', 'shenzhen shi lehuigou ke ji you xian gong si', 'shenzhen shi ouyigou ke ji you xian gong si',\n",
    " 'shenzhen shunfa optoelectronic', 'shenzhen shuoran electronicnology', 'shenzhen simingshengnology',\n",
    " 'shenzhen team bussinessltd', 'shenzhen tianyunnology.', 'shenzhen times innovation', 'shenzhen vst lighting',\n",
    " 'shenzhen wedo lighting', 'shenzhen weiluonology.', 'shenzhen xianliang lighting', 'shenzhen yimingjingying trade',\n",
    " 'shenzhen you hao man mao yi you xian gong si', 'shenzhen yuntian lligencetrol', 'shenzhen zhanghui electronicmerce.',\n",
    " 'shenzhen zxt lcdnology,limited', 'shenzhene cheng electronic', 'shenzhengsu zhiguangnology',\n",
    " 'shenzhenlight power supply', 'shenzhenshi jikehuwaiyongpinyouxiangongsi', 'shenzhenshi keliye guangxuenology',\n",
    " 'shenzhenshi modengzhiguang kejiyouxiangongsi', 'shenzhenshi ouleming kejiyouxiangongsi', 'shenzhenshi oumingrui maoyi youxiangongsi',\n",
    " 'shenzhenshi pengchuangxingnology', 'shenzhenshi xindabang dianzikeji youxiangongsi', 'shenzhenshi xinjie maoyiyouxiangongsi',\n",
    " 'shenzhenshi xitikejiyouxiangongsi', 'shenzhenshieryueerkejiyouxiangongsi', 'shenzhenshihailunxuelipijupifayouxiangongsi',\n",
    " 'shenzhenshiheshuntaidakuajingdianshangltd.', 'shenzhenshihuibonakejiyouxiangongsi', 'shenzhenshimeijibandaotiyouxiangongsi',\n",
    " 'shenzhenshixinhuachengwujinzhipin', 'shenzhenshixinruimingkejiyouxiangongsi',\n",
    "  'sichuanhuanqiuweiyezhuangshigongchengyouxiangongsi','sl i3-40a+sstz',\n",
    " 'sl i4-90a++ixtz', 'sl p1-60a ixez', 'sl p1-90a+ixez', 'sl s4-60a++btz', 'sl s4-60a++wtz', 'sl s4-90a++btz',\n",
    " 'sl s4-90a++wtz', 'sl s5-60 abtz', 'sl s5-60 awtz', 'sl s5-80 abtz', 'sl s5-80 awtz', 'sl t2-60a++ixtz',\n",
    " 'sl t2-90a++ixtz', 'sl10-60 abtz', 'sl10-90 abtz', 'slg - skeidar living group', 'slg - skeidarlivinggroup',\n",
    "'smart brand','smart home','smart vision','spe prn 0850 e l','spe prn 1050 e l','spe prn 1200 e l','studio retail / egl',\n",
    "'supplier name or trademark', 'suzhoushitiaotiaolongwangluojishufuwugongsi','t1-60 a++ ixez','t1-90 a++ixez',\n",
    " 'tengzhou haolong glass','tiefkühlschrank 200ln','tiefkühlschrank tks38', 'tiefkühltruhe 252lw',\n",
    " 'tiefkühltruhe 368lw', 'tiefkühltruhe 458lw','u', 'uab kesko senukai lithuania','ubh3001x',\n",
    " 'ubh4060-2h','ubh5000h','ubh5000h2','ubh6002-2h','ultra bright','ultra led','ultrabrite','ultralight','ultratech',\n",
    " 'v-tac','v-too','v-zug','v. kafkas /ors', 'varo vic van rompuy nv/powerplus', 'vbl - vivida bulbs',\n",
    " 'veko light systems rnational bv', 'viessmann werke & kg', 'www.lug.com.pl - lug light factory sp. z o. o.','x'\n",
    "'xec10030sw1','xec10030sw2', 'xec10030sw3', 'xec10030sw4', 'xec2772700sw1', 'xec2773000sw1',\n",
    "'xiaoyou lightingnology', 'xinli(shenzhen)gongyinglianguanliyouxiangongsi','xp55','xp56',\n",
    "'yibin jiaxin electronicnology.','yichenganyuanqianmingwangluoxiaoshouyouxiangongsi', 'yt-a-24xb',\n",
    "'zhoukou xuanmao trading.','zhuzhouxuehandianziyouxiangongsi','zuodeng lighting and electrical',\n",
    " 'ökoled','öuesen','επιλογη μου','φos_me','тмт елком оод'\n",
    " ]"
   ]
  },
  {
   "cell_type": "code",
   "execution_count": 44,
   "metadata": {},
   "outputs": [
    {
     "data": {
      "text/plain": [
       "3308"
      ]
     },
     "execution_count": 44,
     "metadata": {},
     "output_type": "execute_result"
    }
   ],
   "source": [
    "df = df[~df['Brand'].isin(lista_quitar)]\n",
    "len(df['Brand'].unique())"
   ]
  },
  {
   "cell_type": "markdown",
   "metadata": {},
   "source": [
    "---\n",
    "---\n",
    "3a Limpieza"
   ]
  },
  {
   "cell_type": "code",
   "execution_count": 45,
   "metadata": {},
   "outputs": [],
   "source": [
    "# CAMBIAR\n",
    "dict3 = {\n",
    "    ' jiexinnology  \"' : 'jiexinnology',\n",
    "     'a.i.o.':'aio',\n",
    "     'alessandro rnational':'alessandro',\n",
    "     'allocacoc,designnest':'allocacoc',\n",
    "      'anteiluminação': 'anteiluminacao',\n",
    "      'argus light ':'argus light',\n",
    "      'arlight rus':'arlights',\n",
    "      'a.c.l.':'acl',\n",
    "      'a.l.s.':'als',\n",
    "       'a.t.lums': 'atlums',\n",
    "    r'bankamp-\\u200bleuchten &':'bankamp',\n",
    "    'bdsk handels &':'bdsk handels',\n",
    "    'bott &':'bott',\n",
    "     'beneito & faure lighting,': 'beneito & faure lighting',\n",
    " 'brilliant royal': 'brilliant',\n",
    " 'chacon/dio':'chacon dio',\n",
    " 'citizen electronics.': 'citizen electronics',\n",
    " 'dellonda (eu)':'dellonda',\n",
    " 'dornbracht ag &':'dornbracht',\n",
    " 'dot-spot &':'dot-spot',\n",
    " 'durable hunke & jochheim &':'durable hunke & jochheim',\n",
    " 'där':'dar',\n",
    " 'eco.luma':'eco luma',\n",
    "  'elte inglés': 'el corte inglés',\n",
    "  'emil lux &': 'emil lux',\n",
    "   'flli francesconi & c.': 'flli francesconi',\n",
    "   'foshan kaicheng lighting':'foshan',\n",
    " 'foshan leap electrical appliances':'foshan',\n",
    "  'frisch-licht &': 'frisch-licht',\n",
    "  'förch':'forch',\n",
    "   'g.d. ice': 'gd ice',\n",
    "   'gastroled am':'gastroled',\n",
    "   'gebr. knapstein':'gebr knapstein',\n",
    "   'general luminaire (shanghai).':'general luminaire',\n",
    "   'globaltronics &': 'globaltronics',\n",
    " 'globiz rnational kft':'globiz international kft',\n",
    " 'govee moments (de) handel': 'govee moments',\n",
    " 'h.w.s':'hws',\n",
    " 'hefei hualingltd.':'hefei hualing', \n",
    " 'hm müllner':'hm mullner',\n",
    "  'hornbach baumarkt ag': 'hornbach baumarkt',\n",
    " 'hotels management sia': 'hotels management',\n",
    "  'hovgard beslag ': 'hovgard beslag',\n",
    "   'häfele': 'hafele',\n",
    "   'häwa':'hawa',\n",
    "  'höfftech': 'hofftech',\n",
    "  'ideal lux':'ideal',\n",
    " 'ideal plus':'ideal',\n",
    "  'iliadis alexandros sa': 'iliadis alexandros',\n",
    "  'in-lite design ':'in-lite design',\n",
    "  'iris l&d':'iris',\n",
    "   'jako dřív.cz': 'jako',\n",
    " 'jehser + rose': 'jehser & rose',\n",
    " 'jotaeme lamps,': 'jotaeme lamps',\n",
    "  'kootion informationnology': 'kootion',\n",
    "   'kopsen electronicnology.': 'kopsen',\n",
    " 'kronings aps': 'kronings',\n",
    "  'kwangmyung semiconductor ': 'kwangmyung semiconductor',\n",
    "   'körting': 'korting',\n",
    "    'lacor menaje profesional': 'lacor',\n",
    " 'lamborghini caloreclima': 'lamborghini',\n",
    " 'laufen bathrooms ag': 'laufen bathrooms',\n",
    "  'ledlight danmark ': 'ledlight',\n",
    " 'ledscom.de': 'ledscom',\n",
    " 'ledstudio.at': 'ledstudio',\n",
    "  'lightmakers ': 'lightmakers',\n",
    " r'lofter-pro\\u200b': 'lofter',\n",
    "  'lumitronix led-technik': 'lumitronix',\n",
    " 'mandrops ag': 'mandrops',\n",
    " 'markslöjd': 'markslojd',\n",
    "  'maytoni decorative lighting': 'maytoni',\n",
    " 'mcc trading rnational': 'mcc',\n",
    "  'mission sg': 'mission',\n",
    "   'möbelix': 'mobelix',\n",
    "'müller-licht': 'muller-licht',\n",
    " 'neumüller elektronik': 'neumuller elektronik',\n",
    " 'nordlicht beleuchtungssysteme': 'nordlicht',\n",
    "  'norikon as': 'norikon',\n",
    " 'näve leuchten': 'nave leuchten',\n",
    "  'obelink vrijetijdsmarkt': 'obelink',\n",
    " 'ole! lighting': 'ole lighting',\n",
    "  'optop optoelectronics': 'optop',\n",
    " 'oux. electric': 'oux electric',\n",
    "  'oypla.com llp': 'oypla',\n",
    "   'palazzoli spa': 'palazzoli',\n",
    "   'panlux s. r. o.': 'panlux',\n",
    " 'piranha bilisim teknolojileri': 'piranha bilisim',\n",
    "  'pp pöllet ktion': 'pp pollet ktion',\n",
    "  'prediger.base': 'prediger',\n",
    "   'pze lightingltd.': 'pze lighting',\n",
    "   'qiwei lighting.': 'qiwei lighting',\n",
    "   'quanlin lightingnology.': 'quanlin lightingnology',\n",
    "   'qvc handel s.à r.l. &': 'qvc handel',\n",
    "   'rena electronica ': 'rena electronica',\n",
    "   'rewe zentral ag': 'rewe zentral',\n",
    "   'rhein  lighting': 'rhein lighting',\n",
    " 'roma regal / romluxe': 'roma regal',\n",
    "  'rossini illuminazione': 'rossini',\n",
    " 'ruiyuyu lighting.': 'ruiyuyu lighting',\n",
    "  'räder': 'rader',\n",
    "  'satcom oü': 'satcom ou',\n",
    " 'scandomestic ': 'scandomestic',\n",
    "  'scholtès': 'scholtes',\n",
    "   'snaidero by faber': 'snaidero',\n",
    "   'sparelys.no': 'sparelys',\n",
    " 'stanley-idesss.': 'stanley-idesss',\n",
    "  'steck!': 'steck',\n",
    " 'stiltalent by toom': 'stiltalent',\n",
    " 'ströme': 'strome',\n",
    "  'strühm': 'struhm',\n",
    "  'td elektronics':'td',\n",
    " 'td lighting':'td',\n",
    " 'td systems':'td',\n",
    "  'tepcomp group': 'tepcomp',\n",
    " 'trisa electronics ag': 'trisa electronics',\n",
    "  'tzs first austria': 'tzs first',\n",
    "  'ubiquiti inc.': 'ubiquiti',\n",
    "  'unex lighting ag': 'unex lighting',\n",
    " 'veko light systems rnational': 'veko light systems international',\n",
    " 'viessmann werke &': 'viessmann werke',\n",
    "  'vizulo sia': 'vizulo',\n",
    "   'vögel': 'vogel',\n",
    "   'wake up rnational': 'wake up',\n",
    "  'wellis magyarország': 'wellis magyarorszag',\n",
    " 'willy meyer + sohn': 'willy meyer & sohn',\n",
    " 'xinhenology.': 'xinhenology',\n",
    "  'yunguang lightingnology.': 'yunguang lightingnology',\n",
    " 'zhongxiang lighting.':'zhongxiang lighting',\n",
    "  'baitai lighting electric.': 'baitai lighting electric',\n",
    " 'chixiong lightingnology.': 'chixiong lightingnology',\n",
    " 'elettroimpianti spa': 'elettroimpianti',\n",
    " 'elkovo čepelík': 'elkovo cepelik',\n",
    "  'ellos group ab': 'ellos',\n",
    " 'fatboy the original ': 'fatboy the original',\n",
    "  'fuzhou reacheight imp & exp': 'fuzhou reacheight',\n",
    " \"gentlemen's hardware rnational\": \"gentlemen's hardware\",\n",
    "  'globiz international kft': 'globiz international',\n",
    " 'helle kylmäarkku': 'helle kylmaarkku',\n",
    "  'herocamper aps': 'herocamper',\n",
    "   'hilux led aps': 'hilux',\n",
    " 'inox-bazis kft': 'inox-bazis',\n",
    " 'jiexinnology.': 'jiexinnology',\n",
    "  'lars andrzej szymański': 'lars andrzej szymanski',\n",
    "  'maso-profit, ': 'maso-profit',\n",
    "   'schlüter-systems': 'schluter-systems',\n",
    "   'veko light systems international' :'veko light systems',\n",
    " 'vibocold ': 'vibocold',\n",
    "  'adrilux polska sp. z o. o.':'adrilux',\n",
    "   'beneito & faure lighting, s.l':'beneito & faure lighting',\n",
    "    'corp de iluminat - lightman':'lightman',\n",
    "     'spinnaker nt d.o.o.':'spinnaker',\n",
    "      \"strip's d.o.o.\":\"strip's\",\n",
    "     'soled d.o.o.':'soled',\n",
    "     'twinland &kg': 'twinland',\n",
    "}"
   ]
  },
  {
   "cell_type": "code",
   "execution_count": 46,
   "metadata": {},
   "outputs": [
    {
     "data": {
      "text/plain": [
       "3296"
      ]
     },
     "execution_count": 46,
     "metadata": {},
     "output_type": "execute_result"
    }
   ],
   "source": [
    "clean_brands(dict3)\n",
    "len(df['Brand'].unique())"
   ]
  },
  {
   "cell_type": "markdown",
   "metadata": {},
   "source": [
    "----"
   ]
  },
  {
   "cell_type": "code",
   "execution_count": 47,
   "metadata": {},
   "outputs": [],
   "source": [
    "# ELIMINAR\n",
    "lista_quitar2 = [\n",
    "    '', 'changzhou jin tuo trading.',r'jiangmen\\xa0lianyi\\xa0hardware\\xa0&\\xa0lighting\\xa0co.,\\xa0ltd.',\n",
    " r'jiangmen\\xa0lianyi\\xa0trading\\xa0co.,\\xa0ltd.',r'jiangmen\\xa0nglamp\\xa0lighting\\xa0technology\\xa0co.,\\xa0ltd.',\n",
    "  'kunshan\\xa0sundajun\\xa0e-commerce\\xa0co.,\\xa0ltd.','lamp','led tv ultrawide 18,5\" / dvb-s2, dvb-t2, dvb-c /player',\n",
    " 'led tv ultrawide 22\"   / dvb-s2, dvb-t2, dvb-c /player', 'led tv ultrawide 24\"   / dvb-s2, dvb-t2, dvb-c /player',\n",
    " r'lianyungang\\xa0lianyi\\xa0e-commerce\\xa0co.,\\xa0ltd.', 'marke - caussa', 'rnational design', 's.a.',\n",
    " 'thermoelectricler & warmer','unterbauleuchte chrom','unterbauleuchte schwarz matt', 'www.lug.com.pl - lug light factory',\n",
    "'x', 'xec10030sw1', 'yuhengmingnology.', r'lofter-pro\\u200b',\n",
    "]"
   ]
  },
  {
   "cell_type": "code",
   "execution_count": 48,
   "metadata": {},
   "outputs": [
    {
     "data": {
      "text/plain": [
       "3284"
      ]
     },
     "execution_count": 48,
     "metadata": {},
     "output_type": "execute_result"
    }
   ],
   "source": [
    "df = df[~df['Brand'].isin(lista_quitar2)]\n",
    "len(df['Brand'].unique())"
   ]
  },
  {
   "cell_type": "code",
   "execution_count": 49,
   "metadata": {},
   "outputs": [],
   "source": [
    "df['Brand'] = df['Brand'].apply(lambda x: 'BORRAR' if 'jiangmen' in x else x)\n",
    "df['Brand'] = df['Brand'].apply(lambda x: 'BORRAR' if 'lianyungang' in x else x)\n",
    "df['Brand'] = df['Brand'].apply(lambda x: 'BORRAR' if 'kunshan' in x else x)\n",
    "df['Brand'] = df['Brand'].apply(lambda x: 'BORRAR' if 'lofter-pro' in x else x)\n",
    "df['Brand'] = df['Brand'].apply(lambda x: 'BORRAR' if 'jiexinnology' in x else x)\n",
    "df['Brand'] = df['Brand'].apply(lambda x: 'BORRAR' if 'bleuchten' in x else x)\n",
    "df['Brand'] = df['Brand'].apply(lambda x: 'BORRAR' if '&' in x else x)"
   ]
  },
  {
   "cell_type": "code",
   "execution_count": 50,
   "metadata": {},
   "outputs": [],
   "source": [
    "lista_quitar4 = ['BORRAR']"
   ]
  },
  {
   "cell_type": "code",
   "execution_count": 51,
   "metadata": {},
   "outputs": [
    {
     "data": {
      "text/plain": [
       "3251"
      ]
     },
     "execution_count": 51,
     "metadata": {},
     "output_type": "execute_result"
    }
   ],
   "source": [
    "df = df[~df['Brand'].isin(lista_quitar4)]\n",
    "len(df['Brand'].unique())"
   ]
  },
  {
   "cell_type": "markdown",
   "metadata": {},
   "source": [
    "---\n",
    "----\n",
    "----\n",
    "Models"
   ]
  },
  {
   "cell_type": "code",
   "execution_count": 52,
   "metadata": {},
   "outputs": [
    {
     "data": {
      "text/plain": [
       "143452"
      ]
     },
     "execution_count": 52,
     "metadata": {},
     "output_type": "execute_result"
    }
   ],
   "source": [
    "len(df)"
   ]
  },
  {
   "cell_type": "code",
   "execution_count": 53,
   "metadata": {},
   "outputs": [],
   "source": [
    "df.drop_duplicates(subset=['Brand', 'Model'], inplace=True)"
   ]
  },
  {
   "cell_type": "code",
   "execution_count": 54,
   "metadata": {},
   "outputs": [
    {
     "data": {
      "text/plain": [
       "142704"
      ]
     },
     "execution_count": 54,
     "metadata": {},
     "output_type": "execute_result"
    }
   ],
   "source": [
    "len(df)"
   ]
  },
  {
   "cell_type": "markdown",
   "metadata": {},
   "source": [
    "----\n",
    "----\n",
    "----"
   ]
  },
  {
   "cell_type": "code",
   "execution_count": 55,
   "metadata": {},
   "outputs": [
    {
     "name": "stdout",
     "output_type": "stream",
     "text": [
      "<class 'pandas.core.frame.DataFrame'>\n",
      "Int64Index: 142704 entries, 0 to 10048\n",
      "Data columns (total 6 columns):\n",
      " #   Column          Non-Null Count   Dtype  \n",
      "---  ------          --------------   -----  \n",
      " 0   Product_family  142704 non-null  object \n",
      " 1   Brand           142704 non-null  object \n",
      " 2   Model           142704 non-null  object \n",
      " 3   Consumption     142704 non-null  float64\n",
      " 4   Label           142704 non-null  object \n",
      " 5   Other           127202 non-null  object \n",
      "dtypes: float64(1), object(5)\n",
      "memory usage: 7.6+ MB\n"
     ]
    }
   ],
   "source": [
    "df.info()"
   ]
  },
  {
   "cell_type": "code",
   "execution_count": 56,
   "metadata": {},
   "outputs": [
    {
     "data": {
      "text/html": [
       "<div>\n",
       "<style scoped>\n",
       "    .dataframe tbody tr th:only-of-type {\n",
       "        vertical-align: middle;\n",
       "    }\n",
       "\n",
       "    .dataframe tbody tr th {\n",
       "        vertical-align: top;\n",
       "    }\n",
       "\n",
       "    .dataframe thead th {\n",
       "        text-align: right;\n",
       "    }\n",
       "</style>\n",
       "<table border=\"1\" class=\"dataframe\">\n",
       "  <thead>\n",
       "    <tr style=\"text-align: right;\">\n",
       "      <th></th>\n",
       "      <th>Product_family</th>\n",
       "      <th>Brand</th>\n",
       "      <th>Model</th>\n",
       "      <th>Consumption</th>\n",
       "      <th>Label</th>\n",
       "      <th>Other</th>\n",
       "    </tr>\n",
       "  </thead>\n",
       "  <tbody>\n",
       "    <tr>\n",
       "      <th>0</th>\n",
       "      <td>dishwasher</td>\n",
       "      <td>iberna</td>\n",
       "      <td>idih 2l952-80</td>\n",
       "      <td>0.700</td>\n",
       "      <td>E</td>\n",
       "      <td>9</td>\n",
       "    </tr>\n",
       "    <tr>\n",
       "      <th>1</th>\n",
       "      <td>dishwasher</td>\n",
       "      <td>baumatic</td>\n",
       "      <td>bdih 2l952-80</td>\n",
       "      <td>0.700</td>\n",
       "      <td>E</td>\n",
       "      <td>9</td>\n",
       "    </tr>\n",
       "    <tr>\n",
       "      <th>2</th>\n",
       "      <td>dishwasher</td>\n",
       "      <td>siemens</td>\n",
       "      <td>sn23hw00me</td>\n",
       "      <td>0.850</td>\n",
       "      <td>D</td>\n",
       "      <td>14</td>\n",
       "    </tr>\n",
       "    <tr>\n",
       "      <th>3</th>\n",
       "      <td>dishwasher</td>\n",
       "      <td>bosch</td>\n",
       "      <td>sms4hmi02e</td>\n",
       "      <td>0.850</td>\n",
       "      <td>D</td>\n",
       "      <td>14</td>\n",
       "    </tr>\n",
       "    <tr>\n",
       "      <th>4</th>\n",
       "      <td>dishwasher</td>\n",
       "      <td>siemens</td>\n",
       "      <td>sn23hi00ke</td>\n",
       "      <td>0.840</td>\n",
       "      <td>D</td>\n",
       "      <td>13</td>\n",
       "    </tr>\n",
       "    <tr>\n",
       "      <th>...</th>\n",
       "      <td>...</td>\n",
       "      <td>...</td>\n",
       "      <td>...</td>\n",
       "      <td>...</td>\n",
       "      <td>...</td>\n",
       "      <td>...</td>\n",
       "    </tr>\n",
       "    <tr>\n",
       "      <th>142699</th>\n",
       "      <td>light</td>\n",
       "      <td>xal</td>\n",
       "      <td>000434286</td>\n",
       "      <td>0.004</td>\n",
       "      <td>C</td>\n",
       "      <td>754</td>\n",
       "    </tr>\n",
       "    <tr>\n",
       "      <th>142700</th>\n",
       "      <td>light</td>\n",
       "      <td>xal</td>\n",
       "      <td>000335404</td>\n",
       "      <td>0.014</td>\n",
       "      <td>C</td>\n",
       "      <td>2410</td>\n",
       "    </tr>\n",
       "    <tr>\n",
       "      <th>142701</th>\n",
       "      <td>light</td>\n",
       "      <td>xal</td>\n",
       "      <td>000335667</td>\n",
       "      <td>0.003</td>\n",
       "      <td>C</td>\n",
       "      <td>402</td>\n",
       "    </tr>\n",
       "    <tr>\n",
       "      <th>142702</th>\n",
       "      <td>light</td>\n",
       "      <td>xal</td>\n",
       "      <td>000335733</td>\n",
       "      <td>0.003</td>\n",
       "      <td>C</td>\n",
       "      <td>402</td>\n",
       "    </tr>\n",
       "    <tr>\n",
       "      <th>142703</th>\n",
       "      <td>light</td>\n",
       "      <td>xal</td>\n",
       "      <td>000335785</td>\n",
       "      <td>0.003</td>\n",
       "      <td>C</td>\n",
       "      <td>424</td>\n",
       "    </tr>\n",
       "  </tbody>\n",
       "</table>\n",
       "<p>142704 rows × 6 columns</p>\n",
       "</div>"
      ],
      "text/plain": [
       "       Product_family     Brand          Model  Consumption Label Other\n",
       "0          dishwasher    iberna  idih 2l952-80        0.700     E     9\n",
       "1          dishwasher  baumatic  bdih 2l952-80        0.700     E     9\n",
       "2          dishwasher   siemens     sn23hw00me        0.850     D    14\n",
       "3          dishwasher     bosch     sms4hmi02e        0.850     D    14\n",
       "4          dishwasher   siemens     sn23hi00ke        0.840     D    13\n",
       "...               ...       ...            ...          ...   ...   ...\n",
       "142699          light       xal      000434286        0.004     C   754\n",
       "142700          light       xal      000335404        0.014     C  2410\n",
       "142701          light       xal      000335667        0.003     C   402\n",
       "142702          light       xal      000335733        0.003     C   402\n",
       "142703          light       xal      000335785        0.003     C   424\n",
       "\n",
       "[142704 rows x 6 columns]"
      ]
     },
     "execution_count": 56,
     "metadata": {},
     "output_type": "execute_result"
    }
   ],
   "source": [
    "df.reset_index(inplace=True, drop=True)\n",
    "df"
   ]
  },
  {
   "cell_type": "markdown",
   "metadata": {},
   "source": [
    "------\n",
    "Reducir bombillas"
   ]
  },
  {
   "cell_type": "code",
   "execution_count": 57,
   "metadata": {},
   "outputs": [
    {
     "name": "stdout",
     "output_type": "stream",
     "text": [
      "Total marcas 2153\n"
     ]
    },
    {
     "data": {
      "text/plain": [
       "array(['aigostar', 'greenlight', 'maxel', ..., 'xelloo', 'lightzz',\n",
       "       'fullosun'], dtype=object)"
      ]
     },
     "execution_count": 57,
     "metadata": {},
     "output_type": "execute_result"
    }
   ],
   "source": [
    "lights=df[df['Product_family']=='light']\n",
    "print('Total marcas',len(lights['Brand'].unique()))\n",
    "lights['Brand'].unique()"
   ]
  },
  {
   "cell_type": "code",
   "execution_count": 58,
   "metadata": {},
   "outputs": [
    {
     "name": "stdout",
     "output_type": "stream",
     "text": [
      "Modelos totales 25 marcas principales : Brand    20356\n",
      "dtype: int64\n"
     ]
    }
   ],
   "source": [
    "df_values_light=pd.DataFrame(lights['Brand'].value_counts())\n",
    "print('Modelos totales 25 marcas principales :',df_values_light.head(25).sum())\n",
    "list_25_models_lights=df_values_light.head(25).index.values.tolist()\n",
    "lights_25 = lights[lights['Brand'].isin(list_25_models_lights)]\n",
    "# lights_25"
   ]
  },
  {
   "cell_type": "code",
   "execution_count": 59,
   "metadata": {},
   "outputs": [],
   "source": [
    "df.drop(df[df['Product_family'] == 'light'].index, inplace = True)"
   ]
  },
  {
   "cell_type": "code",
   "execution_count": 60,
   "metadata": {},
   "outputs": [
    {
     "data": {
      "text/html": [
       "<div>\n",
       "<style scoped>\n",
       "    .dataframe tbody tr th:only-of-type {\n",
       "        vertical-align: middle;\n",
       "    }\n",
       "\n",
       "    .dataframe tbody tr th {\n",
       "        vertical-align: top;\n",
       "    }\n",
       "\n",
       "    .dataframe thead th {\n",
       "        text-align: right;\n",
       "    }\n",
       "</style>\n",
       "<table border=\"1\" class=\"dataframe\">\n",
       "  <thead>\n",
       "    <tr style=\"text-align: right;\">\n",
       "      <th></th>\n",
       "      <th>Product_family</th>\n",
       "      <th>Brand</th>\n",
       "      <th>Model</th>\n",
       "      <th>Consumption</th>\n",
       "      <th>Label</th>\n",
       "      <th>Other</th>\n",
       "    </tr>\n",
       "  </thead>\n",
       "  <tbody>\n",
       "    <tr>\n",
       "      <th>0</th>\n",
       "      <td>dishwasher</td>\n",
       "      <td>iberna</td>\n",
       "      <td>idih 2l952-80</td>\n",
       "      <td>0.700</td>\n",
       "      <td>E</td>\n",
       "      <td>9</td>\n",
       "    </tr>\n",
       "    <tr>\n",
       "      <th>1</th>\n",
       "      <td>dishwasher</td>\n",
       "      <td>baumatic</td>\n",
       "      <td>bdih 2l952-80</td>\n",
       "      <td>0.700</td>\n",
       "      <td>E</td>\n",
       "      <td>9</td>\n",
       "    </tr>\n",
       "    <tr>\n",
       "      <th>2</th>\n",
       "      <td>dishwasher</td>\n",
       "      <td>siemens</td>\n",
       "      <td>sn23hw00me</td>\n",
       "      <td>0.850</td>\n",
       "      <td>D</td>\n",
       "      <td>14</td>\n",
       "    </tr>\n",
       "    <tr>\n",
       "      <th>3</th>\n",
       "      <td>dishwasher</td>\n",
       "      <td>bosch</td>\n",
       "      <td>sms4hmi02e</td>\n",
       "      <td>0.850</td>\n",
       "      <td>D</td>\n",
       "      <td>14</td>\n",
       "    </tr>\n",
       "    <tr>\n",
       "      <th>4</th>\n",
       "      <td>dishwasher</td>\n",
       "      <td>siemens</td>\n",
       "      <td>sn23hi00ke</td>\n",
       "      <td>0.840</td>\n",
       "      <td>D</td>\n",
       "      <td>13</td>\n",
       "    </tr>\n",
       "    <tr>\n",
       "      <th>...</th>\n",
       "      <td>...</td>\n",
       "      <td>...</td>\n",
       "      <td>...</td>\n",
       "      <td>...</td>\n",
       "      <td>...</td>\n",
       "      <td>...</td>\n",
       "    </tr>\n",
       "    <tr>\n",
       "      <th>99397</th>\n",
       "      <td>light</td>\n",
       "      <td>eglo</td>\n",
       "      <td>2835-l107-12-1.7w-6500k</td>\n",
       "      <td>0.002</td>\n",
       "      <td>F</td>\n",
       "      <td>170</td>\n",
       "    </tr>\n",
       "    <tr>\n",
       "      <th>99398</th>\n",
       "      <td>light</td>\n",
       "      <td>eglo</td>\n",
       "      <td>2835-d212-80-17w-2700k-6500k-rgb</td>\n",
       "      <td>0.019</td>\n",
       "      <td>F</td>\n",
       "      <td>1900</td>\n",
       "    </tr>\n",
       "    <tr>\n",
       "      <th>99399</th>\n",
       "      <td>light</td>\n",
       "      <td>eglo</td>\n",
       "      <td>2835-l280-30-5.5w-3000k</td>\n",
       "      <td>0.006</td>\n",
       "      <td>F</td>\n",
       "      <td>650</td>\n",
       "    </tr>\n",
       "    <tr>\n",
       "      <th>99400</th>\n",
       "      <td>light</td>\n",
       "      <td>eglo</td>\n",
       "      <td>110073</td>\n",
       "      <td>0.005</td>\n",
       "      <td>F</td>\n",
       "      <td>400</td>\n",
       "    </tr>\n",
       "    <tr>\n",
       "      <th>99401</th>\n",
       "      <td>light</td>\n",
       "      <td>zumtobel lighting</td>\n",
       "      <td>10013167</td>\n",
       "      <td>0.008</td>\n",
       "      <td>C</td>\n",
       "      <td>1390</td>\n",
       "    </tr>\n",
       "  </tbody>\n",
       "</table>\n",
       "<p>99402 rows × 6 columns</p>\n",
       "</div>"
      ],
      "text/plain": [
       "      Product_family              Brand                             Model  \\\n",
       "0         dishwasher             iberna                     idih 2l952-80   \n",
       "1         dishwasher           baumatic                     bdih 2l952-80   \n",
       "2         dishwasher            siemens                        sn23hw00me   \n",
       "3         dishwasher              bosch                        sms4hmi02e   \n",
       "4         dishwasher            siemens                        sn23hi00ke   \n",
       "...              ...                ...                               ...   \n",
       "99397          light               eglo           2835-l107-12-1.7w-6500k   \n",
       "99398          light               eglo  2835-d212-80-17w-2700k-6500k-rgb   \n",
       "99399          light               eglo           2835-l280-30-5.5w-3000k   \n",
       "99400          light               eglo                            110073   \n",
       "99401          light  zumtobel lighting                          10013167   \n",
       "\n",
       "       Consumption Label Other  \n",
       "0            0.700     E     9  \n",
       "1            0.700     E     9  \n",
       "2            0.850     D    14  \n",
       "3            0.850     D    14  \n",
       "4            0.840     D    13  \n",
       "...            ...   ...   ...  \n",
       "99397        0.002     F   170  \n",
       "99398        0.019     F  1900  \n",
       "99399        0.006     F   650  \n",
       "99400        0.005     F   400  \n",
       "99401        0.008     C  1390  \n",
       "\n",
       "[99402 rows x 6 columns]"
      ]
     },
     "execution_count": 60,
     "metadata": {},
     "output_type": "execute_result"
    }
   ],
   "source": [
    "df = pd.concat([df,lights_25])\n",
    "df.reset_index(inplace=True, drop=True)\n",
    "df\n"
   ]
  },
  {
   "cell_type": "markdown",
   "metadata": {},
   "source": [
    "-------\n",
    "Modificar 'Other' de Range hoods"
   ]
  },
  {
   "cell_type": "code",
   "execution_count": 61,
   "metadata": {},
   "outputs": [
    {
     "data": {
      "text/plain": [
       "array(['dishwasher', 'washer', 'tv/monitor', 'fridge/freezer', 'oven',\n",
       "       'range hoods', 'water heaters', 'light'], dtype=object)"
      ]
     },
     "execution_count": 61,
     "metadata": {},
     "output_type": "execute_result"
    }
   ],
   "source": [
    "df['Product_family'].unique()"
   ]
  },
  {
   "cell_type": "code",
   "execution_count": 62,
   "metadata": {},
   "outputs": [],
   "source": [
    "# df[df['Product_family'] == 'range hoods']['Other']='-'"
   ]
  },
  {
   "cell_type": "code",
   "execution_count": 63,
   "metadata": {},
   "outputs": [],
   "source": [
    "df.loc[df['Product_family'] == 'range hoods', 'Other']='-'\n"
   ]
  },
  {
   "cell_type": "code",
   "execution_count": 64,
   "metadata": {},
   "outputs": [
    {
     "data": {
      "text/html": [
       "<div>\n",
       "<style scoped>\n",
       "    .dataframe tbody tr th:only-of-type {\n",
       "        vertical-align: middle;\n",
       "    }\n",
       "\n",
       "    .dataframe tbody tr th {\n",
       "        vertical-align: top;\n",
       "    }\n",
       "\n",
       "    .dataframe thead th {\n",
       "        text-align: right;\n",
       "    }\n",
       "</style>\n",
       "<table border=\"1\" class=\"dataframe\">\n",
       "  <thead>\n",
       "    <tr style=\"text-align: right;\">\n",
       "      <th></th>\n",
       "      <th>Product_family</th>\n",
       "      <th>Brand</th>\n",
       "      <th>Model</th>\n",
       "      <th>Consumption</th>\n",
       "      <th>Label</th>\n",
       "      <th>Other</th>\n",
       "    </tr>\n",
       "  </thead>\n",
       "  <tbody>\n",
       "    <tr>\n",
       "      <th>62911</th>\n",
       "      <td>range hoods</td>\n",
       "      <td>pitsos</td>\n",
       "      <td>2mid60t</td>\n",
       "      <td>0.103836</td>\n",
       "      <td>A</td>\n",
       "      <td>-</td>\n",
       "    </tr>\n",
       "    <tr>\n",
       "      <th>62912</th>\n",
       "      <td>range hoods</td>\n",
       "      <td>hotpoint</td>\n",
       "      <td>phbs9.8cltdk/1</td>\n",
       "      <td>0.135068</td>\n",
       "      <td>A</td>\n",
       "      <td>-</td>\n",
       "    </tr>\n",
       "    <tr>\n",
       "      <th>62913</th>\n",
       "      <td>range hoods</td>\n",
       "      <td>mpm</td>\n",
       "      <td>mpm-90-ovs-24</td>\n",
       "      <td>0.146301</td>\n",
       "      <td>B</td>\n",
       "      <td>-</td>\n",
       "    </tr>\n",
       "    <tr>\n",
       "      <th>62914</th>\n",
       "      <td>range hoods</td>\n",
       "      <td>whirlpool</td>\n",
       "      <td>whvf 92f lt k</td>\n",
       "      <td>0.128767</td>\n",
       "      <td>A</td>\n",
       "      <td>-</td>\n",
       "    </tr>\n",
       "    <tr>\n",
       "      <th>62915</th>\n",
       "      <td>range hoods</td>\n",
       "      <td>whirlpool</td>\n",
       "      <td>whvf 62f lt k</td>\n",
       "      <td>0.128767</td>\n",
       "      <td>A</td>\n",
       "      <td>-</td>\n",
       "    </tr>\n",
       "  </tbody>\n",
       "</table>\n",
       "</div>"
      ],
      "text/plain": [
       "      Product_family      Brand           Model  Consumption Label Other\n",
       "62911    range hoods     pitsos         2mid60t     0.103836     A     -\n",
       "62912    range hoods   hotpoint  phbs9.8cltdk/1     0.135068     A     -\n",
       "62913    range hoods        mpm   mpm-90-ovs-24     0.146301     B     -\n",
       "62914    range hoods  whirlpool   whvf 92f lt k     0.128767     A     -\n",
       "62915    range hoods  whirlpool   whvf 62f lt k     0.128767     A     -"
      ]
     },
     "execution_count": 64,
     "metadata": {},
     "output_type": "execute_result"
    }
   ],
   "source": [
    "df[df['Product_family'] == 'range hoods'].head()"
   ]
  },
  {
   "cell_type": "code",
   "execution_count": 65,
   "metadata": {},
   "outputs": [
    {
     "data": {
      "text/html": [
       "<div>\n",
       "<style scoped>\n",
       "    .dataframe tbody tr th:only-of-type {\n",
       "        vertical-align: middle;\n",
       "    }\n",
       "\n",
       "    .dataframe tbody tr th {\n",
       "        vertical-align: top;\n",
       "    }\n",
       "\n",
       "    .dataframe thead th {\n",
       "        text-align: right;\n",
       "    }\n",
       "</style>\n",
       "<table border=\"1\" class=\"dataframe\">\n",
       "  <thead>\n",
       "    <tr style=\"text-align: right;\">\n",
       "      <th></th>\n",
       "      <th>Product_family</th>\n",
       "      <th>Brand</th>\n",
       "      <th>Model</th>\n",
       "      <th>Consumption</th>\n",
       "      <th>Label</th>\n",
       "      <th>Other</th>\n",
       "    </tr>\n",
       "  </thead>\n",
       "  <tbody>\n",
       "    <tr>\n",
       "      <th>0</th>\n",
       "      <td>dishwasher</td>\n",
       "      <td>iberna</td>\n",
       "      <td>idih 2l952-80</td>\n",
       "      <td>0.700</td>\n",
       "      <td>E</td>\n",
       "      <td>9</td>\n",
       "    </tr>\n",
       "    <tr>\n",
       "      <th>1</th>\n",
       "      <td>dishwasher</td>\n",
       "      <td>baumatic</td>\n",
       "      <td>bdih 2l952-80</td>\n",
       "      <td>0.700</td>\n",
       "      <td>E</td>\n",
       "      <td>9</td>\n",
       "    </tr>\n",
       "    <tr>\n",
       "      <th>2</th>\n",
       "      <td>dishwasher</td>\n",
       "      <td>siemens</td>\n",
       "      <td>sn23hw00me</td>\n",
       "      <td>0.850</td>\n",
       "      <td>D</td>\n",
       "      <td>14</td>\n",
       "    </tr>\n",
       "    <tr>\n",
       "      <th>3</th>\n",
       "      <td>dishwasher</td>\n",
       "      <td>bosch</td>\n",
       "      <td>sms4hmi02e</td>\n",
       "      <td>0.850</td>\n",
       "      <td>D</td>\n",
       "      <td>14</td>\n",
       "    </tr>\n",
       "    <tr>\n",
       "      <th>4</th>\n",
       "      <td>dishwasher</td>\n",
       "      <td>siemens</td>\n",
       "      <td>sn23hi00ke</td>\n",
       "      <td>0.840</td>\n",
       "      <td>D</td>\n",
       "      <td>13</td>\n",
       "    </tr>\n",
       "    <tr>\n",
       "      <th>...</th>\n",
       "      <td>...</td>\n",
       "      <td>...</td>\n",
       "      <td>...</td>\n",
       "      <td>...</td>\n",
       "      <td>...</td>\n",
       "      <td>...</td>\n",
       "    </tr>\n",
       "    <tr>\n",
       "      <th>99397</th>\n",
       "      <td>light</td>\n",
       "      <td>eglo</td>\n",
       "      <td>2835-l107-12-1.7w-6500k</td>\n",
       "      <td>0.002</td>\n",
       "      <td>F</td>\n",
       "      <td>170</td>\n",
       "    </tr>\n",
       "    <tr>\n",
       "      <th>99398</th>\n",
       "      <td>light</td>\n",
       "      <td>eglo</td>\n",
       "      <td>2835-d212-80-17w-2700k-6500k-rgb</td>\n",
       "      <td>0.019</td>\n",
       "      <td>F</td>\n",
       "      <td>1900</td>\n",
       "    </tr>\n",
       "    <tr>\n",
       "      <th>99399</th>\n",
       "      <td>light</td>\n",
       "      <td>eglo</td>\n",
       "      <td>2835-l280-30-5.5w-3000k</td>\n",
       "      <td>0.006</td>\n",
       "      <td>F</td>\n",
       "      <td>650</td>\n",
       "    </tr>\n",
       "    <tr>\n",
       "      <th>99400</th>\n",
       "      <td>light</td>\n",
       "      <td>eglo</td>\n",
       "      <td>110073</td>\n",
       "      <td>0.005</td>\n",
       "      <td>F</td>\n",
       "      <td>400</td>\n",
       "    </tr>\n",
       "    <tr>\n",
       "      <th>99401</th>\n",
       "      <td>light</td>\n",
       "      <td>zumtobel lighting</td>\n",
       "      <td>10013167</td>\n",
       "      <td>0.008</td>\n",
       "      <td>C</td>\n",
       "      <td>1390</td>\n",
       "    </tr>\n",
       "  </tbody>\n",
       "</table>\n",
       "<p>99402 rows × 6 columns</p>\n",
       "</div>"
      ],
      "text/plain": [
       "      Product_family              Brand                             Model  \\\n",
       "0         dishwasher             iberna                     idih 2l952-80   \n",
       "1         dishwasher           baumatic                     bdih 2l952-80   \n",
       "2         dishwasher            siemens                        sn23hw00me   \n",
       "3         dishwasher              bosch                        sms4hmi02e   \n",
       "4         dishwasher            siemens                        sn23hi00ke   \n",
       "...              ...                ...                               ...   \n",
       "99397          light               eglo           2835-l107-12-1.7w-6500k   \n",
       "99398          light               eglo  2835-d212-80-17w-2700k-6500k-rgb   \n",
       "99399          light               eglo           2835-l280-30-5.5w-3000k   \n",
       "99400          light               eglo                            110073   \n",
       "99401          light  zumtobel lighting                          10013167   \n",
       "\n",
       "       Consumption Label Other  \n",
       "0            0.700     E     9  \n",
       "1            0.700     E     9  \n",
       "2            0.850     D    14  \n",
       "3            0.850     D    14  \n",
       "4            0.840     D    13  \n",
       "...            ...   ...   ...  \n",
       "99397        0.002     F   170  \n",
       "99398        0.019     F  1900  \n",
       "99399        0.006     F   650  \n",
       "99400        0.005     F   400  \n",
       "99401        0.008     C  1390  \n",
       "\n",
       "[99402 rows x 6 columns]"
      ]
     },
     "execution_count": 65,
     "metadata": {},
     "output_type": "execute_result"
    }
   ],
   "source": [
    "df"
   ]
  },
  {
   "cell_type": "markdown",
   "metadata": {},
   "source": [
    "----\n",
    "GUARDAR"
   ]
  },
  {
   "cell_type": "code",
   "execution_count": 68,
   "metadata": {},
   "outputs": [],
   "source": [
    "df.to_csv('../../data/eprel/clean_data/df_clear', encoding='utf-8', index=False)"
   ]
  },
  {
   "cell_type": "code",
   "execution_count": 67,
   "metadata": {},
   "outputs": [],
   "source": [
    "# df_prueba=pd.read_csv('df_clear', index_col=0)\n",
    "# df_prueba\n"
   ]
  }
 ],
 "metadata": {
  "kernelspec": {
   "display_name": "Python 3.7.4 64-bit",
   "language": "python",
   "name": "python3"
  },
  "language_info": {
   "codemirror_mode": {
    "name": "ipython",
    "version": 3
   },
   "file_extension": ".py",
   "mimetype": "text/x-python",
   "name": "python",
   "nbconvert_exporter": "python",
   "pygments_lexer": "ipython3",
   "version": "3.7.4"
  },
  "orig_nbformat": 4,
  "vscode": {
   "interpreter": {
    "hash": "703e8db34bb7cdd00b82a89d91d2e2137d3ce887601c5554b79c7f8766c7193f"
   }
  }
 },
 "nbformat": 4,
 "nbformat_minor": 2
}
