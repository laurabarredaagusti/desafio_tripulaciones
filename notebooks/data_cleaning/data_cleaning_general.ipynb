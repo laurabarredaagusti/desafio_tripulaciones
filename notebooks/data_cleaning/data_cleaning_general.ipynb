{
 "cells": [
  {
   "cell_type": "code",
   "execution_count": 749,
   "metadata": {},
   "outputs": [],
   "source": [
    "import pandas as pd\n",
    "import re"
   ]
  },
  {
   "cell_type": "code",
   "execution_count": 750,
   "metadata": {},
   "outputs": [],
   "source": [
    "dishwashers=pd.read_csv('../../data/eprel/clean_data/normalized_columns/1_dishwashers.csv', index_col=0)\n",
    "washers=pd.read_csv('../../data/eprel/clean_data/normalized_columns/2_washers.csv',index_col=0)\n",
    "tv_mon=pd.read_csv('../../data/eprel/clean_data/normalized_columns/3_tv_monitors.csv',index_col=0)\n",
    "frid_freez=pd.read_csv('../../data/eprel/clean_data/normalized_columns/4_fridges_freezers.csv',index_col=0)\n",
    "ovens=pd.read_csv('../../data/eprel/clean_data/normalized_columns/5_ovens.csv',index_col=0)\n",
    "campanas=pd.read_csv('../../data/eprel/clean_data/normalized_columns/6_campanas.csv',index_col=0)\n",
    "lights=pd.read_csv('../../data/eprel/clean_data/normalized_columns/8_lights.csv',index_col=0)\n",
    "calentador=pd.read_csv('../../data/eprel/clean_data/normalized_columns/7_water_heaters.csv',index_col=0)"
   ]
  },
  {
   "cell_type": "code",
   "execution_count": 751,
   "metadata": {},
   "outputs": [
    {
     "data": {
      "text/html": [
       "<div>\n",
       "<style scoped>\n",
       "    .dataframe tbody tr th:only-of-type {\n",
       "        vertical-align: middle;\n",
       "    }\n",
       "\n",
       "    .dataframe tbody tr th {\n",
       "        vertical-align: top;\n",
       "    }\n",
       "\n",
       "    .dataframe thead th {\n",
       "        text-align: right;\n",
       "    }\n",
       "</style>\n",
       "<table border=\"1\" class=\"dataframe\">\n",
       "  <thead>\n",
       "    <tr style=\"text-align: right;\">\n",
       "      <th></th>\n",
       "      <th>Type</th>\n",
       "      <th>Brand</th>\n",
       "      <th>Model</th>\n",
       "      <th>Type_consumption</th>\n",
       "      <th>Consumption</th>\n",
       "      <th>Label</th>\n",
       "      <th>Other</th>\n",
       "    </tr>\n",
       "  </thead>\n",
       "  <tbody>\n",
       "    <tr>\n",
       "      <th>0</th>\n",
       "      <td>Dishwasher</td>\n",
       "      <td>Iberna</td>\n",
       "      <td>IDIH 2L952-80</td>\n",
       "      <td>Energy consumption [per 100 cycles, based on t...</td>\n",
       "      <td>70</td>\n",
       "      <td>https://eprel.ec.europa.eu/assets/images/label...</td>\n",
       "      <td>9</td>\n",
       "    </tr>\n",
       "    <tr>\n",
       "      <th>1</th>\n",
       "      <td>Dishwasher</td>\n",
       "      <td>Baumatic</td>\n",
       "      <td>BDIH 2L952-80</td>\n",
       "      <td>Energy consumption [per 100 cycles, based on t...</td>\n",
       "      <td>70</td>\n",
       "      <td>https://eprel.ec.europa.eu/assets/images/label...</td>\n",
       "      <td>9</td>\n",
       "    </tr>\n",
       "    <tr>\n",
       "      <th>2</th>\n",
       "      <td>Dishwasher</td>\n",
       "      <td>Siemens</td>\n",
       "      <td>SN23HW00ME</td>\n",
       "      <td>Energy consumption [per 100 cycles, based on t...</td>\n",
       "      <td>85</td>\n",
       "      <td>https://eprel.ec.europa.eu/assets/images/label...</td>\n",
       "      <td>14</td>\n",
       "    </tr>\n",
       "    <tr>\n",
       "      <th>3</th>\n",
       "      <td>Dishwasher</td>\n",
       "      <td>Bosch</td>\n",
       "      <td>SMS4HMI02E</td>\n",
       "      <td>Energy consumption [per 100 cycles, based on t...</td>\n",
       "      <td>85</td>\n",
       "      <td>https://eprel.ec.europa.eu/assets/images/label...</td>\n",
       "      <td>14</td>\n",
       "    </tr>\n",
       "    <tr>\n",
       "      <th>4</th>\n",
       "      <td>Dishwasher</td>\n",
       "      <td>Siemens</td>\n",
       "      <td>SN23HI00KE</td>\n",
       "      <td>Energy consumption [per 100 cycles, based on t...</td>\n",
       "      <td>84</td>\n",
       "      <td>https://eprel.ec.europa.eu/assets/images/label...</td>\n",
       "      <td>13</td>\n",
       "    </tr>\n",
       "  </tbody>\n",
       "</table>\n",
       "</div>"
      ],
      "text/plain": [
       "         Type       Brand            Model  \\\n",
       "0  Dishwasher     Iberna    IDIH 2L952-80    \n",
       "1  Dishwasher   Baumatic    BDIH 2L952-80    \n",
       "2  Dishwasher    Siemens       SN23HW00ME    \n",
       "3  Dishwasher      Bosch       SMS4HMI02E    \n",
       "4  Dishwasher    Siemens       SN23HI00KE    \n",
       "\n",
       "                                    Type_consumption Consumption  \\\n",
       "0  Energy consumption [per 100 cycles, based on t...          70   \n",
       "1  Energy consumption [per 100 cycles, based on t...          70   \n",
       "2  Energy consumption [per 100 cycles, based on t...          85   \n",
       "3  Energy consumption [per 100 cycles, based on t...          85   \n",
       "4  Energy consumption [per 100 cycles, based on t...          84   \n",
       "\n",
       "                                               Label Other  \n",
       "0  https://eprel.ec.europa.eu/assets/images/label...     9  \n",
       "1  https://eprel.ec.europa.eu/assets/images/label...     9  \n",
       "2  https://eprel.ec.europa.eu/assets/images/label...    14  \n",
       "3  https://eprel.ec.europa.eu/assets/images/label...    14  \n",
       "4  https://eprel.ec.europa.eu/assets/images/label...    13  "
      ]
     },
     "execution_count": 751,
     "metadata": {},
     "output_type": "execute_result"
    }
   ],
   "source": [
    "df = pd.concat([dishwashers,washers,tv_mon,frid_freez,ovens,campanas,calentador,lights])\n",
    "df.head()"
   ]
  },
  {
   "cell_type": "code",
   "execution_count": 752,
   "metadata": {},
   "outputs": [],
   "source": [
    "df.rename(columns={'Type':'Product_family'}, inplace=True)"
   ]
  },
  {
   "cell_type": "code",
   "execution_count": 753,
   "metadata": {},
   "outputs": [],
   "source": [
    "def lower_case(column):\n",
    "    return column.apply(lambda x: x.lower() if type(x) == str else x)"
   ]
  },
  {
   "cell_type": "code",
   "execution_count": 754,
   "metadata": {},
   "outputs": [],
   "source": [
    "df['Product_family'] = lower_case(df['Product_family'])\n",
    "df['Brand'] = lower_case(df['Brand'])\n",
    "df['Model'] = lower_case(df['Model'])\n",
    "df['Other'] = lower_case(df['Other'])"
   ]
  },
  {
   "cell_type": "code",
   "execution_count": 755,
   "metadata": {},
   "outputs": [],
   "source": [
    "def remove_spaces(column):\n",
    "    return column.apply(lambda x: x.strip() if type(x) == str else x)"
   ]
  },
  {
   "cell_type": "code",
   "execution_count": 756,
   "metadata": {},
   "outputs": [],
   "source": [
    "df['Product_family'] = remove_spaces(df['Product_family'])\n",
    "df['Brand'] = remove_spaces(df['Brand'])\n",
    "df['Model'] = remove_spaces(df['Model'])"
   ]
  },
  {
   "cell_type": "code",
   "execution_count": 757,
   "metadata": {},
   "outputs": [],
   "source": [
    "def remove_spaces_extra(column):\n",
    "    return column.apply(lambda x: x.replace(' ', '') if x[0] == ' ' else x)"
   ]
  },
  {
   "cell_type": "code",
   "execution_count": 758,
   "metadata": {},
   "outputs": [],
   "source": [
    "df['Brand'] = remove_spaces_extra(df['Brand'])"
   ]
  },
  {
   "cell_type": "code",
   "execution_count": 759,
   "metadata": {},
   "outputs": [],
   "source": [
    "def define_label():\n",
    "    df['Label'] = df['Label'].apply(lambda x: x.rpartition('/')[-1])\n",
    "    return df['Label'].apply(lambda x: x.split('-')[0])"
   ]
  },
  {
   "cell_type": "code",
   "execution_count": 760,
   "metadata": {},
   "outputs": [],
   "source": [
    "df['Label'] = define_label()"
   ]
  },
  {
   "cell_type": "code",
   "execution_count": 761,
   "metadata": {},
   "outputs": [],
   "source": [
    "def undefined_label(column):\n",
    "    return column.apply(lambda x: 'undefined' if x == ' ' else x)"
   ]
  },
  {
   "cell_type": "code",
   "execution_count": 762,
   "metadata": {},
   "outputs": [],
   "source": [
    "df['Label'] = undefined_label(df['Label'])\n",
    "df['Label'] = remove_spaces(df['Label'])"
   ]
  },
  {
   "cell_type": "code",
   "execution_count": 763,
   "metadata": {},
   "outputs": [],
   "source": [
    "dict = {'burg basic' : 'burg', \n",
    "        'comfee`' : 'comfee',\n",
    "        \"de'longhi\" : \"delonghi\",\n",
    "        'hotpoint/ariston' : 'hotpoint',\n",
    "        'ikea of sweden' : 'ikea',\n",
    "        'lg electronics' : 'lg',\n",
    "        'lg eelectronics' : 'lg',\n",
    "        'lg electronics inc.' : 'lg',\n",
    "        'ok.' : 'ok',\n",
    "        'xd grandi elettrodomestici' : 'xd',\n",
    "        'bolero dresscode' : 'bolero', \n",
    "        'bolero wash&dry' : 'bolero',\n",
    "        'brand - midea' : 'midea',\n",
    "        'corberó' : 'corbero',\n",
    "        'denner-edition' : 'denner',\n",
    "        'electrolux professional' : 'electrolux',\n",
    "        'hisense_gor' : 'hisense',\n",
    "        'hotpoint/ariston' : 'hotpoint',\n",
    "        'little swan international(singapore) co., pte. ltd' : 'little swan international',\n",
    "        'miele & cie kg' : 'miele',\n",
    "        'montpellier domestic aplliances' : 'montpellier domestic appliances',\n",
    "        'ok.' : 'ok',\n",
    "        'osby vitvaror ab' : 'osby',\n",
    "        'otsein-hoover' : 'otsein',\n",
    "        'schulthess maschinen ag' : 'schulthess',\n",
    "        'a.i.o. evo hd led tv ultrawide 18,5\" (für manuelle antennen) mit integriertem satfinder' :\n",
    "        'a.i.o.',\n",
    "        'a.i.o. evo hd led tv ultrawide 18,5\" (mit integrierter antennensteuerung)' : \n",
    "        'a.i.o.',\n",
    "        'a.i.o. evo hd led tv ultrawide 22\" (für manuelle antennen) mit integriertem satfinder' : \n",
    "        'a.i.o.',\n",
    "        'a.i.o. evo hd led tv ultrawide 22\" (mit integrierter antennensteuerung)' : \n",
    "        'a.i.o.',\n",
    "        'a.i.o. evo hd led tv ultrawide 24\" (für manuelle antennen) mit integriertem satfinder' : \n",
    "        'a.i.o.',\n",
    "        'a.i.o.' : \n",
    "        'a.i.o. evo hd led tv ultrawide 24\" (mit integrierter antennensteuerung)',\n",
    "        'abus security center led monitor' : 'abus',\n",
    "        'adesa s.r.l.' : 'adesa', \n",
    "        'adesas.r.l.' : 'adesa',\n",
    "        'alphatronics gmbh ' : 'alphatronics',\n",
    "        'digihome(gb-ie)' : 'digihome',\n",
    "        'digiquest solutions srl' : 'digiquest solution srl',\n",
    "        'digiquest solutions surl' : 'digiquest solution srl',\n",
    "        'digital smart vision / npg' : 'digital smart vision',\n",
    "        'dyon - dyon' : 'dyon',\n",
    "        'eas electric smart technology' : 'eas electric',\n",
    "        'fox spirit' : 'fox',\n",
    "        'hanns`g' :  'hanns g',\n",
    "        'hanns·g' : 'hanns g',\n",
    "        'hkc.' : 'hkc',\n",
    "        'hp, inc.' : 'hp',\n",
    "        'inno hit pro' : 'inno hit',\n",
    "        'jtc / jay-tech gmbh' : 'jtc',\n",
    "        'lg eelectronics' : 'lg',\n",
    "        'lg electronics' : 'lg', \n",
    "        'lg' : 'lg electronics inc.',\n",
    "        'luxor (v.uk)' : 'luxor',\n",
    "        'megasat/tv' : 'megasat',\n",
    "        'newline interactive inc./ newline' : 'newline',\n",
    "        'ok.' : 'ok',\n",
    "        'ricoh company,ltd.' : 'ricoh',\n",
    "        'sampo corporation' : 'sampo',\n",
    "        'shark gaming systems' : 'shark gaming',\n",
    "        'sharkgaming' : 'shark gaming',\n",
    "        'techwood(gb)' : 'techwood',\n",
    "        'tesla smart' : 'tesla',\n",
    "        'tkh security france sas' : 'tkh',\n",
    "        'unv technology europe b.v.' : 'unv technology',\n",
    "        'arka agd sp. z o.o. / electroline' : 'arka',\n",
    "        'aviro minibar 24 l' : 'aviro',\n",
    "        'aviro minibar 30 l' : 'aviro',\n",
    "        'aviro minibar 40 l' : 'aviro',\n",
    "        'bermar (international)' : 'bermar',\n",
    "        'bilanciaexim' : 'bilancia exim',\n",
    "        'blokker b.v.' : 'blokker',\n",
    "        'bodega43' : 'bodega',\n",
    "        'bompani - bompani' : 'bompani', \n",
    "        'bomppani' : 'bompani',\n",
    "        'carwise - bileko car parts ab' : 'carwise',\n",
    "        'caso design' : 'casa design', \n",
    "        'caso-design' : 'casa design',\n",
    "        'corberó' : 'corbero',\n",
    "        '°cubes' : 'cubes',\n",
    "        \"de'longhi\" : \"delonghi\",\n",
    "        'domo kamado' : 'domo',\n",
    "        'dosenbach   ochsner ag' : 'dosenbach ochsner',\n",
    "        'dosenbach - ochsner ag' : 'dosenbach ochsner',\n",
    "        'ref001 - eas electric smart technology' : 'eas electric smart technology',\n",
    "        'electrolux professional' : 'electrolux',\n",
    "        'essentielb' : 'essentiel b',\n",
    "        'guangdong unique appl. co.' : 'guangdong unique',\n",
    "        'hartmann tresore france' : 'hartmann tresore',\n",
    "        'hck refrigeration tech.co.,ltd' : 'hck fridge',\n",
    "        'helle kylmäarkku 15l': 'helle kylmäarkku',\n",
    "        'helle kylmäarkku 52l': 'helle kylmäarkku',\n",
    "        'hermitag' : 'hermitage',\n",
    "        'hisense international (hong kong) europe investment' : 'hisense',\n",
    "        'hitachi europe' : 'hitachi',\n",
    "        'hotpoint/ariston' : 'hotpoint',\n",
    "        'hæger' : 'haeger',\n",
    "        'ikea of sweden ab' : 'ikea',\n",
    "        'ism makine elektrik san. ve tic. a.s.' : 'ism', \n",
    "        'ism minibar' : 'ism',\n",
    "        'kams sarl' : 'kams',\n",
    "        'kbs gastrotechnik' : 'kbs gastrotechnik', \n",
    "        'kbs gastrotechnink' : 'kbs gastroetechnik', \n",
    "        'kbs-gastrotechnik' : 'kbs gastroetechnik',\n",
    "        'kesser ®' : 'kesser',\n",
    "        'kontinent deluxe' : 'kontinent',\n",
    "        'lamo bd-80u' : 'lamo', \n",
    "        'lamo/pyramidea' : 'lamo',\n",
    "        'lg eelectronics' : 'lg', \n",
    "        'lg electronics' : 'lg',\n",
    "        'life outdoor living' : 'life',\n",
    "        'magira®' : 'magira',\n",
    "        'marshall fridge' : 'marshall',\n",
    "        'midea polska' : 'midea',\n",
    "        'minibar 34l' : 'minibar', \n",
    "        'minibar 34l-gl' : 'minibar', \n",
    "        'minibar alda bc30' : 'minibar', \n",
    "        'minibar alda bc40' : 'minibar',\n",
    "        'minibar enterprises ag' : 'minibar', \n",
    "        'montpellier domestic appliances' : 'montpellier domestic appliance',\n",
    "        'mountfield bcw - 25a' : 'mountfield bcw', \n",
    "        'mountfield bcw - 49' : 'mountfield bcw',\n",
    "        'nara hladilna thenika d.o.o.' : 'nara hladilna tehnika d.o.o.',\n",
    "        'ok.' : 'ok',\n",
    "        'omnitec systems' : 'omnitec',\n",
    "        'penta cz s.r.o.' : 'penta',\n",
    "        'penta cz, s.r.o.' : 'penta',\n",
    "        'qingdao smad electric appliances co' : 'qingdao smad electric appliances',\n",
    "        'severin elektrogräte' : 'severin elektrogeräte',\n",
    "        'signature kitchen suite' : 'signature',\n",
    "        'snaigė' : 'snaige',\n",
    "        'temptech as' : 'temptech',\n",
    "        'thetaco traders' : 'thetaco',\n",
    "        'vestfrost solutions': 'vestfrost',\n",
    "        'vintage industries/gastro-cool' : 'vintage industries / gastro-cool',\n",
    "        'wemo hc30' : 'wemo', \n",
    "        'wemo hc40' : 'wemo',\n",
    "        'xd grandi elettrodomestici' : 'xd',\n",
    "        'burg basic' : 'burg',\n",
    "        'cookers - bompani' : 'cookers', \n",
    "        'cookers - doman' : 'cookers', \n",
    "        'cookers - kontact' : 'cookers', \n",
    "        'cookers - proline' : 'cookers', \n",
    "        'cookers - triomph' : 'cookers', \n",
    "        'cookers kontact' : 'cookers', \n",
    "        'de longhi' : 'de longhi', \n",
    "        \"de'longhi\" : 'de longhi',\n",
    "        'dieter knoll collection' : 'dieter knoll',\n",
    "        'electra +' : 'electra',\n",
    "        'goodhome' : 'good home',\n",
    "        'ovens - jro-pro' : 'juro-pro',\n",
    "        'ovens - juro-pro' : 'juro-pro', \n",
    "        'kingfisher rnational cts limited' : 'kingfisher',\n",
    "        'kontinent deluxe' : 'kontinent',\n",
    "        'lagermania 1882' : 'la germania',\n",
    "        'lg electronics inc.' : 'lg',\n",
    "        'lg electronics' : 'lg',\n",
    "        'lg eelectronics' : 'lg',\n",
    "        'miele & cie. kg' : 'miele & cie kg',\n",
    "        'neue by candy' : 'neue',\n",
    "        'newpol' : 'new pol',\n",
    "        'ok.' : 'ok.',\n",
    "        'whirlpool emea spa' : 'whirlpool',\n",
    "        'aga rangemaster' : 'aga',\n",
    "        'airforce' : 'air force',\n",
    "        'apell spa' : 'apell',\n",
    "        'berbel ablufttechnik' : 'berbel',\n",
    "        'bompani - bompani' :'bompani',\n",
    "        'cata electrodomésticos' : 'cata', \n",
    "        'cata electrodomésticos s.l' : 'cata', \n",
    "        'cata electrodomésticos s.l.' : 'cata', \n",
    "        'ciarko design' :'ciarko',\n",
    "        'corberó' : 'corbero',\n",
    "        'delta 60 bl a evo' : 'delta', \n",
    "        'delta 60 px a evo' : 'delta',\n",
    "        'delta 60 wh a evo' : 'delta',\n",
    "        \"de'longhi\" : \"de'longhi\",\n",
    "        'dieter knoll collection' : 'dieter knoll',\n",
    "        'eurolux by faber' : 'eurolux',\n",
    "        'goodhome' : 'good home',\n",
    "        'husqvarna-electrolux' : 'husqvarna',\n",
    "        'kingfisher rnational cts limited' : 'kingfisher',\n",
    "        'miele & cie kg' : 'miele',\n",
    "        'neue by candy' : 'neue',\n",
    "        'novy panorama power 1841' : 'novy',\n",
    "        'ok.' : 'ok',\n",
    "        'røroshetta' : 'roroshetta',\n",
    "        'silfim' : 'sil fim',\n",
    "        'energia w kogeneracji ewk s.a.' : 'ewk',\n",
    "        'fröling heizkessel- und behälterbau ges.m.b.h.' : 'froling',\n",
    "        'metro therm' : 'metrotherm',\n",
    "        'mitsubishi electric' : 'mitsubishi',\n",
    "        'toshiba carrier corporation' : 'toshiba', \n",
    "        'trademark - remko' : 'remko',\n",
    "        'white eta 90' : 'white eta',\n",
    "        'white eta 180' : 'white eta',\n",
    "        'white eta 160 (13w)' : 'white eta'}"
   ]
  },
  {
   "cell_type": "code",
   "execution_count": 764,
   "metadata": {},
   "outputs": [],
   "source": [
    "def clean_brands():\n",
    "    df['Brand'] = df['Brand'].apply(lambda x: dict[x] if x in dict.keys() else x)"
   ]
  },
  {
   "cell_type": "code",
   "execution_count": 765,
   "metadata": {},
   "outputs": [],
   "source": [
    "clean_brands()"
   ]
  },
  {
   "cell_type": "code",
   "execution_count": 766,
   "metadata": {},
   "outputs": [],
   "source": [
    "def quitar_aux_marcas(aux_marcas, df):\n",
    "    for marca in aux_marcas:\n",
    "        df['Brand'] = df['Brand'].str.replace(marca,'')"
   ]
  },
  {
   "cell_type": "code",
   "execution_count": 787,
   "metadata": {},
   "outputs": [
    {
     "name": "stderr",
     "output_type": "stream",
     "text": [
      "/Library/Frameworks/Python.framework/Versions/3.7/lib/python3.7/site-packages/ipykernel_launcher.py:3: FutureWarning: The default value of regex will change from True to False in a future version.\n",
      "  This is separate from the ipykernel package so we can avoid doing imports until\n",
      "/Library/Frameworks/Python.framework/Versions/3.7/lib/python3.7/site-packages/ipykernel_launcher.py:3: FutureWarning: The default value of regex will change from True to False in a future version. In addition, single character regular expressions will *not* be treated as literal strings when regex=True.\n",
      "  This is separate from the ipykernel package so we can avoid doing imports until\n"
     ]
    }
   ],
   "source": [
    "aux_marcas = [r'\\ufeff\"', r'\\ufeff ', 'a/s','int.','prod.','b.v.',' co.,ltd.', ' / gastro-cool', ' - engel',\n",
    "               'ind.co.,ltd', ' co., ltd', '/ipg31', '/ipb30', '/ipb40', ' ltd.', ' co.', 'zhejiang ',\n",
    "               ' s.r.l.','s.r.o.', ' s.p.a.', ' srl', ' gmbh', '{', '}™', ' s.l.', 'xiamen ', 'xiamen ', ' sp. z o.o.',\n",
    "               ' co.,ltd', ' co. ltd', ' imp.&exp.co.,ltd', ' tech', ' co., limited', 'zhongshan ', ',ltd',\n",
    "               ' e-commerce.', ' s.a.', ' zrt.', ' 2z 40fl', ' 2z 38fl', ' 2z 180fl', ' poland sp. z o. o.', \n",
    "               ' 2z 126fl', ' - engineers of light', ' italia', ' ltd', ' / colors', ' - denmark', ' s.r.l', ' h.gmbh',\n",
    "               ' poland sp. z o. o.', ' 50w', ' 100w', ' 90', ' (europe)  azura', ' s.p.a', ',ltd', ' (europe)  azura']\n",
    "quitar_aux_marcas(aux_marcas, df)"
   ]
  },
  {
   "cell_type": "code",
   "execution_count": 788,
   "metadata": {},
   "outputs": [],
   "source": [
    "df['Brand'] = df['Brand'].apply(lambda x: 'v-zug' if 'v-zug' in x else x)\n",
    "df['Brand'] = df['Brand'].apply(lambda x: 'zafferano' if 'zafferano' in x else x)"
   ]
  },
  {
   "cell_type": "code",
   "execution_count": 789,
   "metadata": {},
   "outputs": [],
   "source": [
    "# def quitar_parentesis(df, column):\n",
    "#     return df[column].apply(lambda x: re.sub(\"[\\(\\[].*?[\\)\\]]\", \"\", x))"
   ]
  },
  {
   "cell_type": "code",
   "execution_count": 790,
   "metadata": {},
   "outputs": [],
   "source": [
    "# df['Brand'] = quitar_parentesis(df, 'Brand')"
   ]
  },
  {
   "cell_type": "code",
   "execution_count": 791,
   "metadata": {},
   "outputs": [],
   "source": [
    "# def quitar_aux_marcas(aux_marcas, df, column):\n",
    "#     for marca in aux_marcas:\n",
    "#         df[column] = df[column].str.replace(marca,'')"
   ]
  },
  {
   "cell_type": "code",
   "execution_count": 792,
   "metadata": {},
   "outputs": [],
   "source": [
    "# quitar_aux_marcas(aux_marcas, df, 'Brand')"
   ]
  },
  {
   "cell_type": "code",
   "execution_count": 793,
   "metadata": {},
   "outputs": [],
   "source": [
    "# print(len(df['Test'].unique()))\n",
    "# print(len(df['Brand'].unique()))"
   ]
  },
  {
   "cell_type": "code",
   "execution_count": 794,
   "metadata": {},
   "outputs": [
    {
     "data": {
      "text/plain": [
       "array(['iberna', 'baumatic', 'siemens', ...,\n",
       "       'enshishisifangshangshangmaoyouxiangongsi', 'lightzz', 'fullosun'],\n",
       "      dtype=object)"
      ]
     },
     "execution_count": 794,
     "metadata": {},
     "output_type": "execute_result"
    }
   ],
   "source": [
    "df['Brand'].unique()"
   ]
  },
  {
   "cell_type": "code",
   "execution_count": 795,
   "metadata": {},
   "outputs": [],
   "source": [
    "list = sorted(df['Brand'].unique(), reverse=True)"
   ]
  }
 ],
 "metadata": {
  "kernelspec": {
   "display_name": "Python 3.7.4 64-bit",
   "language": "python",
   "name": "python3"
  },
  "language_info": {
   "codemirror_mode": {
    "name": "ipython",
    "version": 3
   },
   "file_extension": ".py",
   "mimetype": "text/x-python",
   "name": "python",
   "nbconvert_exporter": "python",
   "pygments_lexer": "ipython3",
   "version": "3.7.4"
  },
  "orig_nbformat": 4,
  "vscode": {
   "interpreter": {
    "hash": "aee8b7b246df8f9039afb4144a1f6fd8d2ca17a180786b69acc140d282b71a49"
   }
  }
 },
 "nbformat": 4,
 "nbformat_minor": 2
}
