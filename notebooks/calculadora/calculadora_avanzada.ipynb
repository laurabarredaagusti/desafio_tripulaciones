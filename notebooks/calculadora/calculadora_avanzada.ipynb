{
 "cells": [
  {
   "cell_type": "code",
   "execution_count": null,
   "metadata": {},
   "outputs": [],
   "source": [
    "precio_1 = # lo que cuesta el aparato 1 en tienda\n",
    "precio_2 = # lo que cuesta el aparato 2 en tienda\n",
    "tiempo = # en años\n",
    "\n",
    "d_1 = # precio que se paga al mes por consumo electrico por el aparato 1. Calculado en la calculadora principal\n",
    "d_1 = # precio que se paga al mes por consumo electrico por el aparato 2. Calculado en la calculadora principal\n",
    "\n",
    "s =  # número de meses de uso al año ---se le solicita al  usuario"
   ]
  },
  {
   "cell_type": "code",
   "execution_count": null,
   "metadata": {},
   "outputs": [],
   "source": [
    "y_1 = precio_1 + d_1 * tiempo  * s \n",
    "y_2 = precio_2 + d_2 * tiempo  * s\n",
    "y_1 = y_2 # nos da el tiempo en el que el dinero gastado es igual para los dos productos, a partir de aquí el producto que costó menos será más barato\n",
    "          # este tiempo es en el que cuestan lo mismo ambos aparatos\n",
    "                    \n",
    "tiempo_coinciden = (precio_1 - precio_2)* (1/(d_2 - d_1)) * (1/s)"
   ]
  },
  {
   "cell_type": "markdown",
   "metadata": {},
   "source": [
    "<h2>función<h2>"
   ]
  },
  {
   "cell_type": "code",
   "execution_count": 19,
   "metadata": {},
   "outputs": [],
   "source": [
    "import numpy as np"
   ]
  },
  {
   "cell_type": "code",
   "execution_count": 33,
   "metadata": {},
   "outputs": [],
   "source": [
    "def calculo_comparacion(precio_1,precio_2, d_1, d_2, s):\n",
    "    lista = []\n",
    "    tiempo_coinciden = (precio_1 - precio_2)* (1/np.abs(d_2 - d_1)) * (1/s)\n",
    "    P_0_1 = (0, precio_1) # punto inicial del aparato 1\n",
    "    P_0_2 = (0, precio_2) # punto inicial del aparato 2\n",
    "    \n",
    "    lista.append(P_0_1)\n",
    "    lista.append(P_0_2)\n",
    "    \n",
    "    if abs(d_2 - d_1) !=0:\n",
    "\n",
    "        P_c = (tiempo_coinciden, precio_2 + d_2 * tiempo_coinciden * s ) # punto de intersección\n",
    "    \n",
    "        lista.append(P_c)\n",
    "    \n",
    "        P_f_1 = (tiempo_coinciden + 2 ,precio_1 + d_1 * (tiempo_coinciden + 2) * s) # punto final del aparato 1\n",
    "        P_f_2 = (tiempo_coinciden + 2, precio_2 + d_2 * (tiempo_coinciden + 2) * s) # punto final del aparato 2\n",
    "    \n",
    "        lista.append(P_f_1)\n",
    "        lista.append(P_f_2)\n",
    "    \n",
    "        return lista\n",
    "    \n",
    "    # lista[0] y lista[1] son los puntos iniciales del aparato 1 y 2 respectivamente\n",
    "    # lista[2] es el punto donde se cortan, es decir donde el precio es el mismo\n",
    "    # lista[3] y lista[4] son los puntos finales del aparato 1 y 2 respectivamente\n",
    "    else:\n",
    "        return 'el aparato más barato siempre tendrá un coste inferior al más caro'\n",
    "\n",
    "\n",
    "    \n",
    "    "
   ]
  },
  {
   "cell_type": "markdown",
   "metadata": {},
   "source": [
    "<h2>ejemplos<h2>"
   ]
  },
  {
   "cell_type": "code",
   "execution_count": 34,
   "metadata": {},
   "outputs": [
    {
     "data": {
      "text/plain": [
       "[(0, 300), (0, 200), (10.0, 700.0), (12.0, 780.0), (12.0, 800.0)]"
      ]
     },
     "execution_count": 34,
     "metadata": {},
     "output_type": "execute_result"
    }
   ],
   "source": [
    "calculo_comparacion(300 , 200, 4, 5, 10)"
   ]
  },
  {
   "cell_type": "code",
   "execution_count": 35,
   "metadata": {},
   "outputs": [
    {
     "name": "stderr",
     "output_type": "stream",
     "text": [
      "c:\\Users\\enriq\\AppData\\Local\\Programs\\Python\\Python37\\lib\\site-packages\\ipykernel_launcher.py:3: RuntimeWarning: divide by zero encountered in long_scalars\n",
      "  This is separate from the ipykernel package so we can avoid doing imports until\n"
     ]
    },
    {
     "data": {
      "text/plain": [
       "'el aparato más barato siempre tendrá un coste inferior al más caro'"
      ]
     },
     "execution_count": 35,
     "metadata": {},
     "output_type": "execute_result"
    }
   ],
   "source": [
    "calculo_comparacion(200 , 300, 5, 5, 10)"
   ]
  }
 ],
 "metadata": {
  "kernelspec": {
   "display_name": "Python 3.7.4 64-bit",
   "language": "python",
   "name": "python3"
  },
  "language_info": {
   "codemirror_mode": {
    "name": "ipython",
    "version": 3
   },
   "file_extension": ".py",
   "mimetype": "text/x-python",
   "name": "python",
   "nbconvert_exporter": "python",
   "pygments_lexer": "ipython3",
   "version": "3.7.4"
  },
  "orig_nbformat": 4,
  "vscode": {
   "interpreter": {
    "hash": "70b38634f151bc788305d78fa55f4f5eb67f51bd92b5405d2063f303c7241f5d"
   }
  }
 },
 "nbformat": 4,
 "nbformat_minor": 2
}
