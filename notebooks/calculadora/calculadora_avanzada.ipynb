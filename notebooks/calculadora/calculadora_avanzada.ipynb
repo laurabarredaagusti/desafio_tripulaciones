{
 "cells": [
  {
   "cell_type": "code",
   "execution_count": 1,
   "metadata": {},
   "outputs": [],
   "source": [
    "import numpy as np"
   ]
  },
  {
   "cell_type": "code",
   "execution_count": 2,
   "metadata": {},
   "outputs": [],
   "source": [
    "def calc_advanced(precio_1,precio_2, gasto_1, gasto_2, n_meses):\n",
    "    '''     \n",
    "    Calculate the crossing point where the most expensive home appliance starts to be cheaper if its \n",
    "    consumption is less.\n",
    "\n",
    "    Args:\n",
    "        precio_1 = price of the first home appliance. (€)\n",
    "        precio_2 = price of the second home appliance. (€)\n",
    "        gasto_1 = cost of the first home appliance in a month. (€)\n",
    "        gasto_2 = cost of the second home appliance in a month. (€)\n",
    "        n_meses = number of months home appliances are used in a year.       \n",
    "\n",
    "    Returns:\n",
    "        Points to graph the consumption of appliances over the years.\n",
    "\n",
    "    '''    \n",
    "    lista = []\n",
    "    \n",
    "    punto_ini_1 = (0, precio_1) # punto inicial del aparato 1\n",
    "    punto_ini_2 = (0, precio_2) # punto inicial del aparato 2\n",
    "    \n",
    "    lista.append(punto_ini_1)\n",
    "    lista.append(punto_ini_2)    \n",
    "    \n",
    "    if precio_1==precio_2 and gasto_1==gasto_2:\n",
    "        tiempo_coinciden = (precio_1 - precio_2) * (1/n_meses)\n",
    "\n",
    "        punto_corte = (tiempo_coinciden, precio_2 + gasto_2 * tiempo_coinciden * n_meses ) # punto de corte\n",
    "    \n",
    "        lista.append(punto_corte)\n",
    "    \n",
    "        punto_fin_1 = (tiempo_coinciden + 2 ,precio_1 + gasto_1 * (tiempo_coinciden + 2) * n_meses) # punto final del aparato 1\n",
    "        punto_fin_2 = (tiempo_coinciden + 2, precio_2 + gasto_2 * (tiempo_coinciden + 2) * n_meses) # punto final del aparato 2\n",
    "    \n",
    "        lista.append(punto_fin_1)\n",
    "        lista.append(punto_fin_2)\n",
    "    \n",
    "        return lista\n",
    "\n",
    "    else:\n",
    "        \n",
    "        tiempo_coinciden = (precio_1 - precio_2)* (1/(gasto_2 - gasto_1)) * (1/n_meses)\n",
    "\n",
    "        punto_corte = (tiempo_coinciden, precio_2 + gasto_2 * tiempo_coinciden * n_meses ) # punto de corte\n",
    "    \n",
    "        lista.append(punto_corte)\n",
    "    \n",
    "        punto_fin_1 = (tiempo_coinciden + 2 ,precio_1 + gasto_1 * (tiempo_coinciden + 2) * n_meses) # punto final del aparato 1\n",
    "        punto_fin_2 = (tiempo_coinciden + 2, precio_2 + gasto_2 * (tiempo_coinciden + 2) * n_meses) # punto final del aparato 2\n",
    "    \n",
    "        lista.append(punto_fin_1)\n",
    "        lista.append(punto_fin_2)\n",
    "    \n",
    "        return lista\n"
   ]
  },
  {
   "cell_type": "code",
   "execution_count": 3,
   "metadata": {},
   "outputs": [],
   "source": [
    "# Datos para ejemplo.\n",
    "# -------------------------------\n",
    "\n",
    "# Datos para calculadora simple\n",
    "consumo_1=0.1640\n",
    "n_hours=4\n",
    "consumo_2=0.2130\n",
    "\n",
    "price_elec=0.18338\n",
    "\n",
    "def cal_kwh(consumption, price_elec, n_hours=24):\n",
    "    n_days_month=(365/12)  # Total days in a month\n",
    "    return consumption * price_elec * n_hours * n_days_month\n",
    "\n",
    "gasto_1=cal_kwh(consumo_1, price_elec, n_hours)\n",
    "gasto_2=cal_kwh(consumo_2, price_elec, n_hours)\n",
    "\n",
    "# Nuevos datos\n",
    "n_meses=12\n",
    "precio_1=799\n",
    "precio_2= 599"
   ]
  },
  {
   "cell_type": "code",
   "execution_count": 4,
   "metadata": {},
   "outputs": [
    {
     "data": {
      "text/plain": [
       "[(0, 799),\n",
       " (0, 599),\n",
       " (15.245058367687815, 1468.3877551020405),\n",
       " (17.245058367687815, 1556.2047695020406),\n",
       " (17.245058367687815, 1582.4427799020405)]"
      ]
     },
     "execution_count": 4,
     "metadata": {},
     "output_type": "execute_result"
    }
   ],
   "source": [
    "# Ejemplo datos de la base de datos (TV)\n",
    "calc_advanced(precio_1,precio_2, gasto_1, gasto_2, n_meses)"
   ]
  },
  {
   "cell_type": "code",
   "execution_count": 5,
   "metadata": {},
   "outputs": [
    {
     "name": "stdout",
     "output_type": "stream",
     "text": [
      "Mayor precio (1), Menor consumo: [(0, 300), (0, 200), (10.0, 700.0), (12.0, 780.0), (12.0, 800.0)]\n",
      "Mayor precio (2), Menor consumo: [(0, 200), (0, 300), (10.0, 700.0), (12.0, 800.0), (12.0, 780.0)]\n",
      "----------------------------------------------------------------------------------------------------\n",
      "----------------------------------------------------------------------------------------------------\n",
      "NUNCA SE CRUZAN\n",
      "Mayor precio (1), Mayor consumo: [(0, 300), (0, 200), (-10.0, -200.0), (-8.0, -100.0), (-8.0, -120.0)]\n",
      "Mayor precio (2), Mayor consumo: [(0, 200), (0, 300), (-10.0, -200.0), (-8.0, -120.0), (-8.0, -100.0)]\n",
      "----------------------------------------------------------------------------------------------------\n",
      "----------------------------------------------------------------------------------------------------\n",
      "SE CRUZAN EN EL PUNTO DE INICIO\n",
      "Mismo precio, diferente consumo (1): [(0, 300), (0, 300), (-0.0, 300.0), (2.0, 400.0), (2.0, 380.0)]\n",
      "Mismo precio, diferente consumo (2): [(0, 300), (0, 300), (0.0, 300.0), (2.0, 380.0), (2.0, 400.0)]\n",
      "----------------------------------------------------------------------------------------------------\n",
      "----------------------------------------------------------------------------------------------------\n",
      "MISMA RECTA\n",
      "Mismo precio, Mismo consumo: [(0, 300), (0, 300), (0.0, 300.0), (2.0, 400.0), (2.0, 400.0)]\n"
     ]
    }
   ],
   "source": [
    "# Ejemplos y pruebas\n",
    "# ------------------\n",
    "# El de mayor precio consume menos\n",
    "print('Mayor precio (1), Menor consumo:',calc_advanced(300 , 200, 4, 5, 10))\n",
    "print('Mayor precio (2), Menor consumo:',calc_advanced(200 , 300, 5, 4, 10))\n",
    "print('-'*100)\n",
    "print('-'*100)\n",
    "# El de mayor precio consume más\n",
    "print('NUNCA SE CRUZAN')\n",
    "print('Mayor precio (1), Mayor consumo:',calc_advanced(300 , 200, 5, 4, 10))\n",
    "print('Mayor precio (2), Mayor consumo:',calc_advanced(200 , 300, 4, 5, 10))\n",
    "print('-'*100)\n",
    "print('-'*100)\n",
    "# Tienen el mismo precio\n",
    "print('SE CRUZAN EN EL PUNTO DE INICIO')\n",
    "print('Mismo precio, diferente consumo (1):',calc_advanced(300 , 300, 5, 4, 10))\n",
    "print('Mismo precio, diferente consumo (2):',calc_advanced(300 , 300, 4, 5, 10))\n",
    "print('-'*100)\n",
    "print('-'*100)\n",
    "# Mismo precio, mismo consumo\n",
    "print('MISMA RECTA')\n",
    "print('Mismo precio, Mismo consumo:',calc_advanced(300 , 300, 5, 5, 10))"
   ]
  }
 ],
 "metadata": {
  "kernelspec": {
   "display_name": "Python 3.7.4 64-bit",
   "language": "python",
   "name": "python3"
  },
  "language_info": {
   "codemirror_mode": {
    "name": "ipython",
    "version": 3
   },
   "file_extension": ".py",
   "mimetype": "text/x-python",
   "name": "python",
   "nbconvert_exporter": "python",
   "pygments_lexer": "ipython3",
   "version": "3.7.4"
  },
  "orig_nbformat": 4,
  "vscode": {
   "interpreter": {
    "hash": "703e8db34bb7cdd00b82a89d91d2e2137d3ce887601c5554b79c7f8766c7193f"
   }
  }
 },
 "nbformat": 4,
 "nbformat_minor": 2
}
