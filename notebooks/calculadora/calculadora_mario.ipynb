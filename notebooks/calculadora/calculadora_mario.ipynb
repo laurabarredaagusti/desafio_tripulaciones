{
 "cells": [
  {
   "cell_type": "code",
   "execution_count": 1,
   "metadata": {},
   "outputs": [],
   "source": [
    "def cal_cycles(consumption, price_elec, n_cycles):\n",
    "    ''' \n",
    "    Calculate the energy consumption and cost of a home appliance in a month by number of uses per week.\n",
    "\n",
    "    Args:\n",
    "        consumption = consumption of the home appliance per cycle (kWh).   \n",
    "        n_cycles = number of uses per week.\n",
    "        price_elec = price of electricity today (kWh).\n",
    "\n",
    "    Returns:\n",
    "        Cost of the home appliance in a month\n",
    "\n",
    "    '''\n",
    "    n_weeks_month=(365/12/7) # Total weeks in a month\n",
    "    return (consumption * price_elec *  n_cycles  * n_weeks_month)"
   ]
  },
  {
   "cell_type": "code",
   "execution_count": 3,
   "metadata": {},
   "outputs": [],
   "source": [
    "def cal_kwh(consumption, price_elec, n_hours=24):\n",
    "    ''' \n",
    "    Calculate the energy consumption and cost of a home appliance in a month by kWh.\n",
    "\n",
    "    Args:\n",
    "        consumption = consumption of the home appliance per hour (kWh).\n",
    "        price_elec = price of electricity today (kWh).\n",
    "        n_hours = total hours of use in a day.\n",
    "\n",
    "    Returns:\n",
    "        Cost of the home appliance in a month\n",
    "\n",
    "    '''\n",
    "    n_days_month=(365/12)  # Total days in a month\n",
    "    return consumption * price_elec * n_hours * n_days_month"
   ]
  }
 ],
 "metadata": {
  "kernelspec": {
   "display_name": "Python 3.7.4 64-bit",
   "language": "python",
   "name": "python3"
  },
  "language_info": {
   "codemirror_mode": {
    "name": "ipython",
    "version": 3
   },
   "file_extension": ".py",
   "mimetype": "text/x-python",
   "name": "python",
   "nbconvert_exporter": "python",
   "pygments_lexer": "ipython3",
   "version": "3.7.4"
  },
  "orig_nbformat": 4,
  "vscode": {
   "interpreter": {
    "hash": "703e8db34bb7cdd00b82a89d91d2e2137d3ce887601c5554b79c7f8766c7193f"
   }
  }
 },
 "nbformat": 4,
 "nbformat_minor": 2
}
