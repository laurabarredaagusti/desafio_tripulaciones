{
 "cells": [
  {
   "cell_type": "code",
   "execution_count": 318,
   "metadata": {},
   "outputs": [],
   "source": [
    "from selenium import webdriver\n",
    "from selenium.webdriver.common.by import By\n",
    "from webdriver_manager.chrome import ChromeDriverManager\n",
    "from bs4 import BeautifulSoup as bs\n",
    "import requests\n",
    "from tqdm import tqdm\n",
    "# import urllib3 # urllib3 es un cliente HTTP potente y fácil de usar para Python.\n",
    "import numpy as np\n",
    "from time import sleep\n",
    "import pandas as pd\n",
    "from selenium.webdriver.common.keys import Keys"
   ]
  },
  {
   "cell_type": "code",
   "execution_count": 319,
   "metadata": {},
   "outputs": [
    {
     "name": "stdout",
     "output_type": "stream",
     "text": [
      "\n"
     ]
    },
    {
     "name": "stderr",
     "output_type": "stream",
     "text": [
      "/Library/Frameworks/Python.framework/Versions/3.7/lib/python3.7/site-packages/ipykernel_launcher.py:1: DeprecationWarning: executable_path has been deprecated, please pass in a Service object\n",
      "  \"\"\"Entry point for launching an IPython kernel.\n"
     ]
    }
   ],
   "source": [
    "driver = webdriver.Chrome(ChromeDriverManager().install())\n",
    "url = 'https://eprel.ec.europa.eu/screen/product/dishwashers2019'\n",
    "driver.get(url)"
   ]
  },
  {
   "cell_type": "code",
   "execution_count": 303,
   "metadata": {},
   "outputs": [],
   "source": [
    "accept_cookies = driver.find_element(By.XPATH, '//*[@id=\"cookie-consent-banner\"]/div/div/div[2]/a[1]')\n",
    "accept_cookies.click()"
   ]
  },
  {
   "cell_type": "code",
   "execution_count": null,
   "metadata": {},
   "outputs": [],
   "source": [
    "open_image = driver.find_element(By.CLASS_NAME, 'class=\"ng-star-inserted\"')\n",
    "open_image.click()"
   ]
  },
  {
   "cell_type": "code",
   "execution_count": 255,
   "metadata": {},
   "outputs": [],
   "source": [
    "url_list = []\n",
    "i = 1"
   ]
  },
  {
   "cell_type": "code",
   "execution_count": 285,
   "metadata": {},
   "outputs": [],
   "source": [
    "details_xpath = '/html/body/app-root/ecl-app-harmonised/main/div/app-search-page/app-search-container/div/div/section/div/app-dishwasher-2019-search-result/app-search-result/ux-block-content/div/app-search-result-item[1]/article/div[1]/div/div/div[3]'\n",
    "details = driver.find_element(By.XPATH, '/html/body/app-root/ecl-app-harmonised/main/div/app-search-page/app-search-container/div/div/section/div/app-dishwasher-2019-search-result/app-search-result/ux-block-content/div/app-search-result-item[1]/article/div[1]/div/div/div[3]')\n",
    "details.click()"
   ]
  },
  {
   "cell_type": "code",
   "execution_count": 261,
   "metadata": {},
   "outputs": [],
   "source": [
    "url = driver.current_url"
   ]
  },
  {
   "cell_type": "code",
   "execution_count": 286,
   "metadata": {},
   "outputs": [],
   "source": [
    "url_list.append(url)"
   ]
  },
  {
   "cell_type": "code",
   "execution_count": 287,
   "metadata": {},
   "outputs": [],
   "source": [
    "go_back = driver.find_element(By.XPATH, '/html/body/app-root/ecl-app-harmonised/ecl-page-header-harmonised/div/div/ecl-breadcrumb-harmonised/nav/ol/ecl-breadcrumb-harmonised-segment[3]/li/a')\n",
    "go_back.click()"
   ]
  },
  {
   "cell_type": "code",
   "execution_count": null,
   "metadata": {},
   "outputs": [],
   "source": [
    "details_xpath = '/html/body/app-root/ecl-app-harmonised/main/div/app-search-page/app-search-container/div/div/section/div/app-dishwasher-2019-search-result/app-search-result/ux-block-content/div/app-search-result-item[2]/article/div[1]/div/div/div[3]'\n",
    "details = driver.find_element(By.XPATH, '/html/body/app-root/ecl-app-harmonised/main/div/app-search-page/app-search-container/div/div/section/div/app-dishwasher-2019-search-result/app-search-result/ux-block-content/div/app-search-result-item[1]/article/div[1]/div/div/div[3]')\n",
    "details.click()"
   ]
  },
  {
   "cell_type": "code",
   "execution_count": 269,
   "metadata": {},
   "outputs": [],
   "source": [
    "url = driver.current_url"
   ]
  },
  {
   "cell_type": "code",
   "execution_count": 270,
   "metadata": {},
   "outputs": [],
   "source": [
    "url_list.append(url)"
   ]
  },
  {
   "cell_type": "code",
   "execution_count": 271,
   "metadata": {},
   "outputs": [
    {
     "data": {
      "text/plain": [
       "['https://eprel.ec.europa.eu/screen/product/dishwashers2019/1297056',\n",
       " 'https://eprel.ec.europa.eu/screen/product/dishwashers2019/1297056']"
      ]
     },
     "execution_count": 271,
     "metadata": {},
     "output_type": "execute_result"
    }
   ],
   "source": [
    "url_list"
   ]
  },
  {
   "cell_type": "code",
   "execution_count": 38,
   "metadata": {},
   "outputs": [],
   "source": [
    "next_page = driver.find_element(By.XPATH, \"//a[contains(text(),'Next')]\")\n",
    "next_page.click()"
   ]
  },
  {
   "cell_type": "code",
   "execution_count": 174,
   "metadata": {},
   "outputs": [],
   "source": [
    "url = driver.current_url"
   ]
  },
  {
   "cell_type": "code",
   "execution_count": 176,
   "metadata": {},
   "outputs": [],
   "source": [
    "i += 1\n",
    "url_list.append(url)"
   ]
  },
  {
   "cell_type": "code",
   "execution_count": 177,
   "metadata": {},
   "outputs": [
    {
     "data": {
      "text/plain": [
       "['https://eprel.ec.europa.eu/screen/product/dishwashers2019/1297056',\n",
       " 'https://eprel.ec.europa.eu/screen/product/dishwashers2019/1297056']"
      ]
     },
     "execution_count": 177,
     "metadata": {},
     "output_type": "execute_result"
    }
   ],
   "source": [
    "url_list"
   ]
  },
  {
   "cell_type": "code",
   "execution_count": 175,
   "metadata": {},
   "outputs": [],
   "source": [
    "go_back = driver.find_element(By.XPATH, '/html/body/app-root/ecl-app-harmonised/ecl-page-header-harmonised/div/div/ecl-breadcrumb-harmonised/nav/ol/ecl-breadcrumb-harmonised-segment[3]/li/a')\n",
    "go_back.click()"
   ]
  },
  {
   "cell_type": "code",
   "execution_count": 300,
   "metadata": {},
   "outputs": [],
   "source": [
    "page_source = driver.page_source\n",
    "soup = bs(page_source, 'lxml')"
   ]
  },
  {
   "cell_type": "code",
   "execution_count": 301,
   "metadata": {},
   "outputs": [],
   "source": [
    "modelos = []\n",
    "modelo = soup.find_all(\"span\", class_=\"ecl-u-type-l ecl-u-type-color-black ecl-u-type-family-alt ecl-u-mt-xs\")\n",
    "for elem in modelo:\n",
    "    elem = elem.text\n",
    "    modelos.append(elem)"
   ]
  },
  {
   "cell_type": "code",
   "execution_count": 311,
   "metadata": {},
   "outputs": [
    {
     "data": {
      "text/plain": [
       "[' IDIH 2L952-80 ',\n",
       " ' BDIH 2L952-80 ',\n",
       " ' SN23HW00ME ',\n",
       " ' SMS4HMI02E ',\n",
       " ' SN23HI00KE ',\n",
       " ' GSP59309-030E weiss ',\n",
       " ' GSP59313-030E weiss ',\n",
       " ' SBT8YC801E ',\n",
       " ' SMT8YC801E ',\n",
       " ' HV662C60 ',\n",
       " ' CF 3E7L0W ',\n",
       " ' CI 3E6L0W ',\n",
       " ' HF 3E7L0W ',\n",
       " ' CI 3E7L0W ',\n",
       " ' TDQR03A ',\n",
       " ' SGV25AX00E ',\n",
       " ' CF 3E9L0W-80 ',\n",
       " ' HV673C61 ',\n",
       " ' GS643D60X ',\n",
       " ' SMS6ECC51E ',\n",
       " ' SBV6ZCX09E ',\n",
       " ' SN23HC60AE ',\n",
       " ' GV693C61AD ',\n",
       " ' HV693C60AD ',\n",
       " ' GS693C60XUVAD ']"
      ]
     },
     "execution_count": 311,
     "metadata": {},
     "output_type": "execute_result"
    }
   ],
   "source": [
    "modelos"
   ]
  },
  {
   "cell_type": "code",
   "execution_count": 302,
   "metadata": {},
   "outputs": [],
   "source": [
    "images = []\n",
    "image = soup.find_all(\"div\", class_=\"ecl-u-d-flex ecl-u-justify-content-end ecl-u-flex-row ng-star-inserted\")\n",
    "for elem in image:\n",
    "    elem = elem.find('img')['src']\n",
    "    elem = 'https://eprel.ec.europa.eu' + elem[2:]\n",
    "    images.append(elem)"
   ]
  },
  {
   "cell_type": "code",
   "execution_count": 303,
   "metadata": {},
   "outputs": [],
   "source": [
    "marcas = []\n",
    "cm = []\n",
    "eco_capacities = []\n",
    "kWh = []\n",
    "dB_A = []\n",
    "\n",
    "dimension_all = soup.find_all(\"span\", class_=\"ecl-u-type-bold\")\n",
    "\n",
    "i_marca = 0\n",
    "for elem in range(25):\n",
    "    marca = dimension_all[i_marca].text\n",
    "    i_marca += 9\n",
    "    marcas.append(marca)\n",
    "\n",
    "i_dimension = 1\n",
    "for elem in range(25):\n",
    "    dimension = dimension_all[i_dimension].text\n",
    "    i_dimension += 9\n",
    "    cm.append(dimension)\n",
    "\n",
    "i_eco_capacity = 3\n",
    "for elem in range(25):\n",
    "    eco_capacity = dimension_all[i_eco_capacity].text\n",
    "    i_eco_capacity += 9\n",
    "    eco_capacities.append(eco_capacity)\n",
    "\n",
    "i_energy_consumption = 5\n",
    "for elem in range(25):\n",
    "    energy_consumption = dimension_all[i_energy_consumption].text\n",
    "    i_energy_consumption += 9\n",
    "    kWh.append(energy_consumption)\n",
    "\n",
    "i_acoustical_noise = 7\n",
    "for elem in range(25):\n",
    "    acoustical_noise = dimension_all[i_acoustical_noise].text\n",
    "    i_acoustical_noise += 9\n",
    "    dB_A.append(acoustical_noise)"
   ]
  },
  {
   "cell_type": "code",
   "execution_count": 304,
   "metadata": {},
   "outputs": [],
   "source": [
    "type = []\n",
    "type = soup.find_all(\"div\", class_=\"ecl-u-flex-grow-1 ecl-u-border-lg-bottom ecl-u-border-style-lg-dotted ecl-u-border-color-lg-grey-15\")\n",
    "\n",
    "cm = type[0].text\n",
    "eco_capacity = type[2].text\n",
    "energy_consumption = type[4].text\n",
    "noise = type[6].text"
   ]
  },
  {
   "cell_type": "code",
   "execution_count": 309,
   "metadata": {},
   "outputs": [],
   "source": [
    "# next_page = driver.find_element(By.CSS_SELECTOR, '/div/app-search-page/app-search-container/div/div/section/div/app-dishwasher-2019-search-result/app-search-result/app-list-pagination/ecl-pagination/nav/ul/ecl-pagination-item[6]/a')\n",
    "# next_page.click()"
   ]
  },
  {
   "cell_type": "code",
   "execution_count": 306,
   "metadata": {},
   "outputs": [
    {
     "name": "stdout",
     "output_type": "stream",
     "text": [
      "25\n"
     ]
    }
   ],
   "source": [
    "print(len(marcas))"
   ]
  },
  {
   "cell_type": "code",
   "execution_count": null,
   "metadata": {},
   "outputs": [],
   "source": [
    "page_source = driver.page_source\n",
    "soup = bs(page_source, 'lxml')"
   ]
  },
  {
   "cell_type": "code",
   "execution_count": 306,
   "metadata": {},
   "outputs": [],
   "source": [
    "url = 'https://eprel.ec.europa.eu/screen/product/dishwashers2019/1297056'"
   ]
  },
  {
   "cell_type": "code",
   "execution_count": 307,
   "metadata": {},
   "outputs": [],
   "source": [
    "driver.get(url)"
   ]
  },
  {
   "cell_type": "code",
   "execution_count": 308,
   "metadata": {},
   "outputs": [],
   "source": [
    "response = requests.get(url)\n",
    "html = response.content\n",
    "soup = bs(html, \"lxml\")"
   ]
  },
  {
   "cell_type": "code",
   "execution_count": 316,
   "metadata": {},
   "outputs": [],
   "source": [
    "modelos = []\n",
    "modelo = soup.find(\"div\", class_=\"ecl-u-flex-grow-1\")\n",
    "# for elem in modelo:\n",
    "#     elem = elem.text\n",
    "#     modelos.append(elem)"
   ]
  },
  {
   "cell_type": "code",
   "execution_count": 317,
   "metadata": {},
   "outputs": [
    {
     "name": "stdout",
     "output_type": "stream",
     "text": [
      "None\n"
     ]
    }
   ],
   "source": [
    "print(modelo)"
   ]
  },
  {
   "cell_type": "code",
   "execution_count": null,
   "metadata": {},
   "outputs": [],
   "source": [
    "class=\"ecl-u-type-l ecl-u-type-color-grey-75 ecl-u-type-family-alt\""
   ]
  }
 ],
 "metadata": {
  "kernelspec": {
   "display_name": "Python 3.7.4 64-bit",
   "language": "python",
   "name": "python3"
  },
  "language_info": {
   "codemirror_mode": {
    "name": "ipython",
    "version": 3
   },
   "file_extension": ".py",
   "mimetype": "text/x-python",
   "name": "python",
   "nbconvert_exporter": "python",
   "pygments_lexer": "ipython3",
   "version": "3.7.4"
  },
  "orig_nbformat": 4,
  "vscode": {
   "interpreter": {
    "hash": "aee8b7b246df8f9039afb4144a1f6fd8d2ca17a180786b69acc140d282b71a49"
   }
  }
 },
 "nbformat": 4,
 "nbformat_minor": 2
}
