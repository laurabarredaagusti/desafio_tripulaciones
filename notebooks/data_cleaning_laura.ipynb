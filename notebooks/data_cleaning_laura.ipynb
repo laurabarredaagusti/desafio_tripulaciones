{
 "cells": [
  {
   "cell_type": "code",
   "execution_count": 102,
   "metadata": {},
   "outputs": [],
   "source": [
    "import pandas as pd\n",
    "import numpy as np"
   ]
  },
  {
   "cell_type": "code",
   "execution_count": 82,
   "metadata": {},
   "outputs": [],
   "source": [
    "df = pd.read_csv('../data_product_groups/localspaceheaters.csv')"
   ]
  },
  {
   "cell_type": "code",
   "execution_count": 85,
   "metadata": {},
   "outputs": [],
   "source": [
    "df.rename(columns={'Type':'Brand', 'Title':'Model', 'Content': 'Direct_heat_output', \n",
    "                   'eclrow4': 'Indirect_heat_output', 'Content6': 'Energy_efficiency_index', 'Image': 'Label'}, inplace=True)\n",
    "\n",
    "df.drop(columns=(['eclrow', 'eclrow3', 'eclrow5']), axis=1, inplace=True)"
   ]
  },
  {
   "cell_type": "code",
   "execution_count": null,
   "metadata": {},
   "outputs": [],
   "source": [
    "def model_brand_label(df):\n",
    "    df['Model'] = df['Model'].apply(lambda x: x.lower())\n",
    "    df['Brand'] = df['Brand'].apply(lambda x: x.lower())\n",
    "    df['Label'] = df['Label'].apply(lambda x: x.rpartition('/')[-1][:-4])\n",
    "    return df"
   ]
  },
  {
   "cell_type": "code",
   "execution_count": null,
   "metadata": {},
   "outputs": [],
   "source": [
    "def model_brand_label(df):\n",
    "    df['Model'] = df['Model'].apply(lambda x: x[1:-1])\n",
    "    df['Brand'] = df['Brand'].apply(lambda x: x[1:-1])\n",
    "    return df"
   ]
  },
  {
   "cell_type": "code",
   "execution_count": 108,
   "metadata": {},
   "outputs": [],
   "source": [
    "df['Brand'] = df['Brand'].replace(' co.,ltd.','')"
   ]
  },
  {
   "cell_type": "code",
   "execution_count": null,
   "metadata": {},
   "outputs": [],
   "source": [
    "df['Brand'] = df['Brand'].apply(lambda x: x[1:-1])"
   ]
  },
  {
   "cell_type": "code",
   "execution_count": null,
   "metadata": {},
   "outputs": [],
   "source": [
    " co.,ltd."
   ]
  },
  {
   "cell_type": "code",
   "execution_count": 109,
   "metadata": {},
   "outputs": [
    {
     "data": {
      "text/plain": [
       "array(['bestar industrial co.,ltd.',\n",
       "       'dongguan luying plastic hardware products co., ltd',\n",
       "       'fulmo/ipg31', 'fulmo/ipb30', 'fulmo/ipb40', 'corbero', 'mcz',\n",
       "       \"l'artistico\", 'hellweg', 'jolly mec', 'freepoint', 'pegaso',\n",
       "       'cadel', 'ravelli', 'jack sealey ltd.', 'strendpro', 'superior',\n",
       "       'piazzetta', 'fireplace', 'innofire', 'stovax', 'edilkamin',\n",
       "       'barbas', 'profile', 'scan', 'josef davidssons',\n",
       "       'leda werk gmbh & co. kg', 'italiana camini', 'nobis', 'focus',\n",
       "       'la nordica', 'tmc s.r.l.', 'thermorossi s.p.a.', 'extraflame',\n",
       "       'unical', 'famar brevetti srl', 'jøtul', 'c&a chama', 'lincar',\n",
       "       'vulcania', 'rüegg cheminée schweiz ag', 'raydan home',\n",
       "       'trimline fires', 'stanley', 'rowi', 'bordelet', 'toyotomi',\n",
       "       'bilberry', 'supra', 'casatelli', 'termovana', 'dff', ' casatelli',\n",
       "       'brisach', 'seguin', 'axis', 'hase', 'aduro', 'gazco',\n",
       "       'lotus heating systems a/s', 'attika', 'rais', 'red', 'amg',\n",
       "       'honest general trading', 'ferlux', 'villager', 'anselmo cola',\n",
       "       'haas+sohn ofentechnik gmbh', 'dedra', 'stover', 'element4',\n",
       "       'a-collection', 'globiz international kft', 'termatech',\n",
       "       'flambiente', 'wiking', 'saey', 'elite', 'es calor',\n",
       "       'tj calefacción ', 'schou company a/s/day',\n",
       "       'toyotomi europe sales b.v. ', 'gazco - gazco', 'palazzetti',\n",
       "       'spartherm feuerungstechnik gmbh', 'royal', 'ferroli', 'bestove',\n",
       "       'aga', 'plamen', 'schiedel', 'syntesy', 'qlima', 'finoptim',\n",
       "       'buderus', ' cadel', 'skantherm gmbh & co. kg', 'esperia',\n",
       "       'solzaima', 'fogosur', 'arce', 'zephir', 'blist d.o.o.',\n",
       "       'fontana calore ', 'tectro', 'artense', 'heator', 'webber',\n",
       "       'rizzoli', 'greithwald', 'firetube', 'dru verwarming b.v.',\n",
       "       'metalfire', 'coolvex', 'kobok spol. s r. o.', 'opus', 'faber',\n",
       "       'ild', 'prity 95', 'austroflamm gmbh', 'well straler', ' mcz',\n",
       "       'last calor', 'warm', 'gralux', 'heta a/s', 'redpod',\n",
       "       'sergio leoni', 'hwam', 'varde ovne a/s', 'bellfires',\n",
       "       'oranier heiztechnik gmbh', 'rc-32 zibro made by toyotomi',\n",
       "       'ardes', 'lc-dx32 zibro made by toyotomi', 'westminster',\n",
       "       'defro spółka z ograniczoną odpowiedzialnością spółka komandytowa ',\n",
       "       'vulcano', 'tmc', 'dal zotto', 'justus gmbh', 'fraschetti',\n",
       "       'hecht motors', 'eco igniz', 'olsberg gmbh - olsberg',\n",
       "       ' la nordica', 'palladium', 'belga stove', 'pellet fire', 'svan',\n",
       "       'globe-fire', \"l'artistico srl\", 'sencys', 'klarstein',\n",
       "       'manufacturas rocal s.a', 'aduro hybrid', 'cozy',\n",
       "       'kobok spol.s.r.o.', 'animo ofen', 'wamsler', 'boru stoves',\n",
       "       'alltrade topo gmbh', 'topo accente gmbh & co. kg', ' gazco',\n",
       "       'rika innovative ofentechnik gmbh', 'tonwerk ', 'trendline',\n",
       "       'henley stoves', 'eva calòr', 'ajjpellet', 'queen', 'centrometal',\n",
       "       'king', 'sunwind gas heater', 'adler', 'foco', 'artel', 'krone',\n",
       "       'kalor', 'tepor', 'canadian stove', 'ganz baukeramik ag',\n",
       "       'lc-30t zibro made by toyotomi', 'max blank gmbh', 'skia design',\n",
       "       'ecotech', 'ctmdesign', 'punto fuoco', 'hunter stoves group',\n",
       "       'tyrola', 'kobok spol.s.r.o', 'efiamma', 'lamborghini caloreclima',\n",
       "       'windhager', 'barbas bellfires bv', 'eider', 'brunner', 'cmg',\n",
       "       'caminetti montegrappa', 'ax technology sp. z o.o. sp.k.',\n",
       "       'eurostove', 'meteor a/s', 'bernhard kaschütz gmbh',\n",
       "       'fogomontanha', ' jøtul', 'eoss', 'morsø jernstøberi a/s',\n",
       "       'kero-sun', 'elledi', 'nergis', 'bullerjan gmbh',\n",
       "       'fondital s.p.a.', 'mertalurgica do eucalipto, lda',\n",
       "       'metalúrgica do eucalipto, lda', 'jd 227', 'heimdall',\n",
       "       'mareli systems', 'sibrand s.r.l.', 'club edition', 'skiva',\n",
       "       'tm001 - caminetti montegrappa', 'termomont toby', 'riello',\n",
       "       'jide', 'dovre', 'atra', '', 'jydepejsen denmark a/s', 'dan skan',\n",
       "       'horus', 'olsberg gmbh - königshütte', ' kobok spol.s.r.o.',\n",
       "       'wodtke gmbh', 'panadero', 'traforart', \"de'longhi\", 'fogo',\n",
       "       'fontana forni ', 'kitchen kamin', 'united', 'house', ' house',\n",
       "       'viking 30', 'cointra', 'barbas bellfires', 'jd 320',\n",
       "       'euromate gmbh', 'kratki.pl', 'ecofox',\n",
       "       'rs-122 zibro made by toyotomi', 'rs-2222 zibro made by toyotomi',\n",
       "       'rs-1220 zibro made by toyotomi', 'maxlor',\n",
       "       'hase kaminofenbau gmbh', 'dovre n.v.',\n",
       "       'ctm ecoenergie domestiche ', 'hamco stoves', 'contura',\n",
       "       'ff concept', ' etna', 'etna', 'tulikivi', 'jacobus', 'campingaz',\n",
       "       'fireplus', 'baeza', 'enter', 'sunwind miniflame gassovn',\n",
       "       'toolland', ' wamsler', 'linnatuli',\n",
       "       'rs-221 zibro made by toyotomi', 'os-50',\n",
       "       'rc-320 zibro made by toyotomi',\n",
       "       'lc-3000 kerosun made by toyotomi',\n",
       "       'rs-240 zibro made by toyotomi', 'rs-29 zibro made by toyotomi',\n",
       "       'kra-106 zibro made by toyotomi', 'lc-130 zibro made by toyotomi',\n",
       "       'rs-2210 toyoset made by toyotomi',\n",
       "       'lc-140 zibro made by toyotomi', 'rs-220 zibro made by toyotomi',\n",
       "       'rs-30 zibro made by toyotomi', 'os-100',\n",
       "       'lc-300 zibro made by toyotomi', 'lc-132 zibro made by toyotomi',\n",
       "       'lc-400 zibro made by toyotomi',\n",
       "       'lc-3010 toyoset made by toyotomi',\n",
       "       'lc-135 zibro made by toyotomi', 'lc-150 zibro made by toyotomi',\n",
       "       'lc-40 zibro made by toyotomi', 'rs-g24 zibro made by toyotomi',\n",
       "       'rc-270 zibro made by toyotomi', 'hm-2200 heatmax',\n",
       "       'rs-2200 kerosun made by toyotomi', 'rs-24 zibro made by toyotomi',\n",
       "       'lc-sl530 zibro made by toyotomi', 'ramotop',\n",
       "       'ksw kachelofen gmbh', ' extraflame', 'thermocet', 'herald',\n",
       "       'termomont', 'atlantic', 'hark gmbh & co kg', 'westfire',\n",
       "       ' palazzetti', 'terma', 'lc-30 zibro made by toyotomi',\n",
       "       'lc-32 zibro made by toyotomi', 'toyotomi europe sales b.v.',\n",
       "       'lotus heating systems a7s', 'parkray consort', 'watt',\n",
       "       'fröling heizkessel- und behälterbau ges.m.b.h.', ' tmc',\n",
       "       'lc-320 zibro made by toyotomi', 'hm-dx32 heatmax',\n",
       "       'barbas belfires bv', 'isc gmbh', 'fogum', 'calideal',\n",
       "       'elite fire', 'axel', ' artel', 'olimpia splendid',\n",
       "       'barbas bellfires ', ' barbas bellfires bv', 'oden 6300', 'stûv',\n",
       "       'eco ideal', 'lc-dx320 zibro made by toyotomi', '3800a',\n",
       "       ' brunner', 'brula gmbh', 'heat design', 'flandria',\n",
       "       ' spartherm feuerungstechnik gmbh', 'hamco heating ltd',\n",
       "       'royal viking', 'trimline', 'smålandsspisen 1896',\n",
       "       'smålandsspisen 28', 'wolfshöher tonwerke gmbh & co.kg', '2000b',\n",
       "       'oranier heiztechnik', 'remko', '3200b'], dtype=object)"
      ]
     },
     "execution_count": 109,
     "metadata": {},
     "output_type": "execute_result"
    }
   ],
   "source": [
    "df['Brand'].unique()"
   ]
  },
  {
   "cell_type": "code",
   "execution_count": null,
   "metadata": {},
   "outputs": [],
   "source": []
  }
 ],
 "metadata": {
  "kernelspec": {
   "display_name": "Python 3.7.4 64-bit",
   "language": "python",
   "name": "python3"
  },
  "language_info": {
   "codemirror_mode": {
    "name": "ipython",
    "version": 3
   },
   "file_extension": ".py",
   "mimetype": "text/x-python",
   "name": "python",
   "nbconvert_exporter": "python",
   "pygments_lexer": "ipython3",
   "version": "3.7.4"
  },
  "orig_nbformat": 4,
  "vscode": {
   "interpreter": {
    "hash": "aee8b7b246df8f9039afb4144a1f6fd8d2ca17a180786b69acc140d282b71a49"
   }
  }
 },
 "nbformat": 4,
 "nbformat_minor": 2
}
